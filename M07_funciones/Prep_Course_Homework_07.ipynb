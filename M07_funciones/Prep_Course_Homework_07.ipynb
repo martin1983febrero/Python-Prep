{
 "cells": [
  {
   "attachments": {},
   "cell_type": "markdown",
   "metadata": {},
   "source": [
    "## Funciones"
   ]
  },
  {
   "attachments": {},
   "cell_type": "markdown",
   "metadata": {},
   "source": [
    "1) Crear una función que reciba un número como parámetro y devuelva True si es primo y False si no lo es"
   ]
  },
  {
   "cell_type": "code",
   "execution_count": 33,
   "metadata": {},
   "outputs": [],
   "source": [
    "#Inicio con FUNCIONES!!!! ---- DEF --- p/ definir funciones\n",
    "\n",
    "# DOCUMENTACIÓN DE FUNCIONES ---- DOCSTRING ---- CON ''' '''\n",
    "\n",
    "\n",
    "def funcion_1(valor): # va sin =\n",
    "    '''\n",
    "    DOCUMENTACIÓN DE funcion_1\n",
    "\n",
    "    Sirve para determinar si un número es primo\n",
    "\n",
    "    Debería devolver True o False\n",
    "\n",
    "    '''\n",
    "    primo = True\n",
    "    for i in range(2,valor): # Me daba error porque en ves de for puse otro if :)\n",
    "        if valor % i == 0: # Quiere decir que si existe divisor intermedio, además del divisor 1 y el número, entonces no será primo\n",
    "            primo = False            \n",
    "    return(primo)\n"
   ]
  },
  {
   "cell_type": "code",
   "execution_count": 50,
   "metadata": {},
   "outputs": [
    {
     "data": {
      "text/plain": [
       "False"
      ]
     },
     "execution_count": 50,
     "metadata": {},
     "output_type": "execute_result"
    }
   ],
   "source": [
    "funcion_1(8) # No me salia el comando porque había puesto if en vez de for :)"
   ]
  },
  {
   "attachments": {},
   "cell_type": "markdown",
   "metadata": {},
   "source": [
    "2) Utilizando la función del punto 1, realizar otra función que reciba de parámetro una lista de números y devuelva sólo aquellos que son primos en otra lista"
   ]
  },
  {
   "cell_type": "code",
   "execution_count": 58,
   "metadata": {},
   "outputs": [
    {
     "data": {
      "text/plain": [
       "[2]"
      ]
     },
     "execution_count": 58,
     "metadata": {},
     "output_type": "execute_result"
    }
   ],
   "source": [
    "def funcion_2 (lista): \n",
    "    lista_nueva=[]  # Se define dentro de la función, no fuera\n",
    "    for valor in lista:\n",
    "        if funcion_1(valor)==True: #Si da True quiere decir que el número es primo\n",
    "            lista_nueva.append(valor)\n",
    "    return lista_nueva\n",
    "\n",
    "funcion_2 ([2,4,6,8,10])"
   ]
  },
  {
   "cell_type": "code",
   "execution_count": null,
   "metadata": {},
   "outputs": [],
   "source": [
    "# Tarea: me falta asegurarme que los datos que ingresen sean los correctos"
   ]
  },
  {
   "attachments": {},
   "cell_type": "markdown",
   "metadata": {},
   "source": [
    "3) Crear una función que al recibir una lista de números, devuelva el que más se repite y cuántas veces lo hace. Si hay más de un \"más repetido\", que devuelva cualquiera"
   ]
  },
  {
   "cell_type": "code",
   "execution_count": 68,
   "metadata": {},
   "outputs": [],
   "source": [
    "'''\n",
    "# En M5 ví COUNT:\n",
    "\n",
    "COUNT - Cuenta las veces que un elemento está en una lista. ----- print(nombre_variable.count(valor))\n",
    "\n",
    "print(lista_punto_1.count('Mar del Plata'))\n",
    "print(lista_punto_1.count('Ciudad_inexixtente'))\n",
    "\n",
    "'''\n",
    "\n",
    "def funcion_mas_repite (lista_numeros):\n",
    "    contador=0\n",
    "    #for a,b in lista_numeros.enumerate():\n",
    "    for a,b in enumerate(lista_numeros):\n",
    "        if lista_numeros.count(b) > contador:\n",
    "            print(lista_numeros.count(b))\n",
    "            contador = lista_numeros.count(b)\n",
    "            ubicacion = a\n",
    "        else:\n",
    "            pass\n",
    "\n",
    "    return (contador, ubicacion)\n",
    "\n",
    "# funcion_mas_repite (4) ---- me da ERROR\n",
    "# EN CLASE vi que instalando una libreria se soluciona ---- from collections import Counter\n"
   ]
  },
  {
   "cell_type": "code",
   "execution_count": 78,
   "metadata": {},
   "outputs": [
    {
     "name": "stdout",
     "output_type": "stream",
     "text": [
      "Counter({5: 5, 1: 2, 2: 2, 6: 2, 4: 2, 3: 1, 8: 1, 54: 1, 656: 1})\n"
     ]
    },
    {
     "data": {
      "text/plain": [
       "1"
      ]
     },
     "execution_count": 78,
     "metadata": {},
     "output_type": "execute_result"
    }
   ],
   "source": [
    "# SUPER AYUDA instalando UNA LIBRERIA ---- CLASE COUNTER - (Ya que COUNT no me sirve para este ejercicio)\n",
    "# pip install collections (actualicé pip) --- luego ---> from collections import Counter (com mayúscula por ser CLASE)\n",
    "\n",
    "listada=[1,3,5,8,2,5,6,1,4,5,2,4,5,6,54,656,5]\n",
    "\n",
    "from collections import Counter\n",
    "\n",
    "Counter(listada)  # Nos pone en una lista el elemento y cuantas veces aparece en una lista o tupla\n",
    "\n",
    "#--------------------------------SEGUNDO----------------------------------\n",
    "# Meto en una libreria lo que me aporta COUNTER\n",
    "\n",
    "dic_salida_counter = Counter(listada) #para poder buscar dentro cuál está más repetido\n",
    "print(dic_salida_counter)\n",
    "#--------------------------------TERCERO----------------------------------\n",
    "# MÉTODO GET\n",
    "dic_salida_counter.get(656) #me entrega cuantas veces sale en la lista"
   ]
  },
  {
   "cell_type": "code",
   "execution_count": 88,
   "metadata": {},
   "outputs": [
    {
     "data": {
      "text/plain": [
       "(5, 5)"
      ]
     },
     "execution_count": 88,
     "metadata": {},
     "output_type": "execute_result"
    }
   ],
   "source": [
    "# IMPORTANTE --- hasta ahora, EL EJERCICIO QUE MÁS ME COSTÓ!!!\n",
    "# MODA --- es el valor que más se repite --- con COUNTER + MAX + GET\n",
    "\n",
    "# [1,3,5,8,2,5,6,1,4,5,2,4,5,6,54,656,5] será la lista a ingresar en func()\n",
    "\n",
    "def func_moda(list):\n",
    "        dic_counter = Counter(list) # SE VERÁ: Counter({5: 5, 1: 2, 2: 2, 6: 2, 4: 2, 3: 1, 8: 1, 54: 1, 656: 1})\n",
    "        mas_repetido = max(dic_counter, key = dic_counter.get)\n",
    "        cuantas = dic_counter[mas_repetido]\n",
    "        return  mas_repetido, cuantas #Salida: (5,5)\n",
    "        # Si luego de RETURN coloco:\n",
    "        # print(f'El número más repetido en la lista es el {mas_repetido} y se repitió {cuantas} veces')\n",
    "        # Salida: El número más repetido en la lista es el 5 y se repitió 5 veces\n",
    "        # Con el RETURN se termino la función\n",
    "lista_prueba = [1,3,5,8,2,5,6,1,4,5,2,4,5,6,54,656,5]\n",
    "\n",
    "func_moda(lista_prueba) # Rta: (5,5)"
   ]
  },
  {
   "attachments": {},
   "cell_type": "markdown",
   "metadata": {},
   "source": [
    "4) Crear una función que convierta entre grados Celsius, Farenheit y Kelvin<br>\n",
    "Fórmula 1\t: (°C × 9/5) + 32 = °F<br>\n",
    "Fórmula 2\t: °C + 273.15 = °K<br>\n",
    "Debe recibir 3 parámetros: el valor, la medida de orígen y la medida de destino\n"
   ]
  },
  {
   "cell_type": "code",
   "execution_count": 95,
   "metadata": {},
   "outputs": [
    {
     "data": {
      "text/plain": [
       "1"
      ]
     },
     "execution_count": 95,
     "metadata": {},
     "output_type": "execute_result"
    }
   ],
   "source": [
    "def funcion_temp(valor, origen, destino):\n",
    "    \n",
    "    if origen == 'Celsius':\n",
    "        if destino == 'Farenheit':\n",
    "            celcius_farenheit = (valor * (9/5)) + 32\n",
    "            rta = celcius_farenheit\n",
    "        elif destino == 'Kelvin':\n",
    "            celsius_kelvin = valor + 273.15\n",
    "            rta = celsius_kelvin\n",
    "        else:\n",
    "            celsius_celsius = valor\n",
    "            rta = celsius_celsius\n",
    "    \n",
    "    if origen == 'Farenheit':\n",
    "        if destino == 'Celsius':\n",
    "            farenheit_celsius = (valor -32) * (5/9)\n",
    "            rta = farenheit_celsius\n",
    "        elif destino == 'Kelvin':\n",
    "            farenheit_kelvin = ((valor -32) * (5/9)) + 273.15\n",
    "            rta = farenheit_kelvin\n",
    "        else:\n",
    "            farenheit_farenheit = valor\n",
    "            rta = farenheit_farenheit\n",
    "    \n",
    "    if origen == 'Kelvin':\n",
    "        if destino == 'Celsius':\n",
    "            kelvin_celsius = valor - 273.15\n",
    "            rta = kelvin_celsius\n",
    "        elif destino == 'Farenheit':\n",
    "            kelvin_farenheit = ((valor - 273.15) * (9/5)) + 32\n",
    "            rta = kelvin_farenheit\n",
    "        else:\n",
    "            kelvin_kelvin = valor\n",
    "            rta = kelvin_kelvin\n",
    "    return rta\n",
    "\n",
    "funcion_temp(1, 'Farenheit', 'Farenheit')"
   ]
  },
  {
   "attachments": {},
   "cell_type": "markdown",
   "metadata": {},
   "source": [
    "5) Iterando una lista con los tres valores posibles de temperatura que recibe la función del punto 5, hacer un print para cada combinación de los mismos:"
   ]
  },
  {
   "cell_type": "code",
   "execution_count": 99,
   "metadata": {},
   "outputs": [
    {
     "name": "stdout",
     "output_type": "stream",
     "text": [
      "1 grado Celsius en grado Celsius es 1\n",
      "1 grado Celsius en grado Farenheit es 33.8\n",
      "1 grado Celsius en grado Kelvin es 274.15\n",
      "1 grado Farenheit en grado Celsius es -17.22222222222222\n",
      "1 grado Farenheit en grado Farenheit es 1\n",
      "1 grado Farenheit en grado Kelvin es 255.92777777777775\n",
      "1 grado Kelvin en grado Celsius es -272.15\n",
      "1 grado Kelvin en grado Farenheit es -457.86999999999995\n",
      "1 grado Kelvin en grado Kelvin es 1\n"
     ]
    }
   ],
   "source": [
    "tres_valores = ['Celsius', 'Farenheit', 'Kelvin']\n",
    "for orden_a in range (0,3): # Tuve error por poner (0:3) en ves de (0,3)\n",
    "    for orden_b in range (0,3): # Tuve error por poner (0:3) en ves de (0,3)\n",
    "        print (f'1 grado {tres_valores[orden_a]} en grado {tres_valores[orden_b]} es {funcion_temp(1,tres_valores[orden_a], tres_valores[orden_b])}')"
   ]
  },
  {
   "attachments": {},
   "cell_type": "markdown",
   "metadata": {},
   "source": [
    "6) Armar una función que devuelva el factorial de un número. Tener en cuenta que el usuario puede equivocarse y enviar de parámetro un número no entero o negativo"
   ]
  },
  {
   "cell_type": "code",
   "execution_count": 121,
   "metadata": {},
   "outputs": [
    {
     "name": "stdout",
     "output_type": "stream",
     "text": [
      "El factorial es 120\n"
     ]
    }
   ],
   "source": [
    "#FUNCIÓN FACTORIAL --- no hay casi diferencia a FACTORIAL anterior salvo el RETURN\n",
    "\n",
    "def func_factorial(n):\n",
    "    if (type(n) == int):\n",
    "        if (n > 0):\n",
    "            factorial = n\n",
    "            while (n>2):\n",
    "                n = n - 1\n",
    "                factorial = factorial * n\n",
    "            return print('El factorial es', factorial) # me daba error (Fac de 5 = 20) porque estaba return corrido a la derecha\n",
    "        elif n == 0:\n",
    "            return print('El factorial de 0 por definición es 0')\n",
    "        else:\n",
    "            return print('La variable no es mayor a cero')\n",
    "    else:\n",
    "        return print('La variable no es un entero')\n",
    "    \n",
    "func_factorial(5)"
   ]
  },
  {
   "cell_type": "markdown",
   "metadata": {},
   "source": [
    "Adicional: Función LAMDA"
   ]
  },
  {
   "cell_type": "code",
   "execution_count": 123,
   "metadata": {},
   "outputs": [
    {
     "data": {
      "text/plain": [
       "5"
      ]
     },
     "execution_count": 123,
     "metadata": {},
     "output_type": "execute_result"
    }
   ],
   "source": [
    "sumar = lambda x,y : x + y  # van : --- un entonces\n",
    "\n",
    "sumar(2,3)"
   ]
  },
  {
   "cell_type": "code",
   "execution_count": null,
   "metadata": {},
   "outputs": [],
   "source": []
  },
  {
   "cell_type": "code",
   "execution_count": null,
   "metadata": {},
   "outputs": [],
   "source": []
  },
  {
   "cell_type": "code",
   "execution_count": null,
   "metadata": {},
   "outputs": [],
   "source": []
  }
 ],
 "metadata": {
  "interpreter": {
   "hash": "c85384e4cb51c8b72350f3a8712cc8351fdc3955e32a27f9b60c6242ab125f01"
  },
  "kernelspec": {
   "display_name": "Python 3 (ipykernel)",
   "language": "python",
   "name": "python3"
  },
  "language_info": {
   "codemirror_mode": {
    "name": "ipython",
    "version": 3
   },
   "file_extension": ".py",
   "mimetype": "text/x-python",
   "name": "python",
   "nbconvert_exporter": "python",
   "pygments_lexer": "ipython3",
   "version": "3.11.6"
  }
 },
 "nbformat": 4,
 "nbformat_minor": 4
}
