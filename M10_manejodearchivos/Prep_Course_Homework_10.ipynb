{
 "cells": [
  {
   "cell_type": "markdown",
   "metadata": {},
   "source": [
    "## Entrada / Salida"
   ]
  },
  {
   "cell_type": "markdown",
   "metadata": {},
   "source": [
    "Comando INPUT"
   ]
  },
  {
   "cell_type": "code",
   "execution_count": 13,
   "metadata": {},
   "outputs": [
    {
     "name": "stdout",
     "output_type": "stream",
     "text": [
      "Azul\n",
      "Respuesta INCORRECTA\n"
     ]
    }
   ],
   "source": [
    "color = input('¿Cuál es tú color favorito?')\n",
    "            #Pantalla: ¿Cuál es tú color favorito? Azul\n",
    "print(color)\n",
    "            # Azul\n",
    "nro = input ('¿Cuál es el doble de 3?:')\n",
    "            #¿Cuál es el doble de 3?: 6\n",
    "if (int(nro) == 6):\n",
    "    print('Respuesta CORRECTA')\n",
    "else:\n",
    "    print('Respuesta INCORRECTA')"
   ]
  },
  {
   "cell_type": "code",
   "execution_count": 11,
   "metadata": {},
   "outputs": [
    {
     "name": "stdout",
     "output_type": "stream",
     "text": [
      "Puede ingresar\n"
     ]
    }
   ],
   "source": [
    "edad = int(input('Ingrese su edad: ') )\n",
    "#imput entrega un string, entonces pongo adelante int asi lo convierte\n",
    "if edad >= 18:\n",
    "    print('Puede ingresar')\n",
    "else:\n",
    "    print('Eres menos, no podés ingresar')\n"
   ]
  },
  {
   "cell_type": "markdown",
   "metadata": {},
   "source": [
    "Salidas (tres maneras distintas)"
   ]
  },
  {
   "cell_type": "code",
   "execution_count": 20,
   "metadata": {},
   "outputs": [
    {
     "name": "stdout",
     "output_type": "stream",
     "text": [
      "Me llamo Martín Correa, tengo 41 años y soy residente de Argentina: True\n",
      "Me llamo Martin Correa, tengo 41 años y soy residente de Argentina: True\n",
      "Me llamo Martin Correa, tengo 41 años y soy residente de Argentina: True\n"
     ]
    }
   ],
   "source": [
    "nombre = 'Martin'\n",
    "apellido = 'Correa'\n",
    "edad = 41\n",
    "residente_argentina = True\n",
    "\n",
    "print('Me llamo Martín Correa, tengo 41 años y soy residente de Argentina: True')\n",
    "print(f'Me llamo {nombre} {apellido}, tengo {edad} años y soy residente de Argentina: {residente_argentina}')\n",
    "print('Me llamo %s %s, tengo %d años y soy residente de Argentina: %r' %(nombre, apellido, edad, residente_argentina))\n"
   ]
  },
  {
   "cell_type": "markdown",
   "metadata": {},
   "source": [
    "Libreria SYS"
   ]
  },
  {
   "cell_type": "code",
   "execution_count": 15,
   "metadata": {},
   "outputs": [
    {
     "name": "stdout",
     "output_type": "stream",
     "text": [
      "Error: Introdujo una cantidad de argumentos distinto de tres.\n",
      "Ejemplo: python clase_ej10_martin.py 1 2 3\n"
     ]
    }
   ],
   "source": [
    "import sys\n",
    "\n",
    "if len(sys.argv) == 4:\n",
    "    print('El primer argumento es:'. sys.argv[1])\n",
    "    print('El segundo argumento es:'. sys.argv[2])\n",
    "    print('El tercer argumento es:'. sys.argv[3])\n",
    "else:\n",
    "    print('Error: Introdujo una cantidad de argumentos distinto de tres.')\n",
    "    print('Ejemplo: python clase_ej10_martin.py 1 2 3')"
   ]
  },
  {
   "cell_type": "code",
   "execution_count": null,
   "metadata": {},
   "outputs": [],
   "source": [
    "#Este ejemplo no me salió\n",
    "\n",
    "import sys \n",
    "\n",
    "print(f'El nombre del archivo es {sys.argv[0]}') #El argumento cero es el nombre del archivo\n",
    "print(f'Hola{sys.argv[1]}. Pon una calificación: {sys.argv[2]}')"
   ]
  },
  {
   "cell_type": "markdown",
   "metadata": {},
   "source": [
    "Abrir archivo con OPEN + w (escritura)"
   ]
  },
  {
   "cell_type": "code",
   "execution_count": 6,
   "metadata": {},
   "outputs": [],
   "source": [
    "#No hace falta crear el archivo (datos_martin.txt), al ejecutar, lo crea\n",
    "\n",
    "import os #Libreria para manipular archivos y carpetas\n",
    "lineas_archivo = ['Esto es un archivo de ejemplo', '2da linea', 'Tercera linea']\n",
    "archivo = open('datos_martin.txt', 'w')\n",
    "for linea in lineas_archivo:\n",
    "    archivo.write(linea + '\\n')\n",
    "\n",
    "archivo.close()"
   ]
  },
  {
   "cell_type": "markdown",
   "metadata": {},
   "source": [
    "Abrir archivo con OPEN + r (lectura)"
   ]
  },
  {
   "cell_type": "code",
   "execution_count": 5,
   "metadata": {},
   "outputs": [
    {
     "name": "stdout",
     "output_type": "stream",
     "text": [
      "Esto es un archivo de ejemplo\n",
      "\n",
      "2da linea\n",
      "\n",
      "Tercera linea\n",
      "\n"
     ]
    }
   ],
   "source": [
    "import os #Libreria para manipular archivos y carpetas\n",
    "archivo = open('datos_martin.txt', 'r')\n",
    "for linea in archivo:\n",
    "    print(linea)\n",
    "archivo.close()\n"
   ]
  },
  {
   "cell_type": "markdown",
   "metadata": {},
   "source": [
    "1) Crear un script con el nombre \"clase09_ej1.py\" que reciba 3 parametros a elección, verificando que sean exactamente esa cantidad, y muestre como salida los parámetros recibidos"
   ]
  },
  {
   "cell_type": "code",
   "execution_count": 7,
   "metadata": {},
   "outputs": [],
   "source": [
    "import os #Libreria para manipular archivos y carpetas\n",
    "\n",
    "lineas_archivo = ['Parámetro 1', 'Parámetro 2', 'Parámetro 3']\n",
    "archivo = open('clase10_martin_ej1.py', 'w')\n",
    "for linea in lineas_archivo:\n",
    "    archivo.write(linea + '\\n') # \\ con alt + 92\n",
    "\n",
    "archivo.close()"
   ]
  },
  {
   "cell_type": "code",
   "execution_count": 8,
   "metadata": {},
   "outputs": [
    {
     "name": "stdout",
     "output_type": "stream",
     "text": [
      "Parámetro 1\n",
      "\n",
      "Parámetro 2\n",
      "\n",
      "Parámetro 3\n",
      "\n"
     ]
    }
   ],
   "source": [
    "archivo = open('clase10_martin_ej1.py', 'r')\n",
    "for linea in archivo:\n",
    "    print(linea)\n",
    "archivo.close()"
   ]
  },
  {
   "cell_type": "markdown",
   "metadata": {},
   "source": [
    "2) Crear un script con el nombre \"clase09_ej2.py2\" que reciba como un valor de temperatura en grados centígrados, un valor de humedad y por último si llovio (Con True o False). Y que cada vez que sea invocado, cargue en el archivo provisto \"clase09_ej2.csv\" una marca de tiempo y esa información."
   ]
  },
  {
   "cell_type": "code",
   "execution_count": null,
   "metadata": {},
   "outputs": [],
   "source": []
  },
  {
   "cell_type": "markdown",
   "metadata": {},
   "source": [
    "Para trabajar con tipos de datos relacionados con la medición del tiempo, como ser fechas, horarios o marcas de tiempo se puede utilizar la clase *datetime*"
   ]
  },
  {
   "cell_type": "code",
   "execution_count": null,
   "metadata": {},
   "outputs": [],
   "source": []
  },
  {
   "cell_type": "markdown",
   "metadata": {},
   "source": [
    "3) Crear un archivo a partir de los datos presentes en el diccionario provisto. El cual debe contener en la primera fila el nombre de las claves y luego cada línea los elementos i-ésimos de las listas de valores contiguos y separados por coma ','. Este archivo debe llamarse clase09_ej3.csv"
   ]
  },
  {
   "cell_type": "code",
   "execution_count": null,
   "metadata": {},
   "outputs": [],
   "source": []
  },
  {
   "cell_type": "markdown",
   "metadata": {},
   "source": [
    "4) Mostrar el tamaño en MB del archivo generado en el punto 3"
   ]
  },
  {
   "cell_type": "code",
   "execution_count": null,
   "metadata": {},
   "outputs": [],
   "source": []
  },
  {
   "cell_type": "markdown",
   "metadata": {},
   "source": [
    "5) Crear una carpeta llamada clase09_montañas_altas"
   ]
  },
  {
   "cell_type": "code",
   "execution_count": null,
   "metadata": {},
   "outputs": [],
   "source": []
  },
  {
   "cell_type": "markdown",
   "metadata": {},
   "source": [
    "6) Copiar el archivo clase09_ej3.scv en la carpeta clase09_montañas_altas usando la sentencia **os.system**"
   ]
  },
  {
   "cell_type": "code",
   "execution_count": null,
   "metadata": {},
   "outputs": [],
   "source": []
  },
  {
   "cell_type": "markdown",
   "metadata": {},
   "source": [
    "7) Listar el contenido de la carpeta clase09_montañas_altas"
   ]
  },
  {
   "cell_type": "code",
   "execution_count": null,
   "metadata": {},
   "outputs": [],
   "source": []
  }
 ],
 "metadata": {
  "interpreter": {
   "hash": "c85384e4cb51c8b72350f3a8712cc8351fdc3955e32a27f9b60c6242ab125f01"
  },
  "kernelspec": {
   "display_name": "Python 3 (ipykernel)",
   "language": "python",
   "name": "python3"
  },
  "language_info": {
   "codemirror_mode": {
    "name": "ipython",
    "version": 3
   },
   "file_extension": ".py",
   "mimetype": "text/x-python",
   "name": "python",
   "nbconvert_exporter": "python",
   "pygments_lexer": "ipython3",
   "version": "3.11.6"
  }
 },
 "nbformat": 4,
 "nbformat_minor": 4
}
