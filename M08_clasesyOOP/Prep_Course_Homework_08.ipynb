{
 "cells": [
  {
   "attachments": {},
   "cell_type": "markdown",
   "metadata": {},
   "source": [
    "## Clases y Programación Orientada a Objetos"
   ]
  },
  {
   "attachments": {},
   "cell_type": "markdown",
   "metadata": {},
   "source": [
    "1) Crear la clase vehículo que contenga los atributos:<br>\n",
    "Color<br>\n",
    "Si es moto, auto, camioneta ó camión<br>\n",
    "Cilindrada del motor"
   ]
  },
  {
   "cell_type": "code",
   "execution_count": 3,
   "metadata": {},
   "outputs": [],
   "source": [
    "# PARTE (A) --- Definir los ATRIBUTOS\n",
    "\n",
    "class Vehiculo():\n",
    "    def __init__(self,color,tipo,cilindrada):\n",
    "        self.color = color\n",
    "        self.tipo = tipo\n",
    "        self.cilindrada = cilindrada"
   ]
  },
  {
   "attachments": {},
   "cell_type": "markdown",
   "metadata": {},
   "source": [
    "2) A la clase Vehiculo creada en el punto 1, agregar los siguientes métodos:<br>\n",
    "Acelerar<br>\n",
    "Frenar<br>\n",
    "Doblar<br>"
   ]
  },
  {
   "cell_type": "code",
   "execution_count": 25,
   "metadata": {},
   "outputs": [],
   "source": [
    "# PARTE (B) --- Definir los MÉTODOS (Acciones)\n",
    "\n",
    "class Vehiculo():\n",
    "    def __init__(self,color,tipo,cilindrada):\n",
    "        self.color = color\n",
    "        self.tipo = tipo\n",
    "        self.cilindrada = cilindrada\n",
    "        self.velocidad= 0\n",
    "        self.grados= 0\n",
    "\n",
    "    def acelerar(self,veloc): # No corría el programa porque def estaba corrido a la derecha (van DEF debajo de DEF)\n",
    "        self.velocidad += veloc\n",
    "\n",
    "    def frenar(self,veloc):\n",
    "        self.velocidad -= veloc\n",
    "\n",
    "    def doblar(self,grad):\n",
    "        self.grados += grad\n"
   ]
  },
  {
   "attachments": {},
   "cell_type": "markdown",
   "metadata": {},
   "source": [
    "3) Instanciar 3 objetos de la clase vehículo y ejecutar sus métodos, probar luego el resultado"
   ]
  },
  {
   "cell_type": "code",
   "execution_count": 26,
   "metadata": {},
   "outputs": [],
   "source": [
    "# PARTE (C) --- INSTANCIAR/OBJETOS\n",
    "\n",
    "vehiculo_1 = Vehiculo(\"rojo\",\"auto\",\"1000 cc\")\n",
    "vehiculo_2 = Vehiculo(\"verde\",\"moto\",\"100 cc\")\n",
    "vehiculo_3 = Vehiculo(\"amarillo\",\"camion\",\"3000 cc\")"
   ]
  },
  {
   "cell_type": "code",
   "execution_count": 27,
   "metadata": {},
   "outputs": [],
   "source": [
    "# Ejecuto sus MÉTODOS ---- uso . no =\n",
    "\n",
    "vehiculo_1.acelerar(10)\n",
    "vehiculo_2.acelerar(20)\n",
    "vehiculo_3.acelerar(30)\n",
    "\n",
    "vehiculo_1.frenar(5)\n",
    "vehiculo_2.frenar(15)\n",
    "vehiculo_3.frenar(25)\n",
    "\n",
    "vehiculo_1.doblar(1)\n",
    "vehiculo_2.doblar(2)\n",
    "vehiculo_3.doblar(3)"
   ]
  },
  {
   "attachments": {},
   "cell_type": "markdown",
   "metadata": {},
   "source": [
    "4) Agregar a la clase Vehiculo, un método que muestre su estado, es decir, a que velocidad se encuentra y su dirección. Y otro método que muestre color, tipo y cilindrada"
   ]
  },
  {
   "cell_type": "code",
   "execution_count": 39,
   "metadata": {},
   "outputs": [],
   "source": [
    "class Vehiculo():\n",
    "    def __init__(self,color,tipo,cilindrada):\n",
    "        self.color = color\n",
    "        self.tipo = tipo\n",
    "        self.cilindrada = cilindrada\n",
    "        self.velocidad= 0\n",
    "        self.grados= 0\n",
    "\n",
    "    def acelerar(self,veloc): # No corría el programa porque def estaba corrido a la derecha (van DEF debajo de DEF)\n",
    "        self.velocidad += veloc\n",
    "\n",
    "    def frenar(self,veloc):\n",
    "        self.velocidad -= veloc\n",
    "\n",
    "    def doblar(self,grad):\n",
    "        self.grados += grad\n",
    "\n",
    "    def estado(self):\n",
    "        print(f\"El vehículo circula a {self.velocidad} km/h y está girando {self.grados} grados\") #Va self.-------\n",
    "    \n",
    "    def caract(self):\n",
    "        print(f\"El vehículo es {self.color}, es del tipo {self.tipo} y su cilindrada es de {self.cilindrada} cc\") #Va self.-------\n",
    "\n",
    "    "
   ]
  },
  {
   "cell_type": "code",
   "execution_count": 44,
   "metadata": {},
   "outputs": [
    {
     "name": "stdout",
     "output_type": "stream",
     "text": [
      "El vehículo es rojo, es del tipo auto y su cilindrada es de 1000 cc cc\n",
      "El vehículo circula a 0 km/h y está girando 0 grados\n",
      "El vehículo circula a -10 km/h y está girando 5 grados\n"
     ]
    }
   ],
   "source": [
    "# PARTE D y E\n",
    "\n",
    "vehiculo_1 = Vehiculo(\"rojo\",\"auto\",\"1000 cc\")\n",
    "vehiculo_1.caract()\n",
    "\n",
    "\n",
    "vehiculo_1.estado()\n",
    "vehiculo_1.frenar(10)\n",
    "vehiculo_1.doblar(5)\n",
    "vehiculo_1.estado()\n"
   ]
  },
  {
   "attachments": {},
   "cell_type": "markdown",
   "metadata": {},
   "source": [
    "5) Crear una clase que permita utilizar las funciones creadas en la práctica del módulo 7<br>\n",
    "Verificar Primo<br>\n",
    "Valor modal<br>\n",
    "Conversión grados<br>\n",
    "Factorial<br>"
   ]
  },
  {
   "cell_type": "code",
   "execution_count": 61,
   "metadata": {},
   "outputs": [],
   "source": [
    "class Funciones:\n",
    "    def __init__(self)-> None:  # No corria con : ---> reemplacé con -> None: + pass (identado abajo)\n",
    "        pass                    # Receta de la abuela :)\n",
    "\n",
    "    def verifica_primo(self,valor): # va sin =\n",
    "        primo = True\n",
    "        for i in range(2,valor): # Me daba error porque en ves de for puse otro if :)\n",
    "            if valor % i == 0: # Quiere decir que si existe divisor intermedio, además del divisor 1 y el número, entonces no será primo\n",
    "                primo = False            \n",
    "        return(primo)\n",
    "        \n",
    "    def verifica_valor_modal(self,list):\n",
    "        # Debo incorporar COUNTER de la LIBRERIA\n",
    "        #---------------------------------------\n",
    "        from collections import Counter\n",
    "        #---------------------------------------\n",
    "        dic_counter = Counter(list) # SE VERÁ: Counter({5: 5, 1: 2, 2: 2, 6: 2, 4: 2, 3: 1, 8: 1, 54: 1, 656: 1})\n",
    "        mas_repetido = max(dic_counter, key = dic_counter.get)\n",
    "        cuantas = dic_counter[mas_repetido]\n",
    "        return  print(f'El número más repetido en la lista es el {mas_repetido} y se repitió {cuantas} veces')\n",
    "    \n",
    "    def verifica_conversion_grados(self,valor,origen,destino):\n",
    "    \n",
    "        if origen == 'Celsius':\n",
    "            if destino == 'Farenheit':\n",
    "                celcius_farenheit = (valor * (9/5)) + 32\n",
    "                rta = celcius_farenheit\n",
    "            elif destino == 'Kelvin':\n",
    "                celsius_kelvin = valor + 273.15\n",
    "                rta = celsius_kelvin\n",
    "            else:\n",
    "                celsius_celsius = valor\n",
    "                rta = celsius_celsius\n",
    "        \n",
    "        if origen == 'Farenheit':\n",
    "            if destino == 'Celsius':\n",
    "                farenheit_celsius = (valor -32) * (5/9)\n",
    "                rta = farenheit_celsius\n",
    "            elif destino == 'Kelvin':\n",
    "                farenheit_kelvin = ((valor -32) * (5/9)) + 273.15\n",
    "                rta = farenheit_kelvin\n",
    "            else:\n",
    "                farenheit_farenheit = valor\n",
    "                rta = farenheit_farenheit\n",
    "        \n",
    "        if origen == 'Kelvin':\n",
    "            if destino == 'Celsius':\n",
    "                kelvin_celsius = valor - 273.15\n",
    "                rta = kelvin_celsius\n",
    "            elif destino == 'Farenheit':\n",
    "                kelvin_farenheit = ((valor - 273.15) * (9/5)) + 32\n",
    "                rta = kelvin_farenheit\n",
    "            else:\n",
    "                kelvin_kelvin = valor\n",
    "                rta = kelvin_kelvin\n",
    "        return rta\n",
    "    \n",
    "    def verifica_factorial(self,n):\n",
    "        if (type(n) == int):\n",
    "            if (n > 0):\n",
    "                factorial = n\n",
    "                while (n>2):\n",
    "                    n = n - 1\n",
    "                    factorial = factorial * n\n",
    "                return print('El factorial es', factorial) # me daba error (Fac de 5 = 20) porque estaba return corrido a la derecha\n",
    "            elif n == 0:\n",
    "                return print('El factorial de 0 por definición es 0')\n",
    "            else:\n",
    "                return print('La variable no es mayor a cero')\n",
    "        else:\n",
    "            return print('La variable no es un entero')"
   ]
  },
  {
   "attachments": {},
   "cell_type": "markdown",
   "metadata": {},
   "source": [
    "6) Probar las funciones incorporadas en la clase del punto 5"
   ]
  },
  {
   "cell_type": "code",
   "execution_count": 63,
   "metadata": {},
   "outputs": [],
   "source": [
    "# En ejercicio anterior:\n",
    "# vehiculo_1 = Vehiculo(\"rojo\",\"auto\",\"1000 cc\") ---- llamé a la CLASE \"Vehiculo\" y le asigne valores dentro de ()\n",
    "\n",
    "# En este caso: ----> solo nombro el objeto y su clase..\n",
    "\n",
    "verifica_funciones_1 = Funciones()\n",
    "\n",
    "# Opciones dentro de la clase:\n",
    "\n",
    "# (A) verifica_primo(valor)\n",
    "# (B) verifica_valor_modal(lista) --> Debo ingresar una lista --> Me devuelve el valor que más se repite\n",
    "# (C) verifica_conversion_grados(valor,origen,destino) --> Por ejemplo: (1, 'Farenheit', 'Celsius') (5, 'Kelvin', 'Celsius')\n",
    "# (D) verifica_factorial(n)"
   ]
  },
  {
   "cell_type": "code",
   "execution_count": 54,
   "metadata": {},
   "outputs": [
    {
     "data": {
      "text/plain": [
       "False"
      ]
     },
     "execution_count": 54,
     "metadata": {},
     "output_type": "execute_result"
    }
   ],
   "source": [
    "verifica_funciones_1.verifica_primo(4)"
   ]
  },
  {
   "cell_type": "code",
   "execution_count": 55,
   "metadata": {},
   "outputs": [
    {
     "data": {
      "text/plain": [
       "274.15"
      ]
     },
     "execution_count": 55,
     "metadata": {},
     "output_type": "execute_result"
    }
   ],
   "source": [
    "verifica_funciones_1.verifica_conversion_grados(1,\"Celsius\",\"Kelvin\")"
   ]
  },
  {
   "cell_type": "code",
   "execution_count": 56,
   "metadata": {},
   "outputs": [
    {
     "name": "stdout",
     "output_type": "stream",
     "text": [
      "El factorial es 720\n"
     ]
    }
   ],
   "source": [
    "verifica_funciones_1.verifica_factorial(6)"
   ]
  },
  {
   "cell_type": "code",
   "execution_count": 64,
   "metadata": {},
   "outputs": [
    {
     "name": "stdout",
     "output_type": "stream",
     "text": [
      "El número más repetido en la lista es el 2 y se repitió 3 veces\n"
     ]
    }
   ],
   "source": [
    "verifica_funciones_1.verifica_valor_modal([1,2,5,3,4,6,2,1,3,2,4])"
   ]
  },
  {
   "attachments": {},
   "cell_type": "markdown",
   "metadata": {},
   "source": [
    "7) Es necesario que la clase creada en el punto 5 contenga una lista, sobre la cual se apliquen las funciones incorporadas"
   ]
  },
  {
   "cell_type": "code",
   "execution_count": 180,
   "metadata": {},
   "outputs": [],
   "source": [
    "# ENCAPSULAMIENTO --- genero un ciclo for para que tome los elementos de la lista\n",
    "# Uso las mismas funciones (pero ENCAPSULADAS CON __ guiones bajos) pero ahora las INVOCO\n",
    "\n",
    "#----------------------------LO NUEVO------------------------------------\n",
    "class Funciones_bis:\n",
    "    def __init__(self,listado):  \n",
    "        self.lista = listado                  \n",
    "    \n",
    "    def verifica_primo(self):\n",
    "        for i in self.lista:   # iterará sobre la LISTA INICIAL elemento a elemento\n",
    "            if self.__verifica_primo(i): \n",
    "                print(f'El {i} es PRIMO')\n",
    "            else:\n",
    "                print(f'El {i} NO es PRIMO')\n",
    "\n",
    "    def verifica_conversion_grados(self,origen,destino):\n",
    "        for i in self.lista:   # lo mismo\n",
    "            print(f'{i} grados {origen} es equivalente a {self.__verifica_conversion_grados(i,origen,destino)} grados {destino}')        \n",
    "#--------self.__verifica_conversion_grados(i,origen,destino)-------------\n",
    "#--------------------Esto es lo dificil de entender----------------------\n",
    "\n",
    "    def verifica_factorial(self):\n",
    "        for i in self.lista:   # lo mismo\n",
    "            print(f'El factorial de {i} es {self.__verifica_factorial(i)}')\n",
    "            # Me daba error porque faltaba {self.__verifica_factorial(i)}\n",
    "\n",
    "\n",
    "#------LO MISMO DE ANTES PERO ENCAPSULADO (excepto VALOR MODAL)-----------\n",
    "    def __verifica_primo(self,valor): # va sin =\n",
    "        primo = True\n",
    "        for i in range(2,valor): # Me daba error porque en ves de for puse otro if :)\n",
    "            if valor % i == 0: # Quiere decir que si existe divisor intermedio, además del divisor 1 y el número, entonces no será primo\n",
    "                primo = False            \n",
    "        return(primo)\n",
    "        \n",
    "    def verifica_valor_modal(self):   # CORRECCIÓN: le dejé solo (self) y en COUNTER puse -> (self.lista)\n",
    "        # Debo incorporar COUNTER de la LIBRERIA\n",
    "        #---------------------------------------\n",
    "        from collections import Counter\n",
    "        #---------------------------------------\n",
    "        dic_counter = Counter(self.lista) # SE VERÁ: Counter({5: 5, 1: 2, 2: 2, 6: 2, 4: 2, 3: 1, 8: 1, 54: 1, 656: 1})\n",
    "        mas_repetido = max(dic_counter, key = dic_counter.get)\n",
    "        cuantas = dic_counter[mas_repetido]\n",
    "        return  print(f'El número más repetido en la lista es el {mas_repetido} y se repitió {cuantas} veces')\n",
    "    \n",
    "    def __verifica_conversion_grados(self,valor, origen,destino): \n",
    "    \n",
    "        if origen == 'Celsius':\n",
    "            if destino == 'Farenheit':\n",
    "                celcius_farenheit = (valor * (9/5)) + 32\n",
    "                rta = celcius_farenheit\n",
    "            elif destino == 'Kelvin':\n",
    "                celsius_kelvin = valor + 273.15\n",
    "                rta = celsius_kelvin\n",
    "            else:\n",
    "                celsius_celsius = valor\n",
    "                rta = celsius_celsius\n",
    "        \n",
    "        if origen == 'Farenheit':\n",
    "            if destino == 'Celsius':\n",
    "                farenheit_celsius = (valor -32) * (5/9)\n",
    "                rta = farenheit_celsius\n",
    "            elif destino == 'Kelvin':\n",
    "                farenheit_kelvin = ((valor -32) * (5/9)) + 273.15\n",
    "                rta = farenheit_kelvin\n",
    "            else:\n",
    "                farenheit_farenheit = valor\n",
    "                rta = farenheit_farenheit\n",
    "        \n",
    "        if origen == 'Kelvin':\n",
    "            if destino == 'Celsius':\n",
    "                kelvin_celsius = valor - 273.15\n",
    "                rta = kelvin_celsius\n",
    "            elif destino == 'Farenheit':\n",
    "                kelvin_farenheit = ((valor - 273.15) * (9/5)) + 32\n",
    "                rta = kelvin_farenheit\n",
    "            else:\n",
    "                kelvin_kelvin = valor\n",
    "                rta = kelvin_kelvin\n",
    "        return rta\n",
    "    \n",
    "    def __verifica_factorial(self,n):\n",
    "        \n",
    "        if (type(n) == int):\n",
    "            \n",
    "            if (n > 0):\n",
    "                factorial = n\n",
    "                while (n>2):\n",
    "                    n = n - 1\n",
    "                    factorial = factorial * n\n",
    "                return factorial\n",
    "            elif n == 0:\n",
    "                return print(' 0 por definición')\n",
    "            else:\n",
    "                return print('ERROR. La variable no es mayor a cero')\n",
    "        else:\n",
    "            return print('ERROR. La variable no es un entero')"
   ]
  },
  {
   "cell_type": "code",
   "execution_count": 181,
   "metadata": {},
   "outputs": [],
   "source": [
    "verifica_funciones_2 = Funciones_bis([1,2,3,4,5,6,7,8,9,10])"
   ]
  },
  {
   "cell_type": "code",
   "execution_count": 159,
   "metadata": {},
   "outputs": [
    {
     "name": "stdout",
     "output_type": "stream",
     "text": [
      "El 1 es PRIMO\n",
      "El 2 es PRIMO\n",
      "El 3 es PRIMO\n",
      "El 4 NO es PRIMO\n",
      "El 5 es PRIMO\n",
      "El 6 NO es PRIMO\n",
      "El 7 es PRIMO\n",
      "El 8 NO es PRIMO\n",
      "El 9 NO es PRIMO\n",
      "El 10 NO es PRIMO\n"
     ]
    }
   ],
   "source": [
    "verifica_funciones_2.verifica_primo()"
   ]
  },
  {
   "cell_type": "code",
   "execution_count": 160,
   "metadata": {},
   "outputs": [
    {
     "name": "stdout",
     "output_type": "stream",
     "text": [
      "El número más repetido en la lista es el 1 y se repitió 1 veces\n"
     ]
    }
   ],
   "source": [
    "verifica_funciones_2.verifica_valor_modal()"
   ]
  },
  {
   "cell_type": "code",
   "execution_count": 161,
   "metadata": {},
   "outputs": [
    {
     "name": "stdout",
     "output_type": "stream",
     "text": [
      "1 grados Celsius es equivalente a 274.15 grados Kelvin\n",
      "2 grados Celsius es equivalente a 275.15 grados Kelvin\n",
      "3 grados Celsius es equivalente a 276.15 grados Kelvin\n",
      "4 grados Celsius es equivalente a 277.15 grados Kelvin\n",
      "5 grados Celsius es equivalente a 278.15 grados Kelvin\n",
      "6 grados Celsius es equivalente a 279.15 grados Kelvin\n",
      "7 grados Celsius es equivalente a 280.15 grados Kelvin\n",
      "8 grados Celsius es equivalente a 281.15 grados Kelvin\n",
      "9 grados Celsius es equivalente a 282.15 grados Kelvin\n",
      "10 grados Celsius es equivalente a 283.15 grados Kelvin\n"
     ]
    }
   ],
   "source": [
    "verifica_funciones_2.verifica_conversion_grados(\"Celsius\",\"Kelvin\")"
   ]
  },
  {
   "cell_type": "code",
   "execution_count": 182,
   "metadata": {},
   "outputs": [
    {
     "name": "stdout",
     "output_type": "stream",
     "text": [
      "El factorial de 1 es 1\n",
      "El factorial de 2 es 2\n",
      "El factorial de 3 es 6\n",
      "El factorial de 4 es 24\n",
      "El factorial de 5 es 120\n",
      "El factorial de 6 es 720\n",
      "El factorial de 7 es 5040\n",
      "El factorial de 8 es 40320\n",
      "El factorial de 9 es 362880\n",
      "El factorial de 10 es 3628800\n"
     ]
    }
   ],
   "source": [
    "verifica_funciones_2.verifica_factorial()"
   ]
  },
  {
   "attachments": {},
   "cell_type": "markdown",
   "metadata": {},
   "source": [
    "8) Crear un archivo .py aparte y ubicar allí la clase generada en el punto anterior. Luego realizar la importación del módulo y probar alguna de sus funciones"
   ]
  },
  {
   "cell_type": "code",
   "execution_count": 1,
   "metadata": {},
   "outputs": [],
   "source": [
    "# MÓDULOS ------> cree Funciones_bis.py\n",
    "\n",
    "from Funciones_bis import *   # Con * asterisco importa todo\n",
    "\n",
    "# CONSULTAR cómo usar un ALIAS para invocar la IMPORTACIÓN más fácil:\n",
    "\n",
    "verifica_funciones_3 = Funciones_bis([10,9,8,7,6,5,4,3,2,1])\n",
    "\n"
   ]
  },
  {
   "cell_type": "code",
   "execution_count": 2,
   "metadata": {},
   "outputs": [
    {
     "name": "stdout",
     "output_type": "stream",
     "text": [
      "El 10 NO es PRIMO\n",
      "El 9 NO es PRIMO\n",
      "El 8 NO es PRIMO\n",
      "El 7 es PRIMO\n",
      "El 6 NO es PRIMO\n",
      "El 5 es PRIMO\n",
      "El 4 NO es PRIMO\n",
      "El 3 es PRIMO\n",
      "El 2 es PRIMO\n",
      "El 1 es PRIMO\n"
     ]
    }
   ],
   "source": [
    "verifica_funciones_3.verifica_primo()"
   ]
  },
  {
   "cell_type": "code",
   "execution_count": 3,
   "metadata": {},
   "outputs": [
    {
     "name": "stdout",
     "output_type": "stream",
     "text": [
      "El número más repetido en la lista es el 10 y se repitió 1 veces\n"
     ]
    }
   ],
   "source": [
    "verifica_funciones_3.verifica_valor_modal()"
   ]
  },
  {
   "cell_type": "code",
   "execution_count": 4,
   "metadata": {},
   "outputs": [
    {
     "name": "stdout",
     "output_type": "stream",
     "text": [
      "10 grados Celsius es equivalente a 50.0 grados Farenheit\n",
      "9 grados Celsius es equivalente a 48.2 grados Farenheit\n",
      "8 grados Celsius es equivalente a 46.4 grados Farenheit\n",
      "7 grados Celsius es equivalente a 44.6 grados Farenheit\n",
      "6 grados Celsius es equivalente a 42.8 grados Farenheit\n",
      "5 grados Celsius es equivalente a 41.0 grados Farenheit\n",
      "4 grados Celsius es equivalente a 39.2 grados Farenheit\n",
      "3 grados Celsius es equivalente a 37.4 grados Farenheit\n",
      "2 grados Celsius es equivalente a 35.6 grados Farenheit\n",
      "1 grados Celsius es equivalente a 33.8 grados Farenheit\n"
     ]
    }
   ],
   "source": [
    "verifica_funciones_3.verifica_conversion_grados(\"Celsius\",\"Farenheit\")"
   ]
  },
  {
   "cell_type": "code",
   "execution_count": 5,
   "metadata": {},
   "outputs": [
    {
     "name": "stdout",
     "output_type": "stream",
     "text": [
      "El factorial de 10 es 3628800\n",
      "El factorial de 9 es 362880\n",
      "El factorial de 8 es 40320\n",
      "El factorial de 7 es 5040\n",
      "El factorial de 6 es 720\n",
      "El factorial de 5 es 120\n",
      "El factorial de 4 es 24\n",
      "El factorial de 3 es 6\n",
      "El factorial de 2 es 2\n",
      "El factorial de 1 es 1\n"
     ]
    }
   ],
   "source": [
    "verifica_funciones_3.verifica_factorial()"
   ]
  },
  {
   "cell_type": "code",
   "execution_count": null,
   "metadata": {},
   "outputs": [],
   "source": []
  },
  {
   "cell_type": "code",
   "execution_count": null,
   "metadata": {},
   "outputs": [],
   "source": []
  },
  {
   "cell_type": "code",
   "execution_count": null,
   "metadata": {},
   "outputs": [],
   "source": []
  }
 ],
 "metadata": {
  "interpreter": {
   "hash": "c85384e4cb51c8b72350f3a8712cc8351fdc3955e32a27f9b60c6242ab125f01"
  },
  "kernelspec": {
   "display_name": "Python 3 (ipykernel)",
   "language": "python",
   "name": "python3"
  },
  "language_info": {
   "codemirror_mode": {
    "name": "ipython",
    "version": 3
   },
   "file_extension": ".py",
   "mimetype": "text/x-python",
   "name": "python",
   "nbconvert_exporter": "python",
   "pygments_lexer": "ipython3",
   "version": "3.11.6"
  }
 },
 "nbformat": 4,
 "nbformat_minor": 4
}
