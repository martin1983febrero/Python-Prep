{
 "cells": [
  {
   "attachments": {},
   "cell_type": "markdown",
   "metadata": {},
   "source": [
    "## Flujos de Control"
   ]
  },
  {
   "attachments": {},
   "cell_type": "markdown",
   "metadata": {},
   "source": [
    "1) Crear una variable que contenga un elemento del conjunto de números enteros y luego imprimir por pantalla si es mayor o menor a cero"
   ]
  },
  {
   "cell_type": "code",
   "execution_count": 6,
   "metadata": {},
   "outputs": [
    {
     "name": "stdout",
     "output_type": "stream",
     "text": [
      "mayor a cero\n"
     ]
    }
   ],
   "source": [
    "a = 7\n",
    "if (a > 0):\n",
    "    print ('mayor a cero')\n",
    "elif (a<0):\n",
    "    print ('menor a cero')\n",
    "else:\n",
    "    print ('igual a cero')"
   ]
  },
  {
   "attachments": {},
   "cell_type": "markdown",
   "metadata": {},
   "source": [
    "2) Crear dos variables y un condicional que informe si son del mismo tipo de dato"
   ]
  },
  {
   "cell_type": "code",
   "execution_count": 13,
   "metadata": {},
   "outputs": [
    {
     "name": "stdout",
     "output_type": "stream",
     "text": [
      "son distinto tipo\n"
     ]
    }
   ],
   "source": [
    "b = 'palabra'\n",
    "c = 811\n",
    "if (type(b) == type(c)):\n",
    "    print('son el mismo tipo')\n",
    "else:\n",
    "    print ('son distinto tipo')"
   ]
  },
  {
   "attachments": {},
   "cell_type": "markdown",
   "metadata": {},
   "source": [
    "3) Para los valores enteros del 1 al 20, imprimir por pantalla si es par o impar"
   ]
  },
  {
   "cell_type": "code",
   "execution_count": 14,
   "metadata": {},
   "outputs": [
    {
     "name": "stdout",
     "output_type": "stream",
     "text": [
      "el número 1 impar\n",
      "el número 2 es par\n",
      "el número 3 impar\n",
      "el número 4 es par\n",
      "el número 5 impar\n",
      "el número 6 es par\n",
      "el número 7 impar\n",
      "el número 8 es par\n",
      "el número 9 impar\n",
      "el número 10 es par\n",
      "el número 11 impar\n",
      "el número 12 es par\n",
      "el número 13 impar\n",
      "el número 14 es par\n",
      "el número 15 impar\n",
      "el número 16 es par\n",
      "el número 17 impar\n",
      "el número 18 es par\n",
      "el número 19 impar\n",
      "el número 20 es par\n"
     ]
    }
   ],
   "source": [
    "for n in range(1,21):\n",
    "    if n % 2 ==0 :\n",
    "        print('el número', str(n), 'es par')\n",
    "    else:\n",
    "        print('el número', str(n), 'impar')"
   ]
  },
  {
   "attachments": {},
   "cell_type": "markdown",
   "metadata": {},
   "source": [
    "4) En un ciclo for mostrar para los valores entre 0 y 5 el resultado de elevarlo a la potencia igual a 3"
   ]
  },
  {
   "cell_type": "code",
   "execution_count": 15,
   "metadata": {},
   "outputs": [
    {
     "name": "stdout",
     "output_type": "stream",
     "text": [
      "0\n",
      "1\n",
      "8\n",
      "27\n",
      "64\n",
      "125\n"
     ]
    }
   ],
   "source": [
    "for x in range(0,6):\n",
    "    print(x**3)"
   ]
  },
  {
   "attachments": {},
   "cell_type": "markdown",
   "metadata": {},
   "source": [
    "5) Crear una variable que contenga un número entero y realizar un ciclo for la misma cantidad de ciclos"
   ]
  },
  {
   "cell_type": "code",
   "execution_count": 16,
   "metadata": {},
   "outputs": [
    {
     "name": "stdout",
     "output_type": "stream",
     "text": [
      "17\n"
     ]
    }
   ],
   "source": [
    "v = 18\n",
    "for i in range(1,v):\n",
    "    pass\n",
    "print (i) "
   ]
  },
  {
   "attachments": {},
   "cell_type": "markdown",
   "metadata": {},
   "source": [
    "6) Utilizar un ciclo while para realizar el factorial de un número guardado en una variable, sólo si la variable contiene un número entero mayor a 0"
   ]
  },
  {
   "cell_type": "code",
   "execution_count": 17,
   "metadata": {},
   "outputs": [
    {
     "name": "stdout",
     "output_type": "stream",
     "text": [
      "el factorial de w es 40320\n"
     ]
    }
   ],
   "source": [
    "w = 8\n",
    "if type(w == int):\n",
    "    if w > 0:\n",
    "        fact = w\n",
    "        while (w > 2):\n",
    "            w = w - 1\n",
    "            fact = fact * w\n",
    "        print('el factorial de w es', fact)\n",
    "    else:\n",
    "        print('la variable no es mayor a cero')\n",
    "else:\n",
    "    print('la variable no es un entero')"
   ]
  },
  {
   "attachments": {},
   "cell_type": "markdown",
   "metadata": {},
   "source": [
    "7) Crear un ciclo for dentro de un ciclo while"
   ]
  },
  {
   "cell_type": "code",
   "execution_count": 23,
   "metadata": {},
   "outputs": [
    {
     "name": "stdout",
     "output_type": "stream",
     "text": [
      "ciclo while 1\n",
      "ciclo for 1\n",
      "ciclo while 2\n",
      "ciclo for 1\n",
      "ciclo for 2\n",
      "ciclo while 3\n",
      "ciclo for 1\n",
      "ciclo for 2\n",
      "ciclo for 3\n",
      "ciclo while 4\n",
      "ciclo for 1\n",
      "ciclo for 2\n",
      "ciclo for 3\n",
      "ciclo for 4\n",
      "ciclo while 5\n",
      "ciclo for 1\n",
      "ciclo for 2\n",
      "ciclo for 3\n",
      "ciclo for 4\n",
      "ciclo for 5\n"
     ]
    }
   ],
   "source": [
    "n = 1\n",
    "while n < 6:\n",
    "    print('ciclo while ' + str(n))\n",
    "    for i in range(1, n+1):\n",
    "        print('ciclo for ' + str(i))\n",
    "    n += 1"
   ]
  },
  {
   "attachments": {},
   "cell_type": "markdown",
   "metadata": {},
   "source": [
    "8) Crear un ciclo while dentro de un ciclo for"
   ]
  },
  {
   "cell_type": "code",
   "execution_count": 31,
   "metadata": {},
   "outputs": [],
   "source": [
    "x = 4\n",
    "for i in range(1, x):\n",
    "    while x < 4:\n",
    "        x -= 1\n",
    "        print('ciclo for' + str(x))    \n",
    "        print('ciclo while ' + str(i)) "
   ]
  },
  {
   "attachments": {},
   "cell_type": "markdown",
   "metadata": {},
   "source": [
    "9) Imprimir los números primos existentes entre 0 y 30"
   ]
  },
  {
   "cell_type": "code",
   "execution_count": 12,
   "metadata": {},
   "outputs": [
    {
     "name": "stdout",
     "output_type": "stream",
     "text": [
      "0\n",
      "1\n",
      "2\n",
      "3\n",
      "5\n",
      "7\n",
      "11\n",
      "13\n",
      "17\n",
      "19\n",
      "23\n",
      "29\n"
     ]
    }
   ],
   "source": [
    "hasta = 30 # un número primo es solo divisible por 1 o por si mismo Ej: 1,3,5,7,9,11\n",
    "desde = 0  # por ejemplo 3 es primo y 4 no lo es porque tambien se divide por 2. O porque si los divido por otro numero, su resto da distinto que cero \n",
    "primo = True\n",
    "while (desde < hasta): # todos los números los deberia ir dividiendo por el mismo hasta 1 y si es distinto el resultado a 1 o ese número, entonces no será primo\n",
    "    for el_divisor in range (2, desde):\n",
    "        if (desde % el_divisor == 0): # quiere decir que si todos los resultados dan cero, entonces no es primo\n",
    "            primo = False\n",
    "    if (primo == True):\n",
    "        print (desde)\n",
    "    else:\n",
    "        primo = True\n",
    "    desde += 1\n"
   ]
  },
  {
   "attachments": {},
   "cell_type": "markdown",
   "metadata": {},
   "source": [
    "10) ¿Se puede mejorar el proceso del punto 9? Utilizar las sentencias break y/ó continue para tal fin"
   ]
  },
  {
   "cell_type": "code",
   "execution_count": 13,
   "metadata": {},
   "outputs": [
    {
     "name": "stdout",
     "output_type": "stream",
     "text": [
      "0\n",
      "1\n",
      "2\n",
      "3\n",
      "5\n",
      "7\n",
      "11\n",
      "13\n",
      "17\n",
      "19\n",
      "23\n",
      "29\n"
     ]
    }
   ],
   "source": [
    "hasta = 30 \n",
    "desde = 0   \n",
    "primo = True\n",
    "while (desde < hasta): \n",
    "    for el_divisor in range (2, desde):\n",
    "        if (desde % el_divisor == 0): \n",
    "            primo = False\n",
    "            continue\n",
    "    if (primo == True):\n",
    "        print (desde)\n",
    "    else:\n",
    "        primo = True\n",
    "    desde += 1"
   ]
  },
  {
   "attachments": {},
   "cell_type": "markdown",
   "metadata": {},
   "source": [
    "11) En los puntos 9 y 10, se diseño un código que encuentra números primos y además se lo optimizó. ¿Es posible saber en qué medida se optimizó?"
   ]
  },
  {
   "cell_type": "code",
   "execution_count": 15,
   "metadata": {},
   "outputs": [
    {
     "name": "stdout",
     "output_type": "stream",
     "text": [
      "0\n",
      "1\n",
      "2\n",
      "3\n",
      "5\n",
      "7\n",
      "11\n",
      "13\n",
      "17\n",
      "19\n",
      "23\n",
      "29\n",
      "se usaron: 378 ciclos\n"
     ]
    }
   ],
   "source": [
    "cantidad_ciclos = 0\n",
    "hasta = 30 \n",
    "desde = 0   \n",
    "primo = True\n",
    "while (desde < hasta): \n",
    "    for el_divisor in range (2, desde):\n",
    "        cantidad_ciclos += 1\n",
    "        if (desde % el_divisor == 0): \n",
    "            primo = False\n",
    "            # continue\n",
    "    if (primo == True):\n",
    "        print (desde)\n",
    "    else:\n",
    "        primo = True\n",
    "    desde += 1\n",
    "print ('se usaron:', cantidad_ciclos, 'ciclos')"
   ]
  },
  {
   "cell_type": "code",
   "execution_count": 19,
   "metadata": {},
   "outputs": [
    {
     "name": "stdout",
     "output_type": "stream",
     "text": [
      "0\n",
      "1\n",
      "2\n",
      "3\n",
      "5\n",
      "7\n",
      "11\n",
      "13\n",
      "17\n",
      "19\n",
      "23\n",
      "29\n",
      "se usaron: 134 ciclos\n"
     ]
    }
   ],
   "source": [
    "cantidad_ciclos = 0\n",
    "hasta = 30 \n",
    "desde = 0   \n",
    "primo = True\n",
    "while (desde < hasta): \n",
    "    for el_divisor in range (2, desde):\n",
    "        cantidad_ciclos += 1\n",
    "        if (desde % el_divisor == 0): \n",
    "            primo = False\n",
    "            break\n",
    "    if (primo == True):\n",
    "        print (desde)\n",
    "    else:\n",
    "        primo = True\n",
    "    desde += 1\n",
    "print ('se usaron:', cantidad_ciclos, 'ciclos')"
   ]
  },
  {
   "attachments": {},
   "cell_type": "markdown",
   "metadata": {},
   "source": [
    "12) Aplicando continue, armar un ciclo while que solo imprima los valores divisibles por 12, dentro del rango de números de 100 a 300"
   ]
  },
  {
   "cell_type": "code",
   "execution_count": 4,
   "metadata": {},
   "outputs": [
    {
     "name": "stdout",
     "output_type": "stream",
     "text": [
      "108\n",
      "120\n",
      "132\n",
      "144\n",
      "156\n",
      "168\n",
      "180\n",
      "192\n",
      "204\n",
      "216\n",
      "228\n",
      "240\n",
      "252\n",
      "264\n",
      "276\n",
      "288\n",
      "300\n"
     ]
    }
   ],
   "source": [
    "final = 300\n",
    "inicial = 100\n",
    "while (inicial <= final): \n",
    "    inicial += 1\n",
    "    if (inicial % 12 == 0): \n",
    "            print (inicial)\n",
    "            continue\n",
    "    "
   ]
  },
  {
   "attachments": {},
   "cell_type": "markdown",
   "metadata": {},
   "source": [
    "13) Utilizar la función **input()** que permite hacer ingresos por teclado, para encontrar números primos y dar la opción al usario de buscar el siguiente"
   ]
  },
  {
   "cell_type": "code",
   "execution_count": 7,
   "metadata": {},
   "outputs": [
    {
     "name": "stdout",
     "output_type": "stream",
     "text": [
      "1\n",
      "¿siguiente?\n",
      "fin de proceso\n"
     ]
    }
   ],
   "source": [
    "n = 1\n",
    "sigue = 1\n",
    "primo = True\n",
    "while (sigue == 1):\n",
    "    for div in range(2, n):\n",
    "        if (n % div == 0):\n",
    "            primo = False\n",
    "            break\n",
    "    if (primo):\n",
    "        print(n)\n",
    "        print('¿siguiente?')\n",
    "        if (input() != '1'):\n",
    "            print('fin de proceso')\n",
    "            break\n",
    "    else:\n",
    "        primo = True\n",
    "    n += 1"
   ]
  },
  {
   "attachments": {},
   "cell_type": "markdown",
   "metadata": {},
   "source": [
    "14) Crear un ciclo while que encuentre dentro del rango de 100 a 300 el primer número divisible por 3 y además múltiplo de 6"
   ]
  },
  {
   "cell_type": "code",
   "execution_count": 5,
   "metadata": {},
   "outputs": [
    {
     "name": "stdout",
     "output_type": "stream",
     "text": [
      "El número es:  102\n"
     ]
    }
   ],
   "source": [
    "n = 100\n",
    "while(n<=300):\n",
    "    if (n % 6 == 0):\n",
    "        print('El número es: ', str(n))\n",
    "        break\n",
    "    n += 1"
   ]
  }
 ],
 "metadata": {
  "interpreter": {
   "hash": "c85384e4cb51c8b72350f3a8712cc8351fdc3955e32a27f9b60c6242ab125f01"
  },
  "kernelspec": {
   "display_name": "Python 3 (ipykernel)",
   "language": "python",
   "name": "python3"
  },
  "language_info": {
   "codemirror_mode": {
    "name": "ipython",
    "version": 3
   },
   "file_extension": ".py",
   "mimetype": "text/x-python",
   "name": "python",
   "nbconvert_exporter": "python",
   "pygments_lexer": "ipython3",
   "version": "3.11.6"
  }
 },
 "nbformat": 4,
 "nbformat_minor": 4
}
