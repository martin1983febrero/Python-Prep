{
 "cells": [
  {
   "attachments": {},
   "cell_type": "markdown",
   "metadata": {},
   "source": [
    "## Flujos de Control"
   ]
  },
  {
   "attachments": {},
   "cell_type": "markdown",
   "metadata": {},
   "source": [
    "1) Crear una variable que contenga un elemento del conjunto de números enteros y luego imprimir por pantalla si es mayor o menor a cero"
   ]
  },
  {
   "cell_type": "code",
   "execution_count": 19,
   "metadata": {},
   "outputs": [
    {
     "name": "stdout",
     "output_type": "stream",
     "text": [
      "El número -1 es menor a cero\n",
      "El número -1 es menor a cero\n"
     ]
    }
   ],
   "source": [
    "variable=-1\n",
    "if variable==0:\n",
    "    print('El número', variable, 'no es mayor ni menor a cero')\n",
    "elif variable > 0:\n",
    "    print('El número', variable, 'es mayor a cero')\n",
    "else:\n",
    "    print('El número', variable, 'es menor a cero')\n",
    "\n",
    "# Tambien funciona la variable con parentesis (). Así:\n",
    "\n",
    "variable=-1\n",
    "if (variable==0):\n",
    "    print('El número', variable, 'no es mayor ni menor a cero')\n",
    "elif (variable > 0):\n",
    "    print('El número', variable, 'es mayor a cero')\n",
    "else:\n",
    "    print('El número', variable, 'es menor a cero')"
   ]
  },
  {
   "attachments": {},
   "cell_type": "markdown",
   "metadata": {},
   "source": [
    "2) Crear dos variables y un condicional que informe si son del mismo tipo de dato"
   ]
  },
  {
   "cell_type": "code",
   "execution_count": 20,
   "metadata": {},
   "outputs": [
    {
     "name": "stdout",
     "output_type": "stream",
     "text": [
      "Ambas variables no son del mismo tipo. Una es <class 'int'> y la otra es <class 'str'>\n"
     ]
    }
   ],
   "source": [
    "# Opción (A)\n",
    "var_1=1\n",
    "var_2=\"Martin\"\n",
    "if type(var_1)==type(var_2):\n",
    "    print('Ambas variables son del mismo tipo (', type, ')')\n",
    "else:\n",
    "    print('Ambas variables no son del mismo tipo. Una es', type(var_1), 'y la otra es', type(var_2))"
   ]
  },
  {
   "cell_type": "code",
   "execution_count": 28,
   "metadata": {},
   "outputs": [
    {
     "name": "stdout",
     "output_type": "stream",
     "text": [
      "Las variables Lucas y Martin son del mismo tipo ( <class 'str'> )\n"
     ]
    }
   ],
   "source": [
    "# Opción (B) !!! Ejemplo de como poner los valores de la variable dentro de la frase a imprimir con f string\n",
    "var_1='Lucas'\n",
    "var_2=\"Martin\"\n",
    "if type(var_1)==type(var_2):\n",
    "    print(f'Las variables {var_1} y {var_2} son del mismo tipo (', type(var_1), ')')\n",
    "else:\n",
    "    print(f'Ambas variables {var_1} y {var_2} no son del mismo tipo. Una es', type(var_1), 'y la otra es', type(var_2))"
   ]
  },
  {
   "cell_type": "code",
   "execution_count": 26,
   "metadata": {},
   "outputs": [
    {
     "name": "stdout",
     "output_type": "stream",
     "text": [
      "Ambas variables 1 y Martin no son del mismo tipo. Una es <class 'int'> y la otra es <class 'str'>\n"
     ]
    }
   ],
   "source": [
    "# Opción (C) !!! Otra forma para lo mismo:\n",
    "var_1=1\n",
    "var_2=\"Martin\"\n",
    "if type(var_1)==type(var_2):\n",
    "    print(f'Las variables ' + str(var_1) + ' y ' + str(var_2) + ' son del mismo tipo (', type, ')')\n",
    "else:\n",
    "    print(f'Ambas variables ' + str(var_1) + ' y ' + str(var_2) + ' no son del mismo tipo. Una es', type(var_1), 'y la otra es', type(var_2))"
   ]
  },
  {
   "attachments": {},
   "cell_type": "markdown",
   "metadata": {},
   "source": [
    "3) Para los valores enteros del 1 al 20, imprimir por pantalla si es par o impar"
   ]
  },
  {
   "cell_type": "code",
   "execution_count": 34,
   "metadata": {},
   "outputs": [
    {
     "name": "stdout",
     "output_type": "stream",
     "text": [
      "El 1 es impar\n",
      "El 2 es par\n",
      "El 3 es impar\n",
      "El 4 es par\n",
      "El 5 es impar\n",
      "El 6 es par\n",
      "El 7 es impar\n",
      "El 8 es par\n",
      "El 9 es impar\n",
      "El 10 es par\n",
      "El 11 es impar\n",
      "El 12 es par\n",
      "El 13 es impar\n",
      "El 14 es par\n",
      "El 15 es impar\n",
      "El 16 es par\n",
      "El 17 es impar\n",
      "El 18 es par\n",
      "El 19 es impar\n",
      "El 20 es par\n"
     ]
    }
   ],
   "source": [
    "# !!! PARES E IMPARES\n",
    "\n",
    "i=1\n",
    "for valor in range (1,21): # de 1 a 21 porque el indice comienza en 0\n",
    "    if valor %2 == 0:      # IMPORTANTE PARA DETERMINAR SE ES PAR!!!\n",
    "        print(f'El {valor} es par')\n",
    "    else:\n",
    "        print (f'El {valor} es impar')\n",
    "    i=i+1"
   ]
  },
  {
   "attachments": {},
   "cell_type": "markdown",
   "metadata": {},
   "source": [
    "4) En un ciclo for mostrar para los valores entre 0 y 5 el resultado de elevarlo a la potencia igual a 3"
   ]
  },
  {
   "cell_type": "code",
   "execution_count": 35,
   "metadata": {},
   "outputs": [
    {
     "name": "stdout",
     "output_type": "stream",
     "text": [
      "El 0 elevado a cualquier potencia da 0 (cero)\n",
      "El 1 elevado a potencia = 3 es 1\n",
      "El 2 elevado a potencia = 3 es 8\n",
      "El 3 elevado a potencia = 3 es 27\n",
      "El 4 elevado a potencia = 3 es 64\n",
      "El 5 elevado a potencia = 3 es 125\n"
     ]
    }
   ],
   "source": [
    "\n",
    "i=0\n",
    "for valor in range (0,6): # Asi incluye desde el cera hasta el 5 inclusive\n",
    "    if valor == 0:      # IMPORTANTE PARA DETERMINAR SE ES PAR!!!\n",
    "        print(f'El {valor} elevado a cualquier potencia da 0 (cero)') # Prefiero poner las particularidades al principio (así no me olvido)\n",
    "    else:\n",
    "        potencia=valor**3\n",
    "        print (f'El {valor} elevado a potencia = 3 es {potencia}')\n",
    "    i=i+1"
   ]
  },
  {
   "attachments": {},
   "cell_type": "markdown",
   "metadata": {},
   "source": [
    "5) Crear una variable que contenga un número entero y realizar un ciclo for la misma cantidad de ciclos"
   ]
  },
  {
   "cell_type": "code",
   "execution_count": 40,
   "metadata": {},
   "outputs": [
    {
     "name": "stdout",
     "output_type": "stream",
     "text": [
      "Elegí 6 ciclos\n",
      "Este es el ciclo FOR n° 1\n",
      "Este es el ciclo FOR n° 2\n",
      "Este es el ciclo FOR n° 3\n",
      "Este es el ciclo FOR n° 4\n",
      "Este es el ciclo FOR n° 5\n",
      "Este es el ciclo FOR n° 6\n"
     ]
    }
   ],
   "source": [
    "# Interpretación:\n",
    "# 1) Defino una variable 'ciclo' con un número entero\n",
    "# 2) Defino un ciclo con la misma cantidad de ciclos que ciclo\n",
    "\n",
    "ciclo=6\n",
    "print(f'Elegí {ciclo} ciclos')\n",
    "for ciclos in range (ciclo):\n",
    "    print(f'Este es el ciclo FOR n° {ciclos + 1}')\n",
    "    ciclo =+ 1\n"
   ]
  },
  {
   "attachments": {},
   "cell_type": "markdown",
   "metadata": {},
   "source": [
    "6) Utilizar un ciclo while para realizar el factorial de un número guardado en una variable, sólo si la variable contiene un número entero mayor a 0"
   ]
  },
  {
   "cell_type": "code",
   "execution_count": 102,
   "metadata": {},
   "outputs": [
    {
     "name": "stdout",
     "output_type": "stream",
     "text": [
      "El factorial de 5 es 120\n"
     ]
    }
   ],
   "source": [
    "# MUY IMPORTANTE ---FACTORIAL---\n",
    "# 1)Definición de factorial: factorial de 4 es f = 4 * 3 * 2 * 1 entonces f(n)=n(n-1) para todo n entero (CONDICIÓN) y >0 (CONDICIÓN)\n",
    "\n",
    "n_fac=5\n",
    "\n",
    "if (type(n_fac) != int):\n",
    "    print(f'El {n_fac} no es entero')\n",
    "    \n",
    "elif n_fac==0:\n",
    "    print(f'El factorial de {n_fac} es 1 por definición')\n",
    "    \n",
    "elif n_fac<0:\n",
    "    print(f'El {n_fac} es menor a cero')\n",
    "     \n",
    "else:               # Desde acá trabajo con un número válido (SEGÚN LAS CONDICIONES INICIALES):\n",
    "    n_valido=n_fac  #No es indispensable, solo para mostrar el VALOR INICIAL en el print final\n",
    "    factorial=n_fac\n",
    "    \n",
    "    if n_fac > 0:  # Para mi era innecesario, lo saqué y me daba error!!! CONSULTAR\n",
    "        while (n_fac > 2): # Este mientras repite el ciclo hasta bajar a 2 ya que con 1 es lo mismo\n",
    "            n_fac=n_fac-1                   # (a)\n",
    "            factorial = factorial * n_fac   # (b)  a y b los debo memorizar. En factorial es así siempre\n",
    "\n",
    "        print(f'El factorial de {n_valido} es {factorial}') # Importante ponerlo acá o debajo del while (es lo mismo)\n",
    "                                                        # A derecha me trae valores de arriba\n",
    "                                                        # A izquierda me trae valores de cada ciclo"
   ]
  },
  {
   "cell_type": "code",
   "execution_count": 1,
   "metadata": {},
   "outputs": [
    {
     "name": "stdout",
     "output_type": "stream",
     "text": [
      "El factorial es 120\n"
     ]
    }
   ],
   "source": [
    "# FACTORIAL (RESUELTO MAS SENCILLO)\n",
    "\n",
    "n = 5\n",
    "if (type(n) == int):\n",
    "    if (n > 0):                         # FACTORIAL\n",
    "        factorial = n                   # FACTORIAL\n",
    "        while (n > 2):                  # FACTORIAL\n",
    "            n = n - 1                   # FACTORIAL\n",
    "            factorial = factorial * n   # FACTORIAL\n",
    "        print('El factorial es', factorial)\n",
    "    else:\n",
    "        print('La variable no es mayor a cero')\n",
    "else:\n",
    "    print('La variable no es un entero')"
   ]
  },
  {
   "attachments": {},
   "cell_type": "markdown",
   "metadata": {},
   "source": [
    "7) Crear un ciclo for dentro de un ciclo while"
   ]
  },
  {
   "cell_type": "code",
   "execution_count": 35,
   "metadata": {},
   "outputs": [
    {
     "name": "stdout",
     "output_type": "stream",
     "text": [
      "Este es el ciclo while numero 1\n",
      "  Este es el ciclo for numero 1\n",
      "  Este es el ciclo for numero 2\n",
      "  Este es el ciclo for numero 3\n",
      "Este es el ciclo while numero 2\n",
      "  Este es el ciclo for numero 1\n",
      "  Este es el ciclo for numero 2\n",
      "  Este es el ciclo for numero 3\n"
     ]
    }
   ],
   "source": [
    "# MUY IMPORTANTE ---USO DE WHILE y FOR---\n",
    "n=1                                                 # WHILE siempre tiene una constante inicial definida\n",
    "while n<3:                                        # WHILE se repite siempre mientras se cumpla la condición\n",
    "    print(f'Este es el ciclo while numero {n}')     #\n",
    "    n=n+1                                           # WHILE necesita siempre este contador n=n+1 ó n=n-1\n",
    "    \n",
    "    for valor in range(1,4):                        # FOR nombre_variable IN RANGE(): \n",
    "        print (f'  Este es el ciclo for numero {valor}')\n",
    "       \n",
    "    #print(f'Este es el ciclo while numero {n}') ---- Acá me agregaba un titulo al final INCORRECTO"
   ]
  },
  {
   "attachments": {},
   "cell_type": "markdown",
   "metadata": {},
   "source": [
    "8) Crear un ciclo while dentro de un ciclo for"
   ]
  },
  {
   "cell_type": "code",
   "execution_count": 53,
   "metadata": {},
   "outputs": [
    {
     "name": "stdout",
     "output_type": "stream",
     "text": [
      "Ciclo FOR número 1\n",
      "    Ciclo WHILE número 1\n",
      "    Ciclo WHILE número 2\n",
      "    Ciclo WHILE número 3\n",
      "    Ciclo WHILE número 4\n",
      "Ciclo FOR número 2\n",
      "    Ciclo WHILE número 1\n",
      "    Ciclo WHILE número 2\n",
      "    Ciclo WHILE número 3\n",
      "    Ciclo WHILE número 4\n",
      "Ciclo FOR número 3\n",
      "    Ciclo WHILE número 1\n",
      "    Ciclo WHILE número 2\n",
      "    Ciclo WHILE número 3\n",
      "    Ciclo WHILE número 4\n"
     ]
    }
   ],
   "source": [
    "\n",
    "for otra_variable in range(1,4):\n",
    "    print(f'Ciclo FOR número {otra_variable}')\n",
    "    i=1\n",
    "    while i<5: #Con o sin paréntesis anda igual\n",
    "        print(f'    Ciclo WHILE número {i}')\n",
    "        i=i+1\n"
   ]
  },
  {
   "attachments": {},
   "cell_type": "markdown",
   "metadata": {},
   "source": [
    "9) Imprimir los números primos existentes entre 0 y 30"
   ]
  },
  {
   "cell_type": "code",
   "execution_count": 97,
   "metadata": {},
   "outputs": [
    {
     "name": "stdout",
     "output_type": "stream",
     "text": [
      "El número 0 es primo\n",
      "El número 1 es primo\n",
      "El número 2 es primo\n",
      "El número 3 es primo\n",
      "El número 5 es primo\n",
      "El número 7 es primo\n",
      "El número 11 es primo\n",
      "El número 13 es primo\n",
      "El número 17 es primo\n",
      "El número 19 es primo\n",
      "El número 23 es primo\n",
      "El número 29 es primo\n"
     ]
    }
   ],
   "source": [
    "# MUY IMPORTANTE ---NÚMEROS PRIMOS---\n",
    "\n",
    "#Un número es primo si solo es divisible por 1 y por si mismo\n",
    "#Son primos: 2,3,5,7,11,13,17,19,23,29 (a todos menos el 2 si lo divido por 2 me dan resto  distinto de 0)\n",
    "#No son primos: 0,1 (especiales) 4,6,8,9,10,12,14,15,16,18,20,21,22,24,25,26,27,28\n",
    "#La dificultad está que al 9,15,21,25,27 dividido por 2 me da resto distinto a 0 también)-- FORMA COMPLICADA\n",
    "#La FORMA SENCILLA es dividir a cada número por los intermedios\n",
    "\n",
    "primo=True\n",
    "n=0\n",
    "while n<30:\n",
    "    for divisor in range(2, n): #El divisor será hasta n-1 y si el resto de dividir por los números intermedios da cero, entonces no será primo\n",
    "        if (n % divisor == 0):  #Por ejemplo: el 6 (no tomo el 1, ni el 6) si divido a 6 por 2,3,4 o 5 y alguno da 0, entonces no será primo.\n",
    "            primo=False \n",
    "            \n",
    "    if primo:\n",
    "        print(f'El número {n} es primo')\n",
    "    else: \n",
    "        primo=True\n",
    "    n += 1\n"
   ]
  },
  {
   "attachments": {},
   "cell_type": "markdown",
   "metadata": {},
   "source": [
    "10) ¿Se puede mejorar el proceso del punto 9? Utilizar las sentencias break y/ó continue para tal fin"
   ]
  },
  {
   "cell_type": "code",
   "execution_count": 98,
   "metadata": {},
   "outputs": [
    {
     "name": "stdout",
     "output_type": "stream",
     "text": [
      "El número 0 es primo\n",
      "El número 1 es primo\n",
      "El número 2 es primo\n",
      "El número 3 es primo\n",
      "El número 5 es primo\n",
      "El número 7 es primo\n",
      "El número 11 es primo\n",
      "El número 13 es primo\n",
      "El número 17 es primo\n",
      "El número 19 es primo\n",
      "El número 23 es primo\n",
      "El número 29 es primo\n"
     ]
    }
   ],
   "source": [
    "primo=True\n",
    "n=0\n",
    "while n<30:\n",
    "    for divisor in range(2, n): #El divisor será hasta n-1\n",
    "        if (n % divisor == 0):\n",
    "            primo=False \n",
    "            break\n",
    "        \n",
    "    if primo:\n",
    "        print(f'El número {n} es primo')\n",
    "    else: \n",
    "        primo=True\n",
    "    n += 1"
   ]
  },
  {
   "attachments": {},
   "cell_type": "markdown",
   "metadata": {},
   "source": [
    "11) En los puntos 9 y 10, se diseño un código que encuentra números primos y además se lo optimizó. ¿Es posible saber en qué medida se optimizó?"
   ]
  },
  {
   "cell_type": "code",
   "execution_count": 105,
   "metadata": {},
   "outputs": [
    {
     "name": "stdout",
     "output_type": "stream",
     "text": [
      "El número 0 es primo\n",
      "El número 1 es primo\n",
      "El número 2 es primo\n",
      "El número 3 es primo\n",
      "El número 5 es primo\n",
      "El número 7 es primo\n",
      "El número 11 es primo\n",
      "El número 13 es primo\n",
      "El número 17 es primo\n",
      "El número 19 es primo\n",
      "El número 23 es primo\n",
      "El número 29 es primo\n",
      "Se contaron 378 ciclos sin BREAK entrando en WHILE y el FOR\n",
      "Se contaron 30 ciclos DE WHILE sin BREAK sin entrar al FOR\n"
     ]
    }
   ],
   "source": [
    "# MUY IMPORTANTE ---CONTADOR de ciclos---\n",
    "\n",
    "conteo_ciclos_A=0\n",
    "conteo_ciclos_B=0\n",
    "primo=True\n",
    "n=0\n",
    "while n<30:\n",
    "    conteo_ciclos_B+=1              #CONTADOR de n° de ciclos WHILE inmediatamente debajo de WHILE\n",
    "    for divisor in range(2, n): \n",
    "        conteo_ciclos_A+=1          #CONTADOR de n° de ciclos FOR inmediatamente debajo de FOR\n",
    "        if (n % divisor == 0):  \n",
    "            primo=False \n",
    "            \n",
    "    if primo:\n",
    "        print(f'El número {n} es primo')\n",
    "    else: \n",
    "        primo=True\n",
    "    n += 1\n",
    "\n",
    "print(f'Se contaron {conteo_ciclos_A} ciclos sin BREAK entrando en WHILE y el FOR')\n",
    "print(f'Se contaron {conteo_ciclos_B} ciclos DE WHILE sin BREAK sin entrar al FOR')"
   ]
  },
  {
   "cell_type": "code",
   "execution_count": 107,
   "metadata": {},
   "outputs": [
    {
     "name": "stdout",
     "output_type": "stream",
     "text": [
      "El número 0 es primo\n",
      "El número 1 es primo\n",
      "El número 2 es primo\n",
      "El número 3 es primo\n",
      "El número 5 es primo\n",
      "El número 7 es primo\n",
      "El número 11 es primo\n",
      "El número 13 es primo\n",
      "El número 17 es primo\n",
      "El número 19 es primo\n",
      "El número 23 es primo\n",
      "El número 29 es primo\n",
      "Se contaron 134 ciclos con BREAK entrando en WHILE y el FOR\n",
      "Se contaron 30 ciclos DE WHILE con BREAK sin entrar al FOR\n"
     ]
    }
   ],
   "source": [
    "conteo_ciclos_C=0\n",
    "conteo_ciclos_D=0\n",
    "primo=True\n",
    "n=0\n",
    "while n<30:\n",
    "    conteo_ciclos_D+=1               #CONTADOR de n° de ciclos WHILE inmediatamente debajo de WHILE\n",
    "    for divisor in range(2, n): \n",
    "        conteo_ciclos_C+=1           #CONTADOR de n° de ciclos FOR inmediatamente debajo de FOR\n",
    "        if (n % divisor == 0):  \n",
    "            primo=False \n",
    "            break\n",
    "        \n",
    "    if primo:\n",
    "        print(f'El número {n} es primo')\n",
    "    else: \n",
    "        primo=True\n",
    "    n += 1\n",
    "\n",
    "print(f'Se contaron {conteo_ciclos_C} ciclos con BREAK entrando en WHILE y el FOR')\n",
    "print(f'Se contaron {conteo_ciclos_D} ciclos DE WHILE con BREAK sin entrar al FOR')"
   ]
  },
  {
   "attachments": {},
   "cell_type": "markdown",
   "metadata": {},
   "source": [
    "12) Aplicando continue, armar un ciclo while que solo imprima los valores divisibles por 12, dentro del rango de números de 100 a 300"
   ]
  },
  {
   "cell_type": "code",
   "execution_count": 9,
   "metadata": {},
   "outputs": [
    {
     "name": "stdout",
     "output_type": "stream",
     "text": [
      "Los números divisibles por 12 entre 100 y 300 son:\n",
      "108\n",
      "120\n",
      "132\n",
      "144\n",
      "156\n",
      "168\n",
      "180\n",
      "192\n",
      "204\n",
      "216\n",
      "228\n",
      "240\n",
      "252\n",
      "264\n",
      "276\n",
      "288\n"
     ]
    }
   ],
   "source": [
    "# MUY IMPORTANTE ---USO DE WHILE y CONTADORES de ciclos---\n",
    "n=100                                                 # WHILE siempre tiene una constante inicial definida\n",
    "print(f'Los números divisibles por 12 entre {n} y 300 son:')\n",
    "while n<300:                                        # WHILE se repite siempre mientras se cumpla la condición\n",
    "    #print(f'Este es el ciclo while numero {n-100} igual a {n}')     #CONTADOR inmediatamente debajo de WHILE\n",
    "    if n %12 == 0:\n",
    "        print(n)\n",
    "\n",
    "    n=n+1                                          \n",
    "    "
   ]
  },
  {
   "attachments": {},
   "cell_type": "markdown",
   "metadata": {},
   "source": [
    "13) Utilizar la función **input()** que permite hacer ingresos por teclado, para encontrar números primos y dar la opción al usario de buscar el siguiente"
   ]
  },
  {
   "cell_type": "code",
   "execution_count": 13,
   "metadata": {},
   "outputs": [
    {
     "name": "stdout",
     "output_type": "stream",
     "text": [
      "El número 0 es primo\n",
      "¿SEGUIR O NO? --------- PRESIONE 1 para (SI)\n",
      "----------------------- PRESIONE otro valor para (NO)\n",
      "----------------------TERMINADO----------------------\n"
     ]
    }
   ],
   "source": [
    "# MUY IMPORTANTE \n",
    "#---NÚMEROS PRIMOS + IMPUT() para ingresar datos por teclado---\n",
    "\n",
    "#Un número es primo si solo es divisible por 1 y por si mismo\n",
    "#Son primos: 2,3,5,7,11,13,17,19,23,29 (a todos menos el 2 si \n",
    "#lo divido por 2 me dan resto  distinto de 0)\n",
    "\n",
    "#No son primos: 0,1 (especiales) 4,6,8,9,10,12,14,15,16,18,\n",
    "#20,21,22,24,25,26,27,28\n",
    "\n",
    "#La dificultad está que al 9,15,21,25,27 dividido por 2 me da \n",
    "#resto distinto a 0 también)-- FORMA COMPLICADA\n",
    "#La FORMA SENCILLA es dividir a cada número por los intermedios\n",
    "#--------------------------------------------------------------\n",
    "#Ahora: al salir el primer número primo debo hacer la pregunta \n",
    "#¿SEGUIR O NO?\n",
    "#La pregunta debería estar inmediata a la primera salida\n",
    "primo=True\n",
    "n=0\n",
    "while n<30:\n",
    "    for divisor in range(2, n): #El divisor será hasta n-1 y si el resto de dividir por los números intermedios da cero, entonces no será primo\n",
    "        if (n % divisor == 0):  #Por ejemplo: el 6 (no tomo el 1, ni el 6) si divido a 6 por 2,3,4 o 5 y alguno da 0, entonces no será primo.\n",
    "            primo=False \n",
    "\n",
    "    if primo:\n",
    "        print(f'El número {n} es primo')\n",
    "        print('¿SEGUIR O NO? --------- PRESIONE 1 para (SI)')\n",
    "        print('----------------------- PRESIONE otro valor para (NO)')\n",
    "        if (input() != '1'):\n",
    "            print('------------------TERMINADO----------------------')\n",
    "            break\n",
    "    \n",
    "    else: \n",
    "        primo=True\n",
    "    n += 1\n",
    "\n",
    "\n"
   ]
  },
  {
   "attachments": {},
   "cell_type": "markdown",
   "metadata": {},
   "source": [
    "14) Crear un ciclo while que encuentre dentro del rango de 100 a 300 el primer número divisible por 3 y además múltiplo de 6"
   ]
  },
  {
   "cell_type": "code",
   "execution_count": 22,
   "metadata": {},
   "outputs": [
    {
     "name": "stdout",
     "output_type": "stream",
     "text": [
      "El número 102 es divisible por 3 y multiplo de 6\n"
     ]
    }
   ],
   "source": [
    "indice=100\n",
    "while indice<300:\n",
    "    if indice % 3 ==0 and indice % 6 == 0:\n",
    "        print (f'El número {indice} es divisible por 3 y multiplo de 6')\n",
    "        break #Se pone al final de la condición\n",
    "    indice+=1 #Daba error porque estaba debajo de WHILE"
   ]
  }
 ],
 "metadata": {
  "interpreter": {
   "hash": "c85384e4cb51c8b72350f3a8712cc8351fdc3955e32a27f9b60c6242ab125f01"
  },
  "kernelspec": {
   "display_name": "Python 3 (ipykernel)",
   "language": "python",
   "name": "python3"
  },
  "language_info": {
   "codemirror_mode": {
    "name": "ipython",
    "version": 3
   },
   "file_extension": ".py",
   "mimetype": "text/x-python",
   "name": "python",
   "nbconvert_exporter": "python",
   "pygments_lexer": "ipython3",
   "version": "3.11.6"
  }
 },
 "nbformat": 4,
 "nbformat_minor": 4
}
