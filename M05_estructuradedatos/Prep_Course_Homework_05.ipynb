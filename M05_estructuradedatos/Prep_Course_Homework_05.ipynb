{
 "cells": [
  {
   "attachments": {},
   "cell_type": "markdown",
   "metadata": {},
   "source": [
    "## Estructuras de Datos"
   ]
  },
  {
   "attachments": {},
   "cell_type": "markdown",
   "metadata": {},
   "source": [
    "1) Crear una lista que contenga nombres de ciudades del mundo que contenga más de 5 elementos e imprimir por pantalla"
   ]
  },
  {
   "cell_type": "code",
   "execution_count": 20,
   "metadata": {},
   "outputs": [
    {
     "name": "stdout",
     "output_type": "stream",
     "text": [
      "['Mar del Plata', 'Buenos Aires', 'Ajaccio', 'Buzios', 'San Alfonso', 'Pisa']\n"
     ]
    }
   ],
   "source": [
    "# LISTAS ---- van con [ '  ', '  ' ]\n",
    "ciudades_mundo=['Mar del Plata', 'Buenos Aires', 'Ajaccio', 'Buzios', 'San Alfonso', 'Pisa']\n",
    "print(ciudades_mundo)"
   ]
  },
  {
   "attachments": {},
   "cell_type": "markdown",
   "metadata": {},
   "source": [
    "2) Imprimir por pantalla el segundo elemento de la lista"
   ]
  },
  {
   "cell_type": "code",
   "execution_count": 21,
   "metadata": {},
   "outputs": [
    {
     "name": "stdout",
     "output_type": "stream",
     "text": [
      "Buenos Aires\n"
     ]
    }
   ],
   "source": [
    "#Los elementos de una lista se indexan desde o en adelante\n",
    "print(ciudades_mundo[1])"
   ]
  },
  {
   "attachments": {},
   "cell_type": "markdown",
   "metadata": {},
   "source": [
    "3) Imprimir por pantalla del segundo al cuarto elemento"
   ]
  },
  {
   "cell_type": "code",
   "execution_count": 22,
   "metadata": {},
   "outputs": [
    {
     "name": "stdout",
     "output_type": "stream",
     "text": [
      "['Buenos Aires', 'Ajaccio', 'Buzios']\n"
     ]
    }
   ],
   "source": [
    "print(ciudades_mundo[1:4])"
   ]
  },
  {
   "attachments": {},
   "cell_type": "markdown",
   "metadata": {},
   "source": [
    "4) Visualizar el tipo de dato de la lista"
   ]
  },
  {
   "cell_type": "code",
   "execution_count": 23,
   "metadata": {},
   "outputs": [
    {
     "data": {
      "text/plain": [
       "list"
      ]
     },
     "execution_count": 23,
     "metadata": {},
     "output_type": "execute_result"
    }
   ],
   "source": [
    "type (ciudades_mundo)"
   ]
  },
  {
   "cell_type": "code",
   "execution_count": 24,
   "metadata": {},
   "outputs": [
    {
     "name": "stdout",
     "output_type": "stream",
     "text": [
      "<class 'list'>\n"
     ]
    }
   ],
   "source": [
    "#o también:\n",
    "\n",
    "print(type(ciudades_mundo))"
   ]
  },
  {
   "attachments": {},
   "cell_type": "markdown",
   "metadata": {},
   "source": [
    "5) Visualizar todos los elementos de la lista a partir del tercero de manera genérica, es decir, sin explicitar la posición del último elemento"
   ]
  },
  {
   "cell_type": "code",
   "execution_count": 25,
   "metadata": {},
   "outputs": [
    {
     "name": "stdout",
     "output_type": "stream",
     "text": [
      "['Ajaccio', 'Buzios', 'San Alfonso', 'Pisa']\n"
     ]
    }
   ],
   "source": [
    "print(ciudades_mundo[2:])"
   ]
  },
  {
   "attachments": {},
   "cell_type": "markdown",
   "metadata": {},
   "source": [
    "6) Visualizar los primeros 4 elementos de la lista"
   ]
  },
  {
   "cell_type": "code",
   "execution_count": 26,
   "metadata": {},
   "outputs": [
    {
     "name": "stdout",
     "output_type": "stream",
     "text": [
      "['Mar del Plata', 'Buenos Aires', 'Ajaccio', 'Buzios']\n"
     ]
    }
   ],
   "source": [
    "print(ciudades_mundo[:4])"
   ]
  },
  {
   "attachments": {},
   "cell_type": "markdown",
   "metadata": {},
   "source": [
    "7) Agregar una ciudad más a la lista que ya exista y otra que no ¿Arroja algún tipo de error?"
   ]
  },
  {
   "cell_type": "code",
   "execution_count": 28,
   "metadata": {},
   "outputs": [
    {
     "name": "stdout",
     "output_type": "stream",
     "text": [
      "['Mar del Plata', 'Buenos Aires', 'Ajaccio', 'Buzios', 'San Alfonso', 'Pisa', 'Rusia', 'España', 'Paris', 'Mar del Plata']\n"
     ]
    }
   ],
   "source": [
    "# APPEND / IMPORTANTE ---- Agregar elementos a lista con .APPEND(  )\n",
    "#ciudades_mundo.append('Rusia','España') NO se puede agregar más de uno a la vez\n",
    "\n",
    "ciudades_mundo.append('Paris')\n",
    "ciudades_mundo.append('Mar del Plata')\n",
    "print(ciudades_mundo)"
   ]
  },
  {
   "attachments": {},
   "cell_type": "markdown",
   "metadata": {},
   "source": [
    "8) Agregar otra ciudad, pero en la cuarta posición"
   ]
  },
  {
   "cell_type": "code",
   "execution_count": 29,
   "metadata": {},
   "outputs": [
    {
     "name": "stdout",
     "output_type": "stream",
     "text": [
      "['Mar del Plata', 'Buenos Aires', 'Ajaccio', 'Otra Ciudad :)', 'Buzios', 'San Alfonso', 'Pisa', 'Rusia', 'España', 'Paris', 'Mar del Plata']\n"
     ]
    }
   ],
   "source": [
    "# INSERT / Agregar elemento en posición determinada .INSERT(i, 'elemento') donde i es la posición o indice\n",
    "\n",
    "ciudades_mundo.insert(3,'Otra Ciudad :)')\n",
    "print(ciudades_mundo)"
   ]
  },
  {
   "attachments": {},
   "cell_type": "markdown",
   "metadata": {},
   "source": [
    "9) Concatenar otra lista a la ya creada"
   ]
  },
  {
   "cell_type": "code",
   "execution_count": 30,
   "metadata": {},
   "outputs": [
    {
     "name": "stdout",
     "output_type": "stream",
     "text": [
      "['Mar del Plata', 'Buenos Aires', 'Ajaccio', 'Otra Ciudad :)', 'Buzios', 'San Alfonso', 'Pisa', 'Rusia', 'España', 'Paris', 'Mar del Plata', 'Rio de Janeiro', 'Tandil', 'Adrogué']\n"
     ]
    }
   ],
   "source": [
    "# EXTEND / Unir (concatenar) una lista aún no definida con .EXTEND([ a , b , c ])\n",
    "ciudades_mundo.extend(['Rio de Janeiro', 'Tandil', 'Adrogué'])\n",
    "print(ciudades_mundo)"
   ]
  },
  {
   "attachments": {},
   "cell_type": "markdown",
   "metadata": {},
   "source": [
    "10) Encontrar el índice de la ciudad que en el punto 7 agregamos duplicada. ¿Se nota alguna particularidad?"
   ]
  },
  {
   "cell_type": "code",
   "execution_count": 31,
   "metadata": {},
   "outputs": [
    {
     "name": "stdout",
     "output_type": "stream",
     "text": [
      "0\n"
     ]
    }
   ],
   "source": [
    "# INDEX para buscar el indice i de un elemento (si hay varios iguales, me da el primero)\n",
    "print(ciudades_mundo.index('Mar del Plata'))\n"
   ]
  },
  {
   "attachments": {},
   "cell_type": "markdown",
   "metadata": {},
   "source": [
    "11) ¿Qué pasa si se busca un elemento que no existe?"
   ]
  },
  {
   "cell_type": "code",
   "execution_count": 32,
   "metadata": {},
   "outputs": [
    {
     "ename": "ValueError",
     "evalue": "'Ciudad inexixtente' is not in list",
     "output_type": "error",
     "traceback": [
      "\u001b[1;31m---------------------------------------------------------------------------\u001b[0m",
      "\u001b[1;31mValueError\u001b[0m                                Traceback (most recent call last)",
      "Cell \u001b[1;32mIn[32], line 1\u001b[0m\n\u001b[1;32m----> 1\u001b[0m \u001b[38;5;28mprint\u001b[39m(\u001b[43mciudades_mundo\u001b[49m\u001b[38;5;241;43m.\u001b[39;49m\u001b[43mindex\u001b[49m\u001b[43m(\u001b[49m\u001b[38;5;124;43m'\u001b[39;49m\u001b[38;5;124;43mCiudad inexixtente\u001b[39;49m\u001b[38;5;124;43m'\u001b[39;49m\u001b[43m)\u001b[49m)\n",
      "\u001b[1;31mValueError\u001b[0m: 'Ciudad inexixtente' is not in list"
     ]
    }
   ],
   "source": [
    "print(ciudades_mundo.index('Ciudad inexixtente'))"
   ]
  },
  {
   "attachments": {},
   "cell_type": "markdown",
   "metadata": {},
   "source": [
    "12) Eliminar un elemento de la lista"
   ]
  },
  {
   "cell_type": "code",
   "execution_count": 33,
   "metadata": {},
   "outputs": [
    {
     "name": "stdout",
     "output_type": "stream",
     "text": [
      "['Buenos Aires', 'Ajaccio', 'Otra Ciudad :)', 'Buzios', 'San Alfonso', 'Pisa', 'Rusia', 'España', 'Paris', 'Mar del Plata', 'Rio de Janeiro', 'Tandil', 'Adrogué']\n"
     ]
    }
   ],
   "source": [
    "# REMOVE p/ eliminar un elemento de la lista\n",
    "\n",
    "ciudades_mundo.remove('Mar del Plata')\n",
    "print(ciudades_mundo)"
   ]
  },
  {
   "attachments": {},
   "cell_type": "markdown",
   "metadata": {},
   "source": [
    "13) ¿Qué pasa si el elemento a eliminar no existe?"
   ]
  },
  {
   "cell_type": "code",
   "execution_count": 34,
   "metadata": {},
   "outputs": [
    {
     "ename": "ValueError",
     "evalue": "list.remove(x): x not in list",
     "output_type": "error",
     "traceback": [
      "\u001b[1;31m---------------------------------------------------------------------------\u001b[0m",
      "\u001b[1;31mValueError\u001b[0m                                Traceback (most recent call last)",
      "Cell \u001b[1;32mIn[34], line 1\u001b[0m\n\u001b[1;32m----> 1\u001b[0m \u001b[43mciudades_mundo\u001b[49m\u001b[38;5;241;43m.\u001b[39;49m\u001b[43mremove\u001b[49m\u001b[43m(\u001b[49m\u001b[38;5;124;43m'\u001b[39;49m\u001b[38;5;124;43mMiramar\u001b[39;49m\u001b[38;5;124;43m'\u001b[39;49m\u001b[43m)\u001b[49m\n\u001b[0;32m      2\u001b[0m \u001b[38;5;28mprint\u001b[39m(ciudades_mundo)\n",
      "\u001b[1;31mValueError\u001b[0m: list.remove(x): x not in list"
     ]
    }
   ],
   "source": [
    "ciudades_mundo.remove('Miramar')\n",
    "print(ciudades_mundo)"
   ]
  },
  {
   "attachments": {},
   "cell_type": "markdown",
   "metadata": {},
   "source": [
    "14) Extraer el úlimo elemento de la lista, guardarlo en una variable e imprimirlo"
   ]
  },
  {
   "cell_type": "code",
   "execution_count": 35,
   "metadata": {},
   "outputs": [
    {
     "name": "stdout",
     "output_type": "stream",
     "text": [
      "Adrogué\n"
     ]
    }
   ],
   "source": [
    "# POP elimina y guarda el último elemento de la lista\n",
    "\n",
    "valor_eliminado=ciudades_mundo.pop()\n",
    "print(valor_eliminado)"
   ]
  },
  {
   "attachments": {},
   "cell_type": "markdown",
   "metadata": {},
   "source": [
    "15) Mostrar la lista multiplicada por 4"
   ]
  },
  {
   "cell_type": "code",
   "execution_count": 36,
   "metadata": {},
   "outputs": [
    {
     "name": "stdout",
     "output_type": "stream",
     "text": [
      "['Buenos Aires', 'Ajaccio', 'Otra Ciudad :)', 'Buzios', 'San Alfonso', 'Pisa', 'Rusia', 'España', 'Paris', 'Mar del Plata', 'Rio de Janeiro', 'Tandil', 'Buenos Aires', 'Ajaccio', 'Otra Ciudad :)', 'Buzios', 'San Alfonso', 'Pisa', 'Rusia', 'España', 'Paris', 'Mar del Plata', 'Rio de Janeiro', 'Tandil', 'Buenos Aires', 'Ajaccio', 'Otra Ciudad :)', 'Buzios', 'San Alfonso', 'Pisa', 'Rusia', 'España', 'Paris', 'Mar del Plata', 'Rio de Janeiro', 'Tandil', 'Buenos Aires', 'Ajaccio', 'Otra Ciudad :)', 'Buzios', 'San Alfonso', 'Pisa', 'Rusia', 'España', 'Paris', 'Mar del Plata', 'Rio de Janeiro', 'Tandil']\n"
     ]
    }
   ],
   "source": [
    "print(ciudades_mundo*4)"
   ]
  },
  {
   "attachments": {},
   "cell_type": "markdown",
   "metadata": {},
   "source": [
    "16) Crear una tupla que contenga los números enteros del 1 al 20"
   ]
  },
  {
   "cell_type": "code",
   "execution_count": 37,
   "metadata": {},
   "outputs": [],
   "source": [
    "tupla=(1,2,3,4,5,6,7,8,9,10,11,12,13,14,15,16,17,18,19,20)"
   ]
  },
  {
   "attachments": {},
   "cell_type": "markdown",
   "metadata": {},
   "source": [
    "17) Imprimir desde el índice 10 al 15 de la tupla"
   ]
  },
  {
   "cell_type": "code",
   "execution_count": 39,
   "metadata": {},
   "outputs": [
    {
     "name": "stdout",
     "output_type": "stream",
     "text": [
      "(11, 12, 13, 14, 15)\n"
     ]
    }
   ],
   "source": [
    "print(tupla[10:15])"
   ]
  },
  {
   "attachments": {},
   "cell_type": "markdown",
   "metadata": {},
   "source": [
    "18) Evaluar si los números 20 y 30 están dentro de la tupla"
   ]
  },
  {
   "cell_type": "code",
   "execution_count": 43,
   "metadata": {},
   "outputs": [
    {
     "name": "stdout",
     "output_type": "stream",
     "text": [
      "El 20 pertenece a la tupla\n",
      "El 30 no pertenece a la tupla\n"
     ]
    }
   ],
   "source": [
    "# Ver si pertenece a una tupla\n",
    "\n",
    "valor_1=20\n",
    "valor_2=30\n",
    "\n",
    "if valor_1 in tupla:\n",
    "    print(f'El {valor_1} pertenece a la tupla')\n",
    "else:\n",
    "    print(f'El {valor_1} no pertenece')\n",
    "\n",
    "if valor_2 in tupla:\n",
    "    print(f'El {valor_2} pertenece a la tupla')\n",
    "else:\n",
    "    print(f'El {valor_2} no pertenece a la tupla')\n"
   ]
  },
  {
   "cell_type": "code",
   "execution_count": 45,
   "metadata": {},
   "outputs": [
    {
     "name": "stdout",
     "output_type": "stream",
     "text": [
      "True\n",
      "False\n"
     ]
    }
   ],
   "source": [
    "# ---- IN---- FORMA REDUCIDA de ver si un elemento pertenece a una tupla\n",
    "print(20 in tupla)\n",
    "print(30 in tupla)"
   ]
  },
  {
   "attachments": {},
   "cell_type": "markdown",
   "metadata": {},
   "source": [
    "19) Con la lista creada en el punto 1, validar la existencia del elemento 'París' y si no existe, agregarlo. Utilizar una variable e informar lo sucedido."
   ]
  },
  {
   "cell_type": "code",
   "execution_count": 46,
   "metadata": {},
   "outputs": [
    {
     "name": "stdout",
     "output_type": "stream",
     "text": [
      "El elemento París no estaba en la lista, se agregó\n",
      "['Mar del Plata', 'Buenos Aires', 'Ajaccio', 'Buzios', 'San Alfonso', 'Pisa', 'París']\n"
     ]
    }
   ],
   "source": [
    "lista_punto_1=['Mar del Plata', 'Buenos Aires', 'Ajaccio', 'Buzios', 'San Alfonso', 'Pisa']\n",
    "\n",
    "elemento='París'\n",
    "if elemento in lista_punto_1:\n",
    "    print(f'El elemento {elemento} está en la lista')\n",
    "else:\n",
    "    lista_punto_1.append(elemento)\n",
    "    print(f'El elemento {elemento} no estaba en la lista, se agregó')\n",
    "    print(lista_punto_1)"
   ]
  },
  {
   "attachments": {},
   "cell_type": "markdown",
   "metadata": {},
   "source": [
    "20) Mostrar la cantidad de veces que se encuentra un elemento específico dentro de la tupla y de la lista"
   ]
  },
  {
   "cell_type": "code",
   "execution_count": 47,
   "metadata": {},
   "outputs": [
    {
     "name": "stdout",
     "output_type": "stream",
     "text": [
      "1\n",
      "0\n"
     ]
    }
   ],
   "source": [
    "# COUNT - Cuenta las veces que un elemento está en una lista. ----- print(nombre_variable.count(valor))\n",
    "\n",
    "print(lista_punto_1.count('Mar del Plata'))\n",
    "print(lista_punto_1.count('Ciudad_inexixtente'))"
   ]
  },
  {
   "attachments": {},
   "cell_type": "markdown",
   "metadata": {},
   "source": [
    "21) Convertir la tupla en una lista"
   ]
  },
  {
   "cell_type": "code",
   "execution_count": 7,
   "metadata": {},
   "outputs": [
    {
     "name": "stdout",
     "output_type": "stream",
     "text": [
      "('a', 'b', 'c', 'd', 'e')\n",
      "['a', 'b', 'c', 'd', 'e']\n"
     ]
    }
   ],
   "source": [
    "# LIST ----- para convertir una TUPLA a LISTA\n",
    "\n",
    "tupla_nueva=('a','b','c', 'd', 'e')\n",
    "print(tupla_nueva)\n",
    "\n",
    "lista_nueva=(list(tupla_nueva))\n",
    "print(lista_nueva)"
   ]
  },
  {
   "attachments": {},
   "cell_type": "markdown",
   "metadata": {},
   "source": [
    "22) Desempaquetar solo los primeros 3 elementos de la tupla en 3 variables"
   ]
  },
  {
   "cell_type": "code",
   "execution_count": 10,
   "metadata": {},
   "outputs": [
    {
     "name": "stdout",
     "output_type": "stream",
     "text": [
      "a\n",
      "b\n",
      "c\n"
     ]
    }
   ],
   "source": [
    "# DESEMPAQUETAR -------- se debe completar con guión bajo los lugares restantes o sino dará ERROR\n",
    "\n",
    "elemento1, elemento2,elemento3, _ , _ = tupla_nueva\n",
    "print(elemento1)\n",
    "print(elemento2)\n",
    "print(elemento3)\n",
    "\n",
    "# Caso que no recuerde cuantos items tiene la tupla:\n",
    "# elemento1, elemento2, elemento 3= tupla_nueva [0:3] y toma los tres primeros elementos"
   ]
  },
  {
   "attachments": {},
   "cell_type": "markdown",
   "metadata": {},
   "source": [
    "23) Crear un diccionario utilizando la lista creada en el punto 1, asignandole la clave \"ciudad\". Agregar tambien otras claves, como puede ser \"Pais\" y \"Continente\"."
   ]
  },
  {
   "cell_type": "code",
   "execution_count": 60,
   "metadata": {},
   "outputs": [],
   "source": [
    "# DICCIONARIOS ---- se definen con {  } ---- nombre={'nombre1': [elemento1, elemento2], 'nombre2': [elemento3, elemento4]}\n",
    "\n",
    "diccionario= {'Ciudad': lista_punto_1 , 'Pais': ['Argentina','Brasil', 'España'] , 'Continente': ['América' , 'Europa']}"
   ]
  },
  {
   "attachments": {},
   "cell_type": "markdown",
   "metadata": {},
   "source": [
    "24) Imprimir las claves del diccionario"
   ]
  },
  {
   "cell_type": "code",
   "execution_count": 63,
   "metadata": {},
   "outputs": [
    {
     "name": "stdout",
     "output_type": "stream",
     "text": [
      "dict_keys(['Ciudad', 'Pais', 'Continente'])\n"
     ]
    }
   ],
   "source": [
    "# KEYS ---- imprime las CLAVES de un DICCIONARIO .keys()\n",
    "\n",
    "print(diccionario.keys())"
   ]
  },
  {
   "attachments": {},
   "cell_type": "markdown",
   "metadata": {},
   "source": [
    "25) Imprimir las ciudades a través de su clave"
   ]
  },
  {
   "cell_type": "code",
   "execution_count": 64,
   "metadata": {},
   "outputs": [
    {
     "name": "stdout",
     "output_type": "stream",
     "text": [
      "['Mar del Plata', 'Buenos Aires', 'Ajaccio', 'Buzios', 'San Alfonso', 'Pisa', 'París']\n"
     ]
    }
   ],
   "source": [
    "# IMPRIMIR por CLAVE de un DICCIONARIO\n",
    "\n",
    "print(diccionario['Ciudad'])\n"
   ]
  },
  {
   "cell_type": "code",
   "execution_count": null,
   "metadata": {},
   "outputs": [],
   "source": []
  },
  {
   "cell_type": "code",
   "execution_count": null,
   "metadata": {},
   "outputs": [],
   "source": []
  },
  {
   "cell_type": "code",
   "execution_count": null,
   "metadata": {},
   "outputs": [],
   "source": []
  },
  {
   "cell_type": "code",
   "execution_count": null,
   "metadata": {},
   "outputs": [],
   "source": []
  }
 ],
 "metadata": {
  "interpreter": {
   "hash": "c85384e4cb51c8b72350f3a8712cc8351fdc3955e32a27f9b60c6242ab125f01"
  },
  "kernelspec": {
   "display_name": "Python 3 (ipykernel)",
   "language": "python",
   "name": "python3"
  },
  "language_info": {
   "codemirror_mode": {
    "name": "ipython",
    "version": 3
   },
   "file_extension": ".py",
   "mimetype": "text/x-python",
   "name": "python",
   "nbconvert_exporter": "python",
   "pygments_lexer": "ipython3",
   "version": "3.11.6"
  }
 },
 "nbformat": 4,
 "nbformat_minor": 4
}
