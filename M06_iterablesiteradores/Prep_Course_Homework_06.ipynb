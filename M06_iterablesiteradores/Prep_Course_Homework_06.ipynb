{
 "cells": [
  {
   "attachments": {},
   "cell_type": "markdown",
   "metadata": {},
   "source": [
    "## Iteradores e iterables"
   ]
  },
  {
   "attachments": {},
   "cell_type": "markdown",
   "metadata": {},
   "source": [
    "1) A partir de una lista vacía, utilizar un ciclo while para cargar allí números negativos del -15 al -1"
   ]
  },
  {
   "cell_type": "code",
   "execution_count": 3,
   "metadata": {},
   "outputs": [
    {
     "name": "stdout",
     "output_type": "stream",
     "text": [
      "[-15]\n",
      "[-15, -14]\n",
      "[-15, -14, -13]\n",
      "[-15, -14, -13, -12]\n",
      "[-15, -14, -13, -12, -11]\n",
      "[-15, -14, -13, -12, -11, -10]\n",
      "[-15, -14, -13, -12, -11, -10, -9]\n",
      "[-15, -14, -13, -12, -11, -10, -9, -8]\n",
      "[-15, -14, -13, -12, -11, -10, -9, -8, -7]\n",
      "[-15, -14, -13, -12, -11, -10, -9, -8, -7, -6]\n",
      "[-15, -14, -13, -12, -11, -10, -9, -8, -7, -6, -5]\n",
      "[-15, -14, -13, -12, -11, -10, -9, -8, -7, -6, -5, -4]\n",
      "[-15, -14, -13, -12, -11, -10, -9, -8, -7, -6, -5, -4, -3]\n",
      "[-15, -14, -13, -12, -11, -10, -9, -8, -7, -6, -5, -4, -3, -2]\n",
      "[-15, -14, -13, -12, -11, -10, -9, -8, -7, -6, -5, -4, -3, -2, -1]\n"
     ]
    }
   ],
   "source": [
    "# Uso APPEND para ir cargando los valores de a uno con el bucle WHILE\n",
    "\n",
    "lista_vacia=[]\n",
    "i=-15\n",
    "while i <0:\n",
    "    valor_a_cargar=i\n",
    "    lista_vacia.append(i)\n",
    "    print(lista_vacia)\n",
    "    i+=1\n",
    "\n"
   ]
  },
  {
   "attachments": {},
   "cell_type": "markdown",
   "metadata": {},
   "source": [
    "2) ¿Con un ciclo while sería posible recorrer la lista para imprimir sólo los números pares?"
   ]
  },
  {
   "cell_type": "code",
   "execution_count": 7,
   "metadata": {},
   "outputs": [
    {
     "name": "stdout",
     "output_type": "stream",
     "text": [
      "-14\n",
      "-12\n",
      "-10\n",
      "-8\n",
      "-6\n",
      "-4\n",
      "-2\n"
     ]
    }
   ],
   "source": [
    "lista_llena=[-15, -14, -13, -12, -11, -10, -9, -8, -7, -6, -5, -4, -3, -2, -1]\n",
    "\n",
    "#1° Debo seleccionar cada valor de -15 a-1 y luego ver si es par\n",
    "\n",
    "i=0 \n",
    "while i < 15:\n",
    "    if (lista_llena[i]) %2 ==0:\n",
    "        print(lista_llena[i])\n",
    "    i+=1"
   ]
  },
  {
   "attachments": {},
   "cell_type": "markdown",
   "metadata": {},
   "source": [
    "3) Resolver el punto anterior sin utilizar un ciclo while"
   ]
  },
  {
   "cell_type": "code",
   "execution_count": 8,
   "metadata": {},
   "outputs": [
    {
     "name": "stdout",
     "output_type": "stream",
     "text": [
      "-14\n",
      "-12\n",
      "-10\n",
      "-8\n",
      "-6\n",
      "-4\n",
      "-2\n"
     ]
    }
   ],
   "source": [
    "for valor in range(-15,0):\n",
    "    if valor %2 ==0:\n",
    "        print(lista_llena[valor])"
   ]
  },
  {
   "attachments": {},
   "cell_type": "markdown",
   "metadata": {},
   "source": [
    "4) Utilizar el iterable para recorrer sólo los primeros 3 elementos"
   ]
  },
  {
   "cell_type": "code",
   "execution_count": 9,
   "metadata": {},
   "outputs": [
    {
     "name": "stdout",
     "output_type": "stream",
     "text": [
      "-15\n",
      "-14\n",
      "-13\n"
     ]
    }
   ],
   "source": [
    "for numero in lista_vacia[0:3]:\n",
    "    print(numero)"
   ]
  },
  {
   "attachments": {},
   "cell_type": "markdown",
   "metadata": {},
   "source": [
    "5) Utilizar la función **enumerate** para obtener dentro del iterable, tambien el índice al que corresponde el elemento"
   ]
  },
  {
   "cell_type": "code",
   "execution_count": 11,
   "metadata": {},
   "outputs": [
    {
     "name": "stdout",
     "output_type": "stream",
     "text": [
      "0 -15\n",
      "1 -14\n",
      "2 -13\n"
     ]
    }
   ],
   "source": [
    "# IMPORTANTE ENUMERATE + INDICES ----- me entrega el indice y el valor, por lo que tengo 2 variables con ENUMERATE\n",
    "for indice, valor in enumerate(lista_llena[0:3]):\n",
    "    print(indice,valor)"
   ]
  },
  {
   "attachments": {},
   "cell_type": "markdown",
   "metadata": {},
   "source": [
    "6) Dada la siguiente lista de números enteros entre 1 y 20, crear un ciclo donde se completen los valores faltantes: lista = [1,2,5,7,8,10,13,14,15,17,20]"
   ]
  },
  {
   "cell_type": "code",
   "execution_count": 17,
   "metadata": {},
   "outputs": [
    {
     "name": "stdout",
     "output_type": "stream",
     "text": [
      "El número 1 está\n",
      "El número 2 está\n",
      "El número 3 NO ESTÁ, se agregará\n",
      "El número 4 NO ESTÁ, se agregará\n",
      "El número 5 está\n",
      "El número 6 NO ESTÁ, se agregará\n",
      "El número 7 está\n",
      "El número 8 está\n",
      "El número 9 NO ESTÁ, se agregará\n",
      "El número 10 está\n",
      "El número 11 NO ESTÁ, se agregará\n",
      "El número 12 NO ESTÁ, se agregará\n",
      "El número 13 está\n",
      "El número 14 está\n",
      "El número 15 está\n",
      "El número 16 NO ESTÁ, se agregará\n",
      "El número 17 está\n",
      "El número 18 NO ESTÁ, se agregará\n",
      "El número 19 NO ESTÁ, se agregará\n",
      "La lista quedó:\n",
      "[1, 2, 5, 7, 8, 10, 13, 14, 15, 17, 20, 3, 4, 6, 9, 11, 12, 16, 18, 19]\n"
     ]
    }
   ],
   "source": [
    "# Diferencia entre APPEND e INSERT\n",
    "# Con APPEND me queda desordenado ya que al valor nuevo lo pone al final de la lista\n",
    "# Con INSERT se puede determinar donde va el valor.\n",
    "\n",
    "lista_a_completar = [1,2,5,7,8,10,13,14,15,17,20]\n",
    "\n",
    "for valor_ver_si_esta in range(1,20):\n",
    "    if valor_ver_si_esta in lista_a_completar:\n",
    "        print(f'El número {valor_ver_si_esta} está')\n",
    "    else:\n",
    "        lista_a_completar.append(valor_ver_si_esta)\n",
    "        print(f'El número {valor_ver_si_esta} NO ESTÁ, se agregará')\n",
    "\n",
    "print('La lista quedó:')\n",
    "print(lista_a_completar)"
   ]
  },
  {
   "cell_type": "code",
   "execution_count": 20,
   "metadata": {},
   "outputs": [
    {
     "name": "stdout",
     "output_type": "stream",
     "text": [
      "El número 1 está\n",
      "El número 2 está\n",
      "El número 3 NO ESTÁ, se agregará\n",
      "El número 4 NO ESTÁ, se agregará\n",
      "El número 5 está\n",
      "El número 6 NO ESTÁ, se agregará\n",
      "El número 7 está\n",
      "El número 8 está\n",
      "El número 9 NO ESTÁ, se agregará\n",
      "El número 10 está\n",
      "El número 11 NO ESTÁ, se agregará\n",
      "El número 12 NO ESTÁ, se agregará\n",
      "El número 13 está\n",
      "El número 14 está\n",
      "El número 15 está\n",
      "El número 16 NO ESTÁ, se agregará\n",
      "El número 17 está\n",
      "El número 18 NO ESTÁ, se agregará\n",
      "El número 19 NO ESTÁ, se agregará\n",
      "La lista quedó:\n",
      "[1, 2, 3, 4, 5, 6, 7, 8, 9, 10, 11, 12, 13, 14, 15, 16, 17, 18, 19, 20]\n"
     ]
    }
   ],
   "source": [
    "# INSERT ----- permite elegir donde colocar el dato ya que se puede usar los índices de cada valor\n",
    "\n",
    "lista_a_completar = [1,2,5,7,8,10,13,14,15,17,20]\n",
    "\n",
    "for valor_ver_si_esta in range(1,20):\n",
    "    if valor_ver_si_esta in lista_a_completar:\n",
    "        print(f'El número {valor_ver_si_esta} está')\n",
    "    else:\n",
    "        lista_a_completar.insert(valor_ver_si_esta - 1, valor_ver_si_esta) #Acá! usando índices ubico el dato\n",
    "        print(f'El número {valor_ver_si_esta} NO ESTÁ, se agregará')\n",
    "\n",
    "print('La lista quedó:')\n",
    "print(lista_a_completar)"
   ]
  },
  {
   "attachments": {},
   "cell_type": "markdown",
   "metadata": {},
   "source": [
    "7) La sucesión de Fibonacci es un listado de números que sigue la fórmula: <br>\n",
    "n<sub>0</sub> = 0<br>\n",
    "n<sub>1</sub> = 1<br>\n",
    "n<sub>i</sub> = n<sub>i-1</sub> + n<sub>i-2</sub><br>\n",
    "Crear una lista con los primeros treinta números de la sucesión.<br>"
   ]
  },
  {
   "cell_type": "code",
   "execution_count": null,
   "metadata": {},
   "outputs": [],
   "source": []
  },
  {
   "attachments": {},
   "cell_type": "markdown",
   "metadata": {},
   "source": [
    "8) Realizar la suma de todos elementos de la lista del punto anterior"
   ]
  },
  {
   "cell_type": "code",
   "execution_count": null,
   "metadata": {},
   "outputs": [],
   "source": []
  },
  {
   "attachments": {},
   "cell_type": "markdown",
   "metadata": {},
   "source": [
    "9) La proporción aurea se expresa con una proporción matemática que nace el número irracional Phi= 1,618… que los griegos llamaron número áureo. El cuál se puede aproximar con la sucesión de Fibonacci. Con la lista del ejercicio anterior, imprimir el cociente de los últimos 5 pares de dos números contiguos:<br>\n",
    "Donde i es la cantidad total de elementos<br>\n",
    "n<sub>i-1</sub> / n<sub>i</sub><br>\n",
    "n<sub>i-2</sub> / n<sub>i-1</sub><br>\n",
    "n<sub>i-3</sub> / n<sub>i-2</sub><br>\n",
    "n<sub>i-4</sub> / n<sub>i-3</sub><br>\n",
    "n<sub>i-5</sub> / n<sub>i-4</sub><br>\n",
    " "
   ]
  },
  {
   "cell_type": "code",
   "execution_count": null,
   "metadata": {},
   "outputs": [],
   "source": []
  },
  {
   "attachments": {},
   "cell_type": "markdown",
   "metadata": {},
   "source": [
    "10) A partir de la variable cadena ya dada, mostrar en qué posiciones aparece la letra \"n\"<br>\n",
    "cadena = 'Hola Mundo. Esto es una practica del lenguaje de programación Python'"
   ]
  },
  {
   "cell_type": "code",
   "execution_count": null,
   "metadata": {},
   "outputs": [],
   "source": []
  },
  {
   "attachments": {},
   "cell_type": "markdown",
   "metadata": {},
   "source": [
    "11) Crear un diccionario e imprimir sus claves utilizando un iterador"
   ]
  },
  {
   "cell_type": "code",
   "execution_count": null,
   "metadata": {},
   "outputs": [],
   "source": []
  },
  {
   "attachments": {},
   "cell_type": "markdown",
   "metadata": {},
   "source": [
    "12) Convertir en una lista la variable \"cadena\" del punto 10 y luego recorrerla con un iterador "
   ]
  },
  {
   "cell_type": "code",
   "execution_count": null,
   "metadata": {},
   "outputs": [],
   "source": []
  },
  {
   "attachments": {},
   "cell_type": "markdown",
   "metadata": {},
   "source": [
    "13) Crear dos listas y unirlas en una tupla utilizando la función zip"
   ]
  },
  {
   "cell_type": "code",
   "execution_count": null,
   "metadata": {},
   "outputs": [],
   "source": []
  },
  {
   "attachments": {},
   "cell_type": "markdown",
   "metadata": {},
   "source": [
    "14) A partir de la siguiente lista de números, crear una nueva sólo si el número es divisible por 7<br>\n",
    "lis = [18,21,29,32,35,42,56,60,63,71,84,90,91,100]"
   ]
  },
  {
   "cell_type": "code",
   "execution_count": null,
   "metadata": {},
   "outputs": [],
   "source": []
  },
  {
   "attachments": {},
   "cell_type": "markdown",
   "metadata": {},
   "source": [
    "16) Tomar la lista del punto anterior y convertir cada elemento en una lista si no lo es"
   ]
  },
  {
   "cell_type": "code",
   "execution_count": null,
   "metadata": {},
   "outputs": [],
   "source": []
  }
 ],
 "metadata": {
  "interpreter": {
   "hash": "c85384e4cb51c8b72350f3a8712cc8351fdc3955e32a27f9b60c6242ab125f01"
  },
  "kernelspec": {
   "display_name": "Python 3 (ipykernel)",
   "language": "python",
   "name": "python3"
  },
  "language_info": {
   "codemirror_mode": {
    "name": "ipython",
    "version": 3
   },
   "file_extension": ".py",
   "mimetype": "text/x-python",
   "name": "python",
   "nbconvert_exporter": "python",
   "pygments_lexer": "ipython3",
   "version": "3.11.6"
  }
 },
 "nbformat": 4,
 "nbformat_minor": 4
}
