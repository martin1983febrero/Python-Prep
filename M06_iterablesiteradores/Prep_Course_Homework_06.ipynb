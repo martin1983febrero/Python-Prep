{
 "cells": [
  {
   "attachments": {},
   "cell_type": "markdown",
   "metadata": {},
   "source": [
    "## Iteradores e iterables"
   ]
  },
  {
   "attachments": {},
   "cell_type": "markdown",
   "metadata": {},
   "source": [
    "1) A partir de una lista vacía, utilizar un ciclo while para cargar allí números negativos del -15 al -1"
   ]
  },
  {
   "cell_type": "code",
   "execution_count": 3,
   "metadata": {},
   "outputs": [
    {
     "name": "stdout",
     "output_type": "stream",
     "text": [
      "[-15]\n",
      "[-15, -14]\n",
      "[-15, -14, -13]\n",
      "[-15, -14, -13, -12]\n",
      "[-15, -14, -13, -12, -11]\n",
      "[-15, -14, -13, -12, -11, -10]\n",
      "[-15, -14, -13, -12, -11, -10, -9]\n",
      "[-15, -14, -13, -12, -11, -10, -9, -8]\n",
      "[-15, -14, -13, -12, -11, -10, -9, -8, -7]\n",
      "[-15, -14, -13, -12, -11, -10, -9, -8, -7, -6]\n",
      "[-15, -14, -13, -12, -11, -10, -9, -8, -7, -6, -5]\n",
      "[-15, -14, -13, -12, -11, -10, -9, -8, -7, -6, -5, -4]\n",
      "[-15, -14, -13, -12, -11, -10, -9, -8, -7, -6, -5, -4, -3]\n",
      "[-15, -14, -13, -12, -11, -10, -9, -8, -7, -6, -5, -4, -3, -2]\n",
      "[-15, -14, -13, -12, -11, -10, -9, -8, -7, -6, -5, -4, -3, -2, -1]\n"
     ]
    }
   ],
   "source": [
    "# Uso APPEND para ir cargando los valores de a uno con el bucle WHILE\n",
    "\n",
    "lista_vacia=[]\n",
    "i=-15\n",
    "while i <0:\n",
    "    valor_a_cargar=i\n",
    "    lista_vacia.append(i)\n",
    "    print(lista_vacia)\n",
    "    i+=1\n",
    "\n"
   ]
  },
  {
   "attachments": {},
   "cell_type": "markdown",
   "metadata": {},
   "source": [
    "2) ¿Con un ciclo while sería posible recorrer la lista para imprimir sólo los números pares?"
   ]
  },
  {
   "cell_type": "code",
   "execution_count": 7,
   "metadata": {},
   "outputs": [
    {
     "name": "stdout",
     "output_type": "stream",
     "text": [
      "-14\n",
      "-12\n",
      "-10\n",
      "-8\n",
      "-6\n",
      "-4\n",
      "-2\n"
     ]
    }
   ],
   "source": [
    "lista_llena=[-15, -14, -13, -12, -11, -10, -9, -8, -7, -6, -5, -4, -3, -2, -1]\n",
    "\n",
    "#1° Debo seleccionar cada valor de -15 a-1 y luego ver si es par\n",
    "\n",
    "i=0 \n",
    "while i < 15:\n",
    "    if (lista_llena[i]) %2 ==0:\n",
    "        print(lista_llena[i])\n",
    "    i+=1"
   ]
  },
  {
   "attachments": {},
   "cell_type": "markdown",
   "metadata": {},
   "source": [
    "3) Resolver el punto anterior sin utilizar un ciclo while"
   ]
  },
  {
   "cell_type": "code",
   "execution_count": 8,
   "metadata": {},
   "outputs": [
    {
     "name": "stdout",
     "output_type": "stream",
     "text": [
      "-14\n",
      "-12\n",
      "-10\n",
      "-8\n",
      "-6\n",
      "-4\n",
      "-2\n"
     ]
    }
   ],
   "source": [
    "for valor in range(-15,0):\n",
    "    if valor %2 ==0:\n",
    "        print(lista_llena[valor])"
   ]
  },
  {
   "attachments": {},
   "cell_type": "markdown",
   "metadata": {},
   "source": [
    "4) Utilizar el iterable para recorrer sólo los primeros 3 elementos"
   ]
  },
  {
   "cell_type": "code",
   "execution_count": 9,
   "metadata": {},
   "outputs": [
    {
     "name": "stdout",
     "output_type": "stream",
     "text": [
      "-15\n",
      "-14\n",
      "-13\n"
     ]
    }
   ],
   "source": [
    "for numero in lista_vacia[0:3]:\n",
    "    print(numero)"
   ]
  },
  {
   "attachments": {},
   "cell_type": "markdown",
   "metadata": {},
   "source": [
    "5) Utilizar la función **enumerate** para obtener dentro del iterable, tambien el índice al que corresponde el elemento"
   ]
  },
  {
   "cell_type": "code",
   "execution_count": 11,
   "metadata": {},
   "outputs": [
    {
     "name": "stdout",
     "output_type": "stream",
     "text": [
      "0 -15\n",
      "1 -14\n",
      "2 -13\n"
     ]
    }
   ],
   "source": [
    "# IMPORTANTE ENUMERATE + INDICES ----- me entrega el indice y el valor, por lo que tengo 2 variables con ENUMERATE\n",
    "for indice, valor in enumerate(lista_llena[0:3]):\n",
    "    print(indice,valor)"
   ]
  },
  {
   "attachments": {},
   "cell_type": "markdown",
   "metadata": {},
   "source": [
    "6) Dada la siguiente lista de números enteros entre 1 y 20, crear un ciclo donde se completen los valores faltantes: lista = [1,2,5,7,8,10,13,14,15,17,20]"
   ]
  },
  {
   "cell_type": "code",
   "execution_count": 17,
   "metadata": {},
   "outputs": [
    {
     "name": "stdout",
     "output_type": "stream",
     "text": [
      "El número 1 está\n",
      "El número 2 está\n",
      "El número 3 NO ESTÁ, se agregará\n",
      "El número 4 NO ESTÁ, se agregará\n",
      "El número 5 está\n",
      "El número 6 NO ESTÁ, se agregará\n",
      "El número 7 está\n",
      "El número 8 está\n",
      "El número 9 NO ESTÁ, se agregará\n",
      "El número 10 está\n",
      "El número 11 NO ESTÁ, se agregará\n",
      "El número 12 NO ESTÁ, se agregará\n",
      "El número 13 está\n",
      "El número 14 está\n",
      "El número 15 está\n",
      "El número 16 NO ESTÁ, se agregará\n",
      "El número 17 está\n",
      "El número 18 NO ESTÁ, se agregará\n",
      "El número 19 NO ESTÁ, se agregará\n",
      "La lista quedó:\n",
      "[1, 2, 5, 7, 8, 10, 13, 14, 15, 17, 20, 3, 4, 6, 9, 11, 12, 16, 18, 19]\n"
     ]
    }
   ],
   "source": [
    "# Diferencia entre APPEND e INSERT\n",
    "# Con APPEND me queda desordenado ya que al valor nuevo lo pone al final de la lista\n",
    "# Con INSERT se puede determinar donde va el valor.\n",
    "\n",
    "lista_a_completar = [1,2,5,7,8,10,13,14,15,17,20]\n",
    "\n",
    "for valor_ver_si_esta in range(1,20):\n",
    "    if valor_ver_si_esta in lista_a_completar:\n",
    "        print(f'El número {valor_ver_si_esta} está')\n",
    "    else:\n",
    "        lista_a_completar.append(valor_ver_si_esta)\n",
    "        print(f'El número {valor_ver_si_esta} NO ESTÁ, se agregará')\n",
    "\n",
    "print('La lista quedó:')\n",
    "print(lista_a_completar)"
   ]
  },
  {
   "cell_type": "code",
   "execution_count": 20,
   "metadata": {},
   "outputs": [
    {
     "name": "stdout",
     "output_type": "stream",
     "text": [
      "El número 1 está\n",
      "El número 2 está\n",
      "El número 3 NO ESTÁ, se agregará\n",
      "El número 4 NO ESTÁ, se agregará\n",
      "El número 5 está\n",
      "El número 6 NO ESTÁ, se agregará\n",
      "El número 7 está\n",
      "El número 8 está\n",
      "El número 9 NO ESTÁ, se agregará\n",
      "El número 10 está\n",
      "El número 11 NO ESTÁ, se agregará\n",
      "El número 12 NO ESTÁ, se agregará\n",
      "El número 13 está\n",
      "El número 14 está\n",
      "El número 15 está\n",
      "El número 16 NO ESTÁ, se agregará\n",
      "El número 17 está\n",
      "El número 18 NO ESTÁ, se agregará\n",
      "El número 19 NO ESTÁ, se agregará\n",
      "La lista quedó:\n",
      "[1, 2, 3, 4, 5, 6, 7, 8, 9, 10, 11, 12, 13, 14, 15, 16, 17, 18, 19, 20]\n"
     ]
    }
   ],
   "source": [
    "# INSERT ----- permite elegir donde colocar el dato ya que se puede usar los índices de cada valor\n",
    "\n",
    "lista_a_completar = [1,2,5,7,8,10,13,14,15,17,20]\n",
    "\n",
    "for valor_ver_si_esta in range(1,20):\n",
    "    if valor_ver_si_esta in lista_a_completar:\n",
    "        print(f'El número {valor_ver_si_esta} está')\n",
    "    else:\n",
    "        lista_a_completar.insert(valor_ver_si_esta - 1, valor_ver_si_esta) #Acá! usando índices ubico el dato\n",
    "        print(f'El número {valor_ver_si_esta} NO ESTÁ, se agregará')\n",
    "\n",
    "print('La lista quedó:')\n",
    "print(lista_a_completar)"
   ]
  },
  {
   "attachments": {},
   "cell_type": "markdown",
   "metadata": {},
   "source": [
    "7) La sucesión de Fibonacci es un listado de números que sigue la fórmula: <br>\n",
    "n<sub>0</sub> = 0<br>\n",
    "n<sub>1</sub> = 1<br>\n",
    "n<sub>i</sub> = n<sub>i-1</sub> + n<sub>i-2</sub><br>\n",
    "Crear una lista con los primeros treinta números de la sucesión.<br>"
   ]
  },
  {
   "cell_type": "code",
   "execution_count": 15,
   "metadata": {},
   "outputs": [
    {
     "name": "stdout",
     "output_type": "stream",
     "text": [
      "[0, 1, 1, 2, 3, 5, 8, 13, 21, 34, 55, 89, 144, 233, 377, 610, 987, 1597, 2584, 4181, 6765, 10946, 17711, 28657, 46368, 75025, 121393, 196418, 317811, 514229]\n"
     ]
    }
   ],
   "source": [
    "# FIBONACCI ---- IMPORTANTE\n",
    "#n0=0\n",
    "#n1=1\n",
    "#ni=(ni-1)+(ni-2)\n",
    "valor=[]\n",
    "for n in range (0,30):\n",
    "    if n==0:\n",
    "        valor.append(0)\n",
    "    elif n==1:\n",
    "        valor.append(1)\n",
    "    else: \n",
    "        if n >1:\n",
    "            valor.append(valor[n-1] + valor[n-2])\n",
    "print(valor)\n",
    "\n",
    "#Debería dar:   si n=0 valor=0\n",
    "#               si n=1 valor=1\n",
    "#               si n=2 valor= n1 + n0 = 1\n",
    "#               si n=3 valor= n2 + n1 = 2\n",
    "#               si n=4 valor= n3 + n2 = 3\n",
    "#               si n=5 valor= n4 + n3 = 5\n",
    "#               si n=6 valor= n5 + n4 = 8\n",
    "#               si n=7 valor= n6 + n5 = 13\n",
    "#               si n=8 valor= n7 + n6 = 21"
   ]
  },
  {
   "attachments": {},
   "cell_type": "markdown",
   "metadata": {},
   "source": [
    "8) Realizar la suma de todos elementos de la lista del punto anterior"
   ]
  },
  {
   "cell_type": "code",
   "execution_count": 16,
   "metadata": {},
   "outputs": [
    {
     "data": {
      "text/plain": [
       "1346268"
      ]
     },
     "execution_count": 16,
     "metadata": {},
     "output_type": "execute_result"
    }
   ],
   "source": [
    "# SUM ---- suma todos los elementos de una tupla o lista.\n",
    "\n",
    "sum(valor)"
   ]
  },
  {
   "attachments": {},
   "cell_type": "markdown",
   "metadata": {},
   "source": [
    "9) La proporción aurea se expresa con una proporción matemática que nace el número irracional Phi= 1,618… que los griegos llamaron número áureo. El cuál se puede aproximar con la sucesión de Fibonacci. Con la lista del ejercicio anterior, imprimir el cociente de los últimos 5 pares de dos números contiguos:<br>\n",
    "Donde i es la cantidad total de elementos<br>\n",
    "n<sub>i-1</sub> / n<sub>i</sub><br>\n",
    "n<sub>i-2</sub> / n<sub>i-1</sub><br>\n",
    "n<sub>i-3</sub> / n<sub>i-2</sub><br>\n",
    "n<sub>i-4</sub> / n<sub>i-3</sub><br>\n",
    "n<sub>i-5</sub> / n<sub>i-4</sub><br>\n",
    " "
   ]
  },
  {
   "cell_type": "code",
   "execution_count": 24,
   "metadata": {},
   "outputs": [
    {
     "name": "stdout",
     "output_type": "stream",
     "text": [
      "1.6180339887543225\n",
      "1.618033988738303\n",
      "1.6180339887802426\n",
      "1.6180339886704431\n",
      "1.618033988957902\n"
     ]
    }
   ],
   "source": [
    "# \"cociente de los últimos pares de dos numeros contiguos..\"\n",
    "# [0, 1, 1, 2, 3.. ..6765, 10946, 17711, 28657, 46368, 75025, 121393, 196418, 317811, 514229]\n",
    "# n29/n30  ,  n28/n29  ,  n27/n28  ,  n26/n27  ,  n25/n26\n",
    "i=29\n",
    "while i>24:\n",
    "    #cuenta=(valor[i-1]/valor[i]) # Con n-1/n me da mal el número aureo. Probaré al revés por si la suceción está mal definida\n",
    "    cuenta=(valor[i]/valor[i-1]) #OK!\n",
    "    print(cuenta)\n",
    "    i=i-1\n",
    "\n"
   ]
  },
  {
   "attachments": {},
   "cell_type": "markdown",
   "metadata": {},
   "source": [
    "10) A partir de la variable cadena ya dada, mostrar en qué posiciones aparece la letra \"n\"<br>\n",
    "cadena = 'Hola Mundo. Esto es una practica del lenguaje de programación Python'"
   ]
  },
  {
   "cell_type": "code",
   "execution_count": 25,
   "metadata": {},
   "outputs": [
    {
     "name": "stdout",
     "output_type": "stream",
     "text": [
      "7\n",
      "21\n",
      "39\n",
      "60\n",
      "67\n"
     ]
    }
   ],
   "source": [
    "# IMPORTANTE ENUMERATE\n",
    "\n",
    "cadena = 'Hola Mundo. Esto es una practica del lenguaje de programación Python'\n",
    "\n",
    "# Necesito recopilar el índice y el valor de cada elemento en la cadena\n",
    "# ENUMERATE ---- sirve para ello.\n",
    "\n",
    "for a,b in enumerate(cadena): # donde a es el índice que empieza en 0 y b el valor\n",
    "    if b == 'n':\n",
    "        print(a)"
   ]
  },
  {
   "attachments": {},
   "cell_type": "markdown",
   "metadata": {},
   "source": [
    "11) Crear un diccionario e imprimir sus claves utilizando un iterador"
   ]
  },
  {
   "cell_type": "code",
   "execution_count": 28,
   "metadata": {},
   "outputs": [
    {
     "name": "stdout",
     "output_type": "stream",
     "text": [
      "Ciudad\n",
      "País\n",
      "Continente\n"
     ]
    }
   ],
   "source": [
    "# Extraer CLAVES de un diccionario\n",
    "# DICCIONARIOS(bis) ---- se definen con {  } ---- nombre={'nombre1': [elemento1, elemento2], 'nombre2': [elemento3, elemento4]}\n",
    "\n",
    "diccionario= {'Ciudad': ['Mar del Plata','Miramar', 'Santa Clara'] , 'País': ['Argentina','Brasil', 'España'] , 'Continente': ['América' , 'Europa']}\n",
    "\n",
    "# yo en la unidad anterior usé KEYS pero acá me piden usar un iterador:\n",
    "\n",
    "for z in diccionario:\n",
    "    print(z)"
   ]
  },
  {
   "cell_type": "code",
   "execution_count": 29,
   "metadata": {},
   "outputs": [
    {
     "name": "stdout",
     "output_type": "stream",
     "text": [
      "dict_keys(['Ciudad', 'País', 'Continente'])\n"
     ]
    }
   ],
   "source": [
    "# yo en la unidad anterior usé:\n",
    "# KEYS ---- imprime las CLAVES de un DICCIONARIO .keys()\n",
    "\n",
    "print(diccionario.keys())"
   ]
  },
  {
   "attachments": {},
   "cell_type": "markdown",
   "metadata": {},
   "source": [
    "12) Convertir en una lista la variable \"cadena\" del punto 10 y luego recorrerla con un iterador "
   ]
  },
  {
   "cell_type": "code",
   "execution_count": 108,
   "metadata": {},
   "outputs": [
    {
     "name": "stdout",
     "output_type": "stream",
     "text": [
      "<class 'str'>\n",
      "Luego de la conversión:\n",
      "<class 'list'>\n",
      "H\n",
      "o\n",
      "l\n",
      "a\n",
      " \n",
      "M\n",
      "u\n",
      "n\n",
      "d\n",
      "o\n"
     ]
    }
   ],
   "source": [
    "# (A) De cadena de STRING a LISTA y luego recorrida por un ITERADOR\n",
    "\n",
    "cadena = 'Hola Mundo. Esto es una practica del lenguaje de programación Python'\n",
    "\n",
    "print(type(cadena))\n",
    "\n",
    "cadena=list(cadena)\n",
    "\n",
    "print('Luego de la conversión:')\n",
    "print(type(cadena))\n",
    "\n",
    "for letra in cadena[0:10]: # Recorro cada letra o elemento con el iterador FOR\n",
    "    print(letra)"
   ]
  },
  {
   "cell_type": "code",
   "execution_count": 103,
   "metadata": {},
   "outputs": [
    {
     "name": "stdout",
     "output_type": "stream",
     "text": [
      "<class 'str'>\n",
      "Luego de la conversión:\n",
      "<class 'list'>\n",
      "H-O-L-A- -M-U-N-D-O-.- -E-S-T-O- -E-S- -U-N-A- -P-R-A-C-T-I-C-A- -D-E-L- -L-E-N-G-U-A-J-E- -D-E- -P-R-O-G-R-A-M-A-C-I-Ó-N- -P-Y-T-H-O-N-\n",
      "H       o       l       a               M       u       n       d       o       \n",
      "E____S____ ____U____N____A____ ____P____R____A____C____T____I____C____A____"
     ]
    }
   ],
   "source": [
    "# (B) De cadena de STRING a LISTA y luego recorrida por un ITERADOR\n",
    "\n",
    "cadena = 'Hola Mundo. Esto es una practica del lenguaje de programación Python'\n",
    "\n",
    "print(type(cadena))\n",
    "\n",
    "cadena=list(cadena)\n",
    "\n",
    "print('Luego de la conversión:')\n",
    "print(type(cadena))\n",
    "\n",
    "for letra in cadena: # Recorro cada letra o elemento con el iterador FOR\n",
    "    print(letra.upper(), end= '-' )\n",
    "\n",
    "print('')\n",
    "for letra in cadena[:10]: # Recorre hasta el indice número 10\n",
    "    print(letra, end= '       ' )\n",
    "\n",
    "print('')\n",
    "for letra in cadena[17:32]: # Recorre hasta el indice número 10\n",
    "    print(letra.upper(), end= '____' )"
   ]
  },
  {
   "attachments": {},
   "cell_type": "markdown",
   "metadata": {},
   "source": [
    "13) Crear dos listas y unirlas en una tupla utilizando la función zip"
   ]
  },
  {
   "cell_type": "code",
   "execution_count": 65,
   "metadata": {},
   "outputs": [
    {
     "name": "stdout",
     "output_type": "stream",
     "text": [
      "<class 'zip'>\n",
      "(('a', '1'), ('b', '2'), ('c', '3'), ('d', '4'), ('e', '5'), ('f', '6'), ('g', '7'), (['h', 'i', 'j'], 8))\n"
     ]
    }
   ],
   "source": [
    "# ZIP ---- Unir dos LISTAS y convertir a TUPLA EN PARES\n",
    "\n",
    "lista_1=['a','b','c','d','e','f','g',['h','i', 'j']] # Además, un elemento podria se otro lista!!!\n",
    "lista_2=['1','2','3','4','5','6','7',8, 'otro elemento'] \n",
    "\n",
    "#lista_unida=zip(lista_1 + lista_2)  # si pongo + las une una al lado de la otra\n",
    "                                    # si pongo coma , arma de a pares y no tiene en cuenta elementos impares\n",
    "lista_unida=zip(lista_1 , lista_2)\n",
    "#lista_unida=zip(lista_1,lista_2)\n",
    "print (type(lista_unida)) # La lista unida no se hizo lista o tupla de forma directa, la debo definir de nuevo\n",
    "print(tuple(lista_unida))\n"
   ]
  },
  {
   "cell_type": "code",
   "execution_count": 134,
   "metadata": {},
   "outputs": [
    {
     "name": "stdout",
     "output_type": "stream",
     "text": [
      "('a', '1')\n",
      "('b', '2')\n",
      "('c', '3')\n",
      "('d', '4')\n",
      "('e', '5')\n",
      "(['h', 'i', 'j'], '6')\n"
     ]
    }
   ],
   "source": [
    "# ZIP ---- más prolijo:\n",
    "\n",
    "lista_1=['a','b','c','d','e',['h','i', 'j']] # Además, un elemento podria se otro lista!!!\n",
    "lista_2=['1','2','3','4','5','6'] \n",
    "\n",
    "lista_unida = zip (lista_1 , lista_2)\n",
    "\n",
    "for valor in lista_unida:\n",
    "    print(valor)"
   ]
  },
  {
   "attachments": {},
   "cell_type": "markdown",
   "metadata": {},
   "source": [
    "14) A partir de la siguiente lista de números, crear una nueva sólo si el número es divisible por 7<br>\n",
    "lis = [18,21,29,32,35,42,56,60,63,71,84,90,91,100]"
   ]
  },
  {
   "cell_type": "code",
   "execution_count": 128,
   "metadata": {},
   "outputs": [
    {
     "name": "stdout",
     "output_type": "stream",
     "text": [
      "[21, 35, 42, 56, 63, 84, 91]\n"
     ]
    }
   ],
   "source": [
    "# (A) IMPORTANTE ---- RECORRER (iterar)  y Extraer elementos de una lista!!! y crear otra lista!!!\n",
    "\n",
    "lis = [18,21,29,32,35,42,56,60,63,71,84,90,91,100]\n",
    "lista_nueva=[]\n",
    "\n",
    "for elemento in lis:\n",
    "    if elemento % 7 ==0: \n",
    "        lista_nueva.append(elemento)\n",
    "        #next(iterador_lis, None) # None se pone para que no se quede sin elementos y de error\n",
    "\n",
    "print(lista_nueva)\n",
    "\n",
    "    "
   ]
  },
  {
   "cell_type": "code",
   "execution_count": 129,
   "metadata": {},
   "outputs": [
    {
     "name": "stdout",
     "output_type": "stream",
     "text": [
      "[21, 35, 42, 56, 63, 84, 91]\n"
     ]
    }
   ],
   "source": [
    "# (B) IMPORTANTE ----- RECORRER (iterar)  y Extraer elementos de una lista!!! y crear otra lista!!!\n",
    "\n",
    "# FORMA COMPRIMIDA DE LO DE ARRIBA\n",
    "\n",
    "lis = [18,21,29,32,35,42,56,60,63,71,84,90,91,100]\n",
    "lista_nueva=[elemento for elemento in lis if elemento % 7 == 0] #Es lo mismo pero COMPRIMIDO/optimizado\n",
    "\n",
    "print(lista_nueva)"
   ]
  },
  {
   "cell_type": "code",
   "execution_count": 135,
   "metadata": {},
   "outputs": [
    {
     "name": "stdout",
     "output_type": "stream",
     "text": [
      "<list_iterator object at 0x000001987AF41000>\n"
     ]
    }
   ],
   "source": [
    "# ******sin completar******\n",
    "\n",
    "# (C) IMPORTANTE ---- RECORRER (iterar)  y Extraer elementos de una lista!!! y crear otra lista!!!\n",
    "# Con ITER ---- NO usando FOR o WHILE\n",
    "\n",
    "lis = [18,21,29,32,35,42,56,60,63,71,84,90,91,100]\n",
    "lista_nueva=[]\n",
    "\n",
    "#Aún no puedo recorrer la lista lis\n",
    "iterador_lis = iter(lis) # De esta forma lo puedo recorrer sin necesidad de un ciclo FOR o WHILE\n",
    "\n",
    "print(iter(lis))"
   ]
  },
  {
   "cell_type": "markdown",
   "metadata": {},
   "source": [
    "15) A partir de la lista de a continuación, contar la cantidad total de elementos que contiene, teniendo en cuenta que un elemento de la lista podría ser otra lista:<br>\n",
    "lis = [[1,2,3,4],'rojo','verde',[True,False,False],['uno','dos','tres']]"
   ]
  },
  {
   "cell_type": "code",
   "execution_count": 144,
   "metadata": {},
   "outputs": [
    {
     "name": "stdout",
     "output_type": "stream",
     "text": [
      "Hay 12 elementos totales dentro de la lista\n",
      "[[1, 2, 3, 4], 'rojo', 'verde', [True, False, False], ['uno', 'dos', 'tres']]\n"
     ]
    }
   ],
   "source": [
    "# LEN( ) cuenta los elementos o nos dá el tamaño de una lista\n",
    "\n",
    "lis_contar = [[1,2,3,4],'rojo','verde',[True,False,False],['uno','dos','tres']]\n",
    "\n",
    "# En la lista tengo elementos y listas anidadas\n",
    "cantidad=0\n",
    "\n",
    "for elementos_de_lista in lis_contar:\n",
    "    if type(elementos_de_lista) == list:   #No olvidar poner type o no comprobará si hay lista anidada\n",
    "        cantidad+= len(elementos_de_lista) # Si es lista, suma sus elementos\n",
    "    else:\n",
    "        cantidad+=1 # Si no es lista, suma solo una unidad\n",
    "\n",
    "print(f'Hay {cantidad} elementos totales dentro de la lista')\n",
    "\n",
    "print(lis_contar)\n"
   ]
  },
  {
   "attachments": {},
   "cell_type": "markdown",
   "metadata": {},
   "source": [
    "16) Tomar la lista del punto anterior y convertir cada elemento en una lista si no lo es"
   ]
  },
  {
   "cell_type": "code",
   "execution_count": 147,
   "metadata": {},
   "outputs": [
    {
     "name": "stdout",
     "output_type": "stream",
     "text": [
      "[[1, 2, 3, 4], ['rojo'], ['verde'], [True, False, False], ['uno', 'dos', 'tres']]\n"
     ]
    }
   ],
   "source": [
    "# CONVERTIR A LISTA elementos que no lo son.\n",
    "# si voy a modificar algun elemento y otro no, entonces debo saber su INDICE con ENUMERATE\n",
    "\n",
    "listado = [[1,2,3,4],'rojo','verde',[True,False,False],['uno','dos','tres']]\n",
    "\n",
    "for indice, contenido in enumerate(listado):\n",
    "    if type(contenido) != list:   #No olvidar poner type o no comprobará si hay lista anidada\n",
    "        listado[indice] = [contenido]\n",
    "\n",
    "\n",
    "print(listado)"
   ]
  }
 ],
 "metadata": {
  "interpreter": {
   "hash": "c85384e4cb51c8b72350f3a8712cc8351fdc3955e32a27f9b60c6242ab125f01"
  },
  "kernelspec": {
   "display_name": "Python 3 (ipykernel)",
   "language": "python",
   "name": "python3"
  },
  "language_info": {
   "codemirror_mode": {
    "name": "ipython",
    "version": 3
   },
   "file_extension": ".py",
   "mimetype": "text/x-python",
   "name": "python",
   "nbconvert_exporter": "python",
   "pygments_lexer": "ipython3",
   "version": "3.11.6"
  }
 },
 "nbformat": 4,
 "nbformat_minor": 4
}
