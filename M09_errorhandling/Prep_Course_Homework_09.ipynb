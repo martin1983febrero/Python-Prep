{
 "cells": [
  {
   "attachments": {},
   "cell_type": "markdown",
   "metadata": {},
   "source": [
    "## Manejo de errores"
   ]
  },
  {
   "cell_type": "markdown",
   "metadata": {},
   "source": [
    "Test de CAJA NEGRA"
   ]
  },
  {
   "cell_type": "code",
   "execution_count": 8,
   "metadata": {},
   "outputs": [],
   "source": [
    "\n",
    "\n",
    "def sumar(a,b):\n",
    "    return a + b\n",
    "    #return a - b #modifico para provocar el ERROR"
   ]
  },
  {
   "cell_type": "code",
   "execution_count": 9,
   "metadata": {},
   "outputs": [],
   "source": [
    "import unittest\n",
    "class CajaNegraTest(unittest.TestCase):\n",
    "    def test_suma_dos_positivos(self):\n",
    "        resultado = sumar(10,5)\n",
    "        self.assertEqual(resultado,15)"
   ]
  },
  {
   "cell_type": "code",
   "execution_count": 10,
   "metadata": {},
   "outputs": [
    {
     "name": "stderr",
     "output_type": "stream",
     "text": [
      ".\n",
      "----------------------------------------------------------------------\n",
      "Ran 1 test in 0.001s\n",
      "\n",
      "OK\n"
     ]
    }
   ],
   "source": [
    "if __name__ == '__main__':\n",
    "    pruebas = unittest.TestLoader().loadTestsFromTestCase(CajaNegraTest)\n",
    "    unittest.TextTestRunner(verbosity=1).run(pruebas)"
   ]
  },
  {
   "cell_type": "markdown",
   "metadata": {},
   "source": [
    "Test Caja de Cristal"
   ]
  },
  {
   "cell_type": "code",
   "execution_count": 14,
   "metadata": {},
   "outputs": [],
   "source": [
    "\n",
    "\n",
    "def sumar_elementos_lista(lista):\n",
    "    resultado = 0\n",
    "    #resultado = '' #si activo dara vacio distinto a cero (valor esperado)\n",
    "    for elemento in lista:\n",
    "        resultado += elemento\n",
    "    return resultado"
   ]
  },
  {
   "cell_type": "code",
   "execution_count": 12,
   "metadata": {},
   "outputs": [],
   "source": [
    "class TestCajaCristal(unittest.TestCase):\n",
    "    def test_lista_vacia(self):\n",
    "        self.assertEqual(sumar_elementos_lista([]),0)"
   ]
  },
  {
   "cell_type": "code",
   "execution_count": 13,
   "metadata": {},
   "outputs": [
    {
     "name": "stderr",
     "output_type": "stream",
     "text": [
      ".\n",
      "----------------------------------------------------------------------\n",
      "Ran 1 test in 0.001s\n",
      "\n",
      "OK\n"
     ]
    }
   ],
   "source": [
    "if __name__ == '__main__':\n",
    "    pruebas = unittest.TestLoader().loadTestsFromTestCase(TestCajaCristal)\n",
    "    unittest.TextTestRunner(verbosity=1).run(pruebas)"
   ]
  },
  {
   "cell_type": "markdown",
   "metadata": {},
   "source": [
    "Excepciones (Por Ej.: Dividir por cero)"
   ]
  },
  {
   "cell_type": "code",
   "execution_count": 39,
   "metadata": {},
   "outputs": [],
   "source": [
    "def dividir_elementos_lista(lista,divisor):\n",
    "    try: # intente\n",
    "        for i in lista:\n",
    "            return i/divisor\n",
    "    \n",
    "    except ZeroDivisionError as e: #Agrego esta excepción\n",
    "        print(e)\n",
    "        return lista"
   ]
  },
  {
   "cell_type": "code",
   "execution_count": 40,
   "metadata": {},
   "outputs": [],
   "source": [
    "#Lo mismo pero COMPRIMIDO (list compression)\n",
    "\n",
    "def dividir_elementos_lista(lista,divisor):\n",
    "    try: # intente\n",
    "        return [i/divisor for i in lista] #Acá se redujo varias lineas de código en una sola (list compression)\n",
    "    \n",
    "    except ZeroDivisionError as e: #Agrego esta excepción\n",
    "        print(e)\n",
    "        return lista\n",
    "\n"
   ]
  },
  {
   "cell_type": "code",
   "execution_count": 37,
   "metadata": {},
   "outputs": [
    {
     "data": {
      "text/plain": [
       "2.0"
      ]
     },
     "execution_count": 37,
     "metadata": {},
     "output_type": "execute_result"
    }
   ],
   "source": [
    "dividir_elementos_lista([4,6,8,9],2) \n",
    "#dividir_elementos_lista([4,6,8,9],0) #para forzar ERROR"
   ]
  },
  {
   "cell_type": "markdown",
   "metadata": {},
   "source": [
    "Excepciones (Por Ej.: Cargar archivo inexixtente)"
   ]
  },
  {
   "cell_type": "code",
   "execution_count": 19,
   "metadata": {},
   "outputs": [
    {
     "ename": "ModuleNotFoundError",
     "evalue": "No module named 'pandas'",
     "output_type": "error",
     "traceback": [
      "\u001b[1;31m---------------------------------------------------------------------------\u001b[0m",
      "\u001b[1;31mModuleNotFoundError\u001b[0m                       Traceback (most recent call last)",
      "Cell \u001b[1;32mIn[19], line 1\u001b[0m\n\u001b[1;32m----> 1\u001b[0m \u001b[38;5;28;01mimport\u001b[39;00m \u001b[38;5;21;01mpandas\u001b[39;00m \u001b[38;5;28;01mas\u001b[39;00m \u001b[38;5;21;01mpd\u001b[39;00m\n\u001b[0;32m      2\u001b[0m \u001b[38;5;28;01mtry\u001b[39;00m:\n\u001b[0;32m      3\u001b[0m     tabla \u001b[38;5;241m=\u001b[39m pd\u001b[38;5;241m.\u001b[39mread_csv(\u001b[38;5;124m'\u001b[39m\u001b[38;5;124mdatos.csv\u001b[39m\u001b[38;5;124m'\u001b[39m) \u001b[38;5;66;03m#read_csv carga archivos\u001b[39;00m\n",
      "\u001b[1;31mModuleNotFoundError\u001b[0m: No module named 'pandas'"
     ]
    }
   ],
   "source": [
    "import pandas as pd\n",
    "try:\n",
    "    tabla = pd.read_csv('datos.csv') #read_csv carga archivos\n",
    "except:\n",
    "    print('El archivo no existe en esa ubicación')\n",
    "\n",
    "# Da ERROR porque no tengo instalado PANDAS (VER COMO)"
   ]
  },
  {
   "cell_type": "markdown",
   "metadata": {},
   "source": [
    "PROGRAMACIÓN DEFENSIVA\n",
    "\n",
    "Afirmaciones ASSERT (Evalue..)"
   ]
  },
  {
   "cell_type": "code",
   "execution_count": 29,
   "metadata": {},
   "outputs": [],
   "source": [
    "def primera_letra(lista):\n",
    "    letras = []\n",
    "# ASSERT ----> SI NO SE CUMPLE ----> arroja el siguiente ERROR:\n",
    "    for palabra in lista:\n",
    "        assert type(palabra) == str, f'{palabra} no es string'\n",
    "        assert len(palabra) > 0, 'No se permiten strings vacios'\n",
    "\n",
    "        letras.append(palabra[0]) #[0] indice 0 entrega la primera letra\n",
    "\n",
    "    return letras"
   ]
  },
  {
   "cell_type": "code",
   "execution_count": 30,
   "metadata": {},
   "outputs": [
    {
     "data": {
      "text/plain": [
       "['H', 't', 'l', 'u', '9']"
      ]
     },
     "execution_count": 30,
     "metadata": {},
     "output_type": "execute_result"
    }
   ],
   "source": [
    "lista_palabras =['Hoy', 'termino', 'la', 'unidad', '9'] #NO da ERROR\n",
    "#lista_palabras =['Hoy', 'termino', 'la', 'unidad', '9', 2] #Da ERROR\n",
    "primera_letra(lista_palabras)"
   ]
  },
  {
   "attachments": {},
   "cell_type": "markdown",
   "metadata": {},
   "source": [
    "1) Con la clase creada en el módulo 7 (DEBERÍA DECIR 8), tener en cuenta diferentes casos en que el código pudiera arrojar error. Por ejemplo, en la creación del objeto recibimos una lista de números enteros pero ¿qué pasa si se envía otro tipo de dato?"
   ]
  },
  {
   "cell_type": "code",
   "execution_count": 95,
   "metadata": {},
   "outputs": [],
   "source": [
    "import sys\n",
    "sys.path.append(r'/C:\\Users\\Willy y Martín\\Desktop\\Python-Prep\\M08_clasesyOOP\\Funciones_bis.py') \n",
    "# Agrega la ruta 'Funciones_bis.py' al sys.path"
   ]
  },
  {
   "cell_type": "code",
   "execution_count": 96,
   "metadata": {},
   "outputs": [],
   "source": [
    "# Obs: Para que funcione: \n",
    "#1) copié __init__.py a la misma carpeta \n",
    "#2) Ejecuté en consola: python -m pip install requests\n",
    "#3) Copié al final el archivo a la misma carpeta\n",
    "\n",
    "import Funciones_bis as fb  #se importa el módulo llamado 'herramientas' y se le asigna un alias 'h' utilizando la palabra clave as. "
   ]
  },
  {
   "cell_type": "code",
   "execution_count": 97,
   "metadata": {},
   "outputs": [],
   "source": [
    "# CON INGRESO ---INCORRECTO---NO VALIDADO\n",
    "\n",
    "f1 = fb.Funciones_bis(['a',9,8,7,1,5,4,3,2,1])"
   ]
  },
  {
   "cell_type": "code",
   "execution_count": 98,
   "metadata": {},
   "outputs": [],
   "source": [
    "# CON INGRESO ---CORRECTO---NO VALIDADO\n",
    "\n",
    "#f1 = fb.Funciones_bis([2,3,5,6,2])"
   ]
  },
  {
   "cell_type": "code",
   "execution_count": 99,
   "metadata": {},
   "outputs": [
    {
     "ename": "TypeError",
     "evalue": "'str' object cannot be interpreted as an integer",
     "output_type": "error",
     "traceback": [
      "\u001b[1;31m---------------------------------------------------------------------------\u001b[0m",
      "\u001b[1;31mTypeError\u001b[0m                                 Traceback (most recent call last)",
      "Cell \u001b[1;32mIn[99], line 1\u001b[0m\n\u001b[1;32m----> 1\u001b[0m \u001b[43mf1\u001b[49m\u001b[38;5;241;43m.\u001b[39;49m\u001b[43mverifica_primo\u001b[49m\u001b[43m(\u001b[49m\u001b[43m)\u001b[49m\n",
      "File \u001b[1;32mc:\\Users\\Willy y Martín\\Desktop\\Python-Prep\\M09_errorhandling\\Funciones_bis.py:11\u001b[0m, in \u001b[0;36mFunciones_bis.verifica_primo\u001b[1;34m(self)\u001b[0m\n\u001b[0;32m      9\u001b[0m \u001b[38;5;28;01mdef\u001b[39;00m \u001b[38;5;21mverifica_primo\u001b[39m(\u001b[38;5;28mself\u001b[39m):\n\u001b[0;32m     10\u001b[0m     \u001b[38;5;28;01mfor\u001b[39;00m i \u001b[38;5;129;01min\u001b[39;00m \u001b[38;5;28mself\u001b[39m\u001b[38;5;241m.\u001b[39mlista:   \u001b[38;5;66;03m# iterará sobre la LISTA INICIAL elemento a elemento\u001b[39;00m\n\u001b[1;32m---> 11\u001b[0m         \u001b[38;5;28;01mif\u001b[39;00m \u001b[38;5;28;43mself\u001b[39;49m\u001b[38;5;241;43m.\u001b[39;49m\u001b[43m__verifica_primo\u001b[49m\u001b[43m(\u001b[49m\u001b[43mi\u001b[49m\u001b[43m)\u001b[49m: \n\u001b[0;32m     12\u001b[0m             \u001b[38;5;28mprint\u001b[39m(\u001b[38;5;124mf\u001b[39m\u001b[38;5;124m'\u001b[39m\u001b[38;5;124mEl \u001b[39m\u001b[38;5;132;01m{\u001b[39;00mi\u001b[38;5;132;01m}\u001b[39;00m\u001b[38;5;124m es PRIMO\u001b[39m\u001b[38;5;124m'\u001b[39m)\n\u001b[0;32m     13\u001b[0m         \u001b[38;5;28;01melse\u001b[39;00m:\n",
      "File \u001b[1;32mc:\\Users\\Willy y Martín\\Desktop\\Python-Prep\\M09_errorhandling\\Funciones_bis.py:43\u001b[0m, in \u001b[0;36mFunciones_bis.__verifica_primo\u001b[1;34m(self, valor)\u001b[0m\n\u001b[0;32m     41\u001b[0m \u001b[38;5;28;01mdef\u001b[39;00m \u001b[38;5;21m__verifica_primo\u001b[39m(\u001b[38;5;28mself\u001b[39m,valor): \u001b[38;5;66;03m# va sin =\u001b[39;00m\n\u001b[0;32m     42\u001b[0m     primo \u001b[38;5;241m=\u001b[39m \u001b[38;5;28;01mTrue\u001b[39;00m\n\u001b[1;32m---> 43\u001b[0m     \u001b[38;5;28;01mfor\u001b[39;00m i \u001b[38;5;129;01min\u001b[39;00m \u001b[38;5;28mrange\u001b[39m(\u001b[38;5;241m2\u001b[39m,valor): \u001b[38;5;66;03m# Me daba error porque en ves de for puse otro if :)\u001b[39;00m\n\u001b[0;32m     44\u001b[0m         \u001b[38;5;28;01mif\u001b[39;00m valor \u001b[38;5;241m%\u001b[39m i \u001b[38;5;241m==\u001b[39m \u001b[38;5;241m0\u001b[39m: \u001b[38;5;66;03m# Quiere decir que si existe divisor intermedio, además del divisor 1 y el número, entonces no será primo\u001b[39;00m\n\u001b[0;32m     45\u001b[0m             primo \u001b[38;5;241m=\u001b[39m \u001b[38;5;28;01mFalse\u001b[39;00m            \n",
      "\u001b[1;31mTypeError\u001b[0m: 'str' object cannot be interpreted as an integer"
     ]
    }
   ],
   "source": [
    "f1.verifica_primo()"
   ]
  },
  {
   "cell_type": "code",
   "execution_count": 100,
   "metadata": {},
   "outputs": [
    {
     "name": "stdout",
     "output_type": "stream",
     "text": [
      "El número más repetido en la lista es el 1 y se repitió 2 veces\n"
     ]
    }
   ],
   "source": [
    "f1.verifica_valor_modal()"
   ]
  },
  {
   "cell_type": "code",
   "execution_count": 101,
   "metadata": {},
   "outputs": [
    {
     "ename": "TypeError",
     "evalue": "can only concatenate str (not \"float\") to str",
     "output_type": "error",
     "traceback": [
      "\u001b[1;31m---------------------------------------------------------------------------\u001b[0m",
      "\u001b[1;31mTypeError\u001b[0m                                 Traceback (most recent call last)",
      "Cell \u001b[1;32mIn[101], line 1\u001b[0m\n\u001b[1;32m----> 1\u001b[0m \u001b[43mf1\u001b[49m\u001b[38;5;241;43m.\u001b[39;49m\u001b[43mverifica_conversion_grados\u001b[49m\u001b[43m(\u001b[49m\u001b[38;5;124;43m\"\u001b[39;49m\u001b[38;5;124;43mCelsius\u001b[39;49m\u001b[38;5;124;43m\"\u001b[39;49m\u001b[43m,\u001b[49m\u001b[38;5;124;43m\"\u001b[39;49m\u001b[38;5;124;43mKelvin\u001b[39;49m\u001b[38;5;124;43m\"\u001b[39;49m\u001b[43m)\u001b[49m\n",
      "File \u001b[1;32mc:\\Users\\Willy y Martín\\Desktop\\Python-Prep\\M09_errorhandling\\Funciones_bis.py:30\u001b[0m, in \u001b[0;36mFunciones_bis.verifica_conversion_grados\u001b[1;34m(self, origen, destino)\u001b[0m\n\u001b[0;32m     27\u001b[0m \u001b[38;5;66;03m#-----------LO ANTERIOR ES LA VALIDACIÓN DE DATOS------------\u001b[39;00m\n\u001b[0;32m     29\u001b[0m \u001b[38;5;28;01mfor\u001b[39;00m i \u001b[38;5;129;01min\u001b[39;00m \u001b[38;5;28mself\u001b[39m\u001b[38;5;241m.\u001b[39mlista:   \u001b[38;5;66;03m# lo mismo\u001b[39;00m\n\u001b[1;32m---> 30\u001b[0m     \u001b[38;5;28mprint\u001b[39m(\u001b[38;5;124mf\u001b[39m\u001b[38;5;124m'\u001b[39m\u001b[38;5;132;01m{\u001b[39;00mi\u001b[38;5;132;01m}\u001b[39;00m\u001b[38;5;124m grados \u001b[39m\u001b[38;5;132;01m{\u001b[39;00morigen\u001b[38;5;132;01m}\u001b[39;00m\u001b[38;5;124m es equivalente a \u001b[39m\u001b[38;5;132;01m{\u001b[39;00m\u001b[38;5;28;43mself\u001b[39;49m\u001b[38;5;241;43m.\u001b[39;49m\u001b[43m__verifica_conversion_grados\u001b[49m\u001b[43m(\u001b[49m\u001b[43mi\u001b[49m\u001b[43m,\u001b[49m\u001b[43morigen\u001b[49m\u001b[43m,\u001b[49m\u001b[43mdestino\u001b[49m\u001b[43m)\u001b[49m\u001b[38;5;132;01m}\u001b[39;00m\u001b[38;5;124m grados \u001b[39m\u001b[38;5;132;01m{\u001b[39;00mdestino\u001b[38;5;132;01m}\u001b[39;00m\u001b[38;5;124m'\u001b[39m)\n",
      "File \u001b[1;32mc:\\Users\\Willy y Martín\\Desktop\\Python-Prep\\M09_errorhandling\\Funciones_bis.py:65\u001b[0m, in \u001b[0;36mFunciones_bis.__verifica_conversion_grados\u001b[1;34m(self, valor, origen, destino)\u001b[0m\n\u001b[0;32m     63\u001b[0m     rta \u001b[38;5;241m=\u001b[39m celcius_farenheit\n\u001b[0;32m     64\u001b[0m \u001b[38;5;28;01melif\u001b[39;00m destino \u001b[38;5;241m==\u001b[39m \u001b[38;5;124m'\u001b[39m\u001b[38;5;124mKelvin\u001b[39m\u001b[38;5;124m'\u001b[39m:\n\u001b[1;32m---> 65\u001b[0m     celsius_kelvin \u001b[38;5;241m=\u001b[39m \u001b[43mvalor\u001b[49m\u001b[43m \u001b[49m\u001b[38;5;241;43m+\u001b[39;49m\u001b[43m \u001b[49m\u001b[38;5;241;43m273.15\u001b[39;49m\n\u001b[0;32m     66\u001b[0m     rta \u001b[38;5;241m=\u001b[39m celsius_kelvin\n\u001b[0;32m     67\u001b[0m \u001b[38;5;28;01melse\u001b[39;00m:\n",
      "\u001b[1;31mTypeError\u001b[0m: can only concatenate str (not \"float\") to str"
     ]
    }
   ],
   "source": [
    "f1.verifica_conversion_grados(\"Celsius\",\"Kelvin\")"
   ]
  },
  {
   "cell_type": "code",
   "execution_count": 102,
   "metadata": {},
   "outputs": [
    {
     "name": "stdout",
     "output_type": "stream",
     "text": [
      "ERROR. La variable no es un entero\n",
      "El factorial de a es None\n",
      "El factorial de 9 es 362880\n",
      "El factorial de 8 es 40320\n",
      "El factorial de 7 es 5040\n",
      "El factorial de 1 es 1\n",
      "El factorial de 5 es 120\n",
      "El factorial de 4 es 24\n",
      "El factorial de 3 es 6\n",
      "El factorial de 2 es 2\n",
      "El factorial de 1 es 1\n"
     ]
    }
   ],
   "source": [
    "f1.verifica_factorial()"
   ]
  },
  {
   "attachments": {},
   "cell_type": "markdown",
   "metadata": {},
   "source": [
    "2) En la función que hace la conversión de grados, validar que los parámetros enviados sean los esperados, de no serlo, informar cuáles son los valores esperados."
   ]
  },
  {
   "cell_type": "code",
   "execution_count": 103,
   "metadata": {},
   "outputs": [
    {
     "data": {
      "text/plain": [
       "<module 'Funciones_bis' from 'c:\\\\Users\\\\Willy y Martín\\\\Desktop\\\\Python-Prep\\\\M09_errorhandling\\\\Funciones_bis.py'>"
      ]
     },
     "execution_count": 103,
     "metadata": {},
     "output_type": "execute_result"
    }
   ],
   "source": [
    "import importlib  #se importa el módulo importlib, el cual proporciona funciones para recargar (reload) módulos previamente importados. \n",
    "importlib.reload(fb)  # la función reload() de importlib recargar el módulo herramientas (previamente importado y asignado a un alias h)."
   ]
  },
  {
   "cell_type": "code",
   "execution_count": 104,
   "metadata": {},
   "outputs": [],
   "source": [
    "f1 = fb.Funciones_bis([2,3,5,6,2])"
   ]
  },
  {
   "cell_type": "code",
   "execution_count": null,
   "metadata": {},
   "outputs": [],
   "source": [
    "# Lo siguiente es lo que deberia modificar dentro del archivo Funciones_bis.py\n",
    "\"\"\"\n",
    "\n",
    "#Antes:\n",
    "    def verifica_conversion_grados(self,origen,destino):\n",
    "        for i in self.lista:   # lo mismo\n",
    "            print(f'{i} grados {origen} es equivalente a {self.__verifica_conversion_grados(i,origen,destino)} grados {destino}')\n",
    "\n",
    "#Después:\n",
    "\n",
    "    def verifica_conversion_grados(self,origen,destino):\n",
    "\n",
    "        ingresos_validos = ['celsius','kelvin','farenheit']\n",
    "        lista_valores_ok = []\n",
    "        if str(origen) not in ingresos_validos:\n",
    "            print('Solo hay tres opciones posibles:', ingresos_validos, '(No olvide las Mayúsculas)')\n",
    "            return lista_valores_ok\n",
    "        if str(destino) not in ingresos_validos:\n",
    "            print('Solo hay tres opciones posibles:', ingresos_validos, '(No olvide las Mayúsculas)')\n",
    "            return lista_valores_ok\n",
    "\n",
    "\n",
    "        for i in self.lista:   # lo mismo\n",
    "            print(f'{i} grados {origen} es equivalente a {self.__verifica_conversion_grados(i,origen,destino)} grados {destino}')\n",
    "\n",
    "\n",
    "\"\"\""
   ]
  },
  {
   "cell_type": "code",
   "execution_count": 105,
   "metadata": {},
   "outputs": [
    {
     "name": "stdout",
     "output_type": "stream",
     "text": [
      "Solo hay tres opciones posibles: ['Celsius', 'Kelvin', 'Farenheit'] (No olvide las Mayúsculas)\n"
     ]
    },
    {
     "data": {
      "text/plain": [
       "[]"
      ]
     },
     "execution_count": 105,
     "metadata": {},
     "output_type": "execute_result"
    }
   ],
   "source": [
    "f1.verifica_conversion_grados(1,2)"
   ]
  },
  {
   "cell_type": "code",
   "execution_count": 106,
   "metadata": {},
   "outputs": [
    {
     "name": "stdout",
     "output_type": "stream",
     "text": [
      "2 grados Celsius es equivalente a 35.6 grados Farenheit\n",
      "3 grados Celsius es equivalente a 37.4 grados Farenheit\n",
      "5 grados Celsius es equivalente a 41.0 grados Farenheit\n",
      "6 grados Celsius es equivalente a 42.8 grados Farenheit\n",
      "2 grados Celsius es equivalente a 35.6 grados Farenheit\n"
     ]
    }
   ],
   "source": [
    "f1.verifica_conversion_grados('Celsius','Farenheit')"
   ]
  },
  {
   "attachments": {},
   "cell_type": "markdown",
   "metadata": {},
   "source": [
    "3) Importar el modulo \"unittest\" y crear los siguientes casos de pruebas sobre la clase utilizada en el punto 2<br>\n",
    "Creacion del objeto incorrecta<br>\n",
    "Creacion correcta del objeto<br>\n",
    "Metodo valor_modal()<br>\n",
    "\n",
    "Se puede usar \"raise ValueError()\" en la creación de la clase para verificar el error. Investigar sobre esta funcionalidad."
   ]
  },
  {
   "cell_type": "code",
   "execution_count": 107,
   "metadata": {},
   "outputs": [],
   "source": [
    "import unittest"
   ]
  },
  {
   "cell_type": "code",
   "execution_count": 109,
   "metadata": {},
   "outputs": [],
   "source": [
    "class Prueba_clase(unittest.TestCase):\n",
    "    \n",
    "    def test_creacion_correcta(self):\n",
    "        param = 'valor de prueba'\n",
    "        self.assertRaises(ValueError, fb.Funciones_bis, param) #Hubo ERROR (había puesto Funciones_bis sin mayúscula)\n",
    "        #self.failUnlessRaises(ValueError, h.Herramientas, param)\n",
    "\n",
    "    def test_creacion_incorrecta(self):\n",
    "        param = [1,3,5]\n",
    "        f1 = fb.Funciones_bis(param) #Hubo ERROR (había puesto Funciones_bis sin mayúscula)\n",
    "        self.assertEqual(f1.lista, param)\n",
    "\n",
    "    def test_valor_modal(self):\n",
    "        lis = [2,4,6]\n",
    "        f1 = fb.Funciones_bis(lis) #Hubo ERROR (había puesto Funciones_bis sin mayúscula)\n",
    "        moda, veces = f1.verifica_valor_modal(False)\n",
    "        moda = [moda]\n",
    "        moda.append(veces)\n",
    "        resultado = [1, 2]\n",
    "        self.assertEqual(moda, resultado)"
   ]
  },
  {
   "cell_type": "code",
   "execution_count": 110,
   "metadata": {},
   "outputs": [
    {
     "name": "stderr",
     "output_type": "stream",
     "text": [
      "test_creacion_correcta (__main__.Prueba_clase.test_creacion_correcta) ... FAIL\n",
      "test_creacion_incorrecta (__main__.Prueba_clase.test_creacion_incorrecta) ... ok\n",
      "test_valor_modal (__main__.Prueba_clase.test_valor_modal) ... ERROR\n",
      "test_verificar_primos (__main__.Prueba_clase_2.test_verificar_primos) ... FAIL\n",
      "test_verifica_conversion_grados (__main__.Prueba_clase_3.test_verifica_conversion_grados) ... ERROR\n",
      "test_verifica_factorial (__main__.Prueba_clase_4.test_verifica_factorial) ... ERROR\n",
      "\n",
      "======================================================================\n",
      "ERROR: test_valor_modal (__main__.Prueba_clase.test_valor_modal)\n",
      "----------------------------------------------------------------------\n",
      "Traceback (most recent call last):\n",
      "  File \"C:\\Users\\Willy y Martín\\AppData\\Local\\Temp\\ipykernel_20744\\1306363743.py\", line 16, in test_valor_modal\n",
      "    moda, veces = f1.verifica_valor_modal(False)\n",
      "                  ^^^^^^^^^^^^^^^^^^^^^^^^^^^^^^\n",
      "TypeError: Funciones_bis.verifica_valor_modal() takes 1 positional argument but 2 were given\n",
      "\n",
      "======================================================================\n",
      "ERROR: test_verifica_conversion_grados (__main__.Prueba_clase_3.test_verifica_conversion_grados)\n",
      "----------------------------------------------------------------------\n",
      "Traceback (most recent call last):\n",
      "  File \"C:\\Users\\Willy y Martín\\AppData\\Local\\Temp\\ipykernel_20744\\4211920249.py\", line 6, in test_verifica_conversion_grados\n",
      "    grados = f1.conversion_grados('Celsius','Farenheit')\n",
      "             ^^^^^^^^^^^^^^^^^^^^\n",
      "AttributeError: 'Funciones_bis' object has no attribute 'conversion_grados'\n",
      "\n",
      "======================================================================\n",
      "ERROR: test_verifica_factorial (__main__.Prueba_clase_4.test_verifica_factorial)\n",
      "----------------------------------------------------------------------\n",
      "Traceback (most recent call last):\n",
      "  File \"C:\\Users\\Willy y Martín\\AppData\\Local\\Temp\\ipykernel_20744\\3845404333.py\", line 6, in test_verifica_factorial\n",
      "    factorial = f1.factorial()\n",
      "                ^^^^^^^^^^^^\n",
      "AttributeError: 'Funciones_bis' object has no attribute 'factorial'\n",
      "\n",
      "======================================================================\n",
      "FAIL: test_creacion_correcta (__main__.Prueba_clase.test_creacion_correcta)\n",
      "----------------------------------------------------------------------\n",
      "Traceback (most recent call last):\n",
      "  File \"C:\\Users\\Willy y Martín\\AppData\\Local\\Temp\\ipykernel_20744\\1306363743.py\", line 5, in test_creacion_correcta\n",
      "    self.assertRaises(ValueError, fb.Funciones_bis, param) #Hubo ERROR (había puesto Funciones_bis sin mayúscula)\n",
      "    ^^^^^^^^^^^^^^^^^^^^^^^^^^^^^^^^^^^^^^^^^^^^^^^^^^^^^^\n",
      "AssertionError: ValueError not raised by Funciones_bis\n",
      "\n",
      "======================================================================\n",
      "FAIL: test_verificar_primos (__main__.Prueba_clase_2.test_verificar_primos)\n",
      "----------------------------------------------------------------------\n",
      "Traceback (most recent call last):\n",
      "  File \"C:\\Users\\Willy y Martín\\AppData\\Local\\Temp\\ipykernel_20744\\923986795.py\", line 8, in test_verificar_primos\n",
      "    self.assertEqual(primos, valor_esperado)\n",
      "AssertionError: None != [True, True, True, False, True, False, True, False, False, False]\n",
      "\n",
      "----------------------------------------------------------------------\n",
      "Ran 6 tests in 0.007s\n",
      "\n",
      "FAILED (failures=2, errors=3)\n"
     ]
    },
    {
     "name": "stdout",
     "output_type": "stream",
     "text": [
      "El 1 es PRIMO\n",
      "El 2 es PRIMO\n",
      "El 3 es PRIMO\n",
      "El 4 NO es PRIMO\n",
      "El 5 es PRIMO\n",
      "El 6 NO es PRIMO\n",
      "El 7 es PRIMO\n",
      "El 8 NO es PRIMO\n",
      "El 9 NO es PRIMO\n",
      "El 10 NO es PRIMO\n"
     ]
    },
    {
     "data": {
      "text/plain": [
       "<unittest.main.TestProgram at 0x23542620dd0>"
      ]
     },
     "execution_count": 110,
     "metadata": {},
     "output_type": "execute_result"
    }
   ],
   "source": [
    "unittest.main(argv=[''], verbosity=2, exit=False)"
   ]
  },
  {
   "attachments": {},
   "cell_type": "markdown",
   "metadata": {},
   "source": [
    "4) Probar una creación incorrecta y visualizar la salida del \"raise\""
   ]
  },
  {
   "cell_type": "code",
   "execution_count": 111,
   "metadata": {},
   "outputs": [],
   "source": [
    "f2 = fb.Funciones_bis('valor no válido')"
   ]
  },
  {
   "attachments": {},
   "cell_type": "markdown",
   "metadata": {},
   "source": [
    "6) Agregar casos de pruebas para el método verifica_primos() realizando el cambio en la clase, para que devuelva una lista de True o False en función de que el elemento en la posisicón sea o no primo"
   ]
  },
  {
   "cell_type": "code",
   "execution_count": 112,
   "metadata": {},
   "outputs": [],
   "source": [
    "class Prueba_clase_2(unittest.TestCase):\n",
    "\n",
    "    def test_verificar_primos(self):\n",
    "        lis = [1,2,3,4,5,6,7,8,9,10] #Elijo valores para hacer el test\n",
    "        f1 = fb.Funciones_bis(lis)\n",
    "        primos = f1.verifica_primo()\n",
    "        valor_esperado = [True, True, True, False, True, False, True, False, False, False] #Completo con los valores esperados\n",
    "        self.assertEqual(primos, valor_esperado)"
   ]
  },
  {
   "cell_type": "code",
   "execution_count": 113,
   "metadata": {},
   "outputs": [
    {
     "data": {
      "text/plain": [
       "<module 'Funciones_bis' from 'c:\\\\Users\\\\Willy y Martín\\\\Desktop\\\\Python-Prep\\\\M09_errorhandling\\\\Funciones_bis.py'>"
      ]
     },
     "execution_count": 113,
     "metadata": {},
     "output_type": "execute_result"
    }
   ],
   "source": [
    "\n",
    "importlib.reload(fb)"
   ]
  },
  {
   "cell_type": "code",
   "execution_count": 114,
   "metadata": {},
   "outputs": [
    {
     "name": "stderr",
     "output_type": "stream",
     "text": [
      "test_creacion_correcta (__main__.Prueba_clase.test_creacion_correcta) ... FAIL\n",
      "test_creacion_incorrecta (__main__.Prueba_clase.test_creacion_incorrecta) ... ok\n",
      "test_valor_modal (__main__.Prueba_clase.test_valor_modal) ... ERROR\n",
      "test_verificar_primos (__main__.Prueba_clase_2.test_verificar_primos) ... FAIL\n",
      "test_verifica_conversion_grados (__main__.Prueba_clase_3.test_verifica_conversion_grados) ... ERROR\n",
      "test_verifica_factorial (__main__.Prueba_clase_4.test_verifica_factorial) ... ERROR\n",
      "\n",
      "======================================================================\n",
      "ERROR: test_valor_modal (__main__.Prueba_clase.test_valor_modal)\n",
      "----------------------------------------------------------------------\n",
      "Traceback (most recent call last):\n",
      "  File \"C:\\Users\\Willy y Martín\\AppData\\Local\\Temp\\ipykernel_20744\\1306363743.py\", line 16, in test_valor_modal\n",
      "    moda, veces = f1.verifica_valor_modal(False)\n",
      "                  ^^^^^^^^^^^^^^^^^^^^^^^^^^^^^^\n",
      "TypeError: Funciones_bis.verifica_valor_modal() takes 1 positional argument but 2 were given\n",
      "\n",
      "======================================================================\n",
      "ERROR: test_verifica_conversion_grados (__main__.Prueba_clase_3.test_verifica_conversion_grados)\n",
      "----------------------------------------------------------------------\n",
      "Traceback (most recent call last):\n",
      "  File \"C:\\Users\\Willy y Martín\\AppData\\Local\\Temp\\ipykernel_20744\\4211920249.py\", line 6, in test_verifica_conversion_grados\n",
      "    grados = f1.conversion_grados('Celsius','Farenheit')\n",
      "             ^^^^^^^^^^^^^^^^^^^^\n",
      "AttributeError: 'Funciones_bis' object has no attribute 'conversion_grados'\n",
      "\n",
      "======================================================================\n",
      "ERROR: test_verifica_factorial (__main__.Prueba_clase_4.test_verifica_factorial)\n",
      "----------------------------------------------------------------------\n",
      "Traceback (most recent call last):\n",
      "  File \"C:\\Users\\Willy y Martín\\AppData\\Local\\Temp\\ipykernel_20744\\3845404333.py\", line 6, in test_verifica_factorial\n",
      "    factorial = f1.factorial()\n",
      "                ^^^^^^^^^^^^\n",
      "AttributeError: 'Funciones_bis' object has no attribute 'factorial'\n",
      "\n",
      "======================================================================\n",
      "FAIL: test_creacion_correcta (__main__.Prueba_clase.test_creacion_correcta)\n",
      "----------------------------------------------------------------------\n",
      "Traceback (most recent call last):\n",
      "  File \"C:\\Users\\Willy y Martín\\AppData\\Local\\Temp\\ipykernel_20744\\1306363743.py\", line 5, in test_creacion_correcta\n",
      "    self.assertRaises(ValueError, fb.Funciones_bis, param) #Hubo ERROR (había puesto Funciones_bis sin mayúscula)\n",
      "    ^^^^^^^^^^^^^^^^^^^^^^^^^^^^^^^^^^^^^^^^^^^^^^^^^^^^^^\n",
      "AssertionError: ValueError not raised by Funciones_bis\n",
      "\n",
      "======================================================================\n",
      "FAIL: test_verificar_primos (__main__.Prueba_clase_2.test_verificar_primos)\n",
      "----------------------------------------------------------------------\n",
      "Traceback (most recent call last):\n",
      "  File \"C:\\Users\\Willy y Martín\\AppData\\Local\\Temp\\ipykernel_20744\\923986795.py\", line 8, in test_verificar_primos\n",
      "    self.assertEqual(primos, valor_esperado)\n",
      "AssertionError: None != [True, True, True, False, True, False, True, False, False, False]\n",
      "\n",
      "----------------------------------------------------------------------\n",
      "Ran 6 tests in 0.006s\n",
      "\n",
      "FAILED (failures=2, errors=3)\n"
     ]
    },
    {
     "name": "stdout",
     "output_type": "stream",
     "text": [
      "El 1 es PRIMO\n",
      "El 2 es PRIMO\n",
      "El 3 es PRIMO\n",
      "El 4 NO es PRIMO\n",
      "El 5 es PRIMO\n",
      "El 6 NO es PRIMO\n",
      "El 7 es PRIMO\n",
      "El 8 NO es PRIMO\n",
      "El 9 NO es PRIMO\n",
      "El 10 NO es PRIMO\n"
     ]
    },
    {
     "data": {
      "text/plain": [
       "<unittest.main.TestProgram at 0x235428dc490>"
      ]
     },
     "execution_count": 114,
     "metadata": {},
     "output_type": "execute_result"
    }
   ],
   "source": [
    "unittest.main(argv=[''], verbosity=2, exit=False)"
   ]
  },
  {
   "attachments": {},
   "cell_type": "markdown",
   "metadata": {},
   "source": [
    "7) Agregar casos de pruebas para el método conversion_grados()"
   ]
  },
  {
   "cell_type": "code",
   "execution_count": 115,
   "metadata": {},
   "outputs": [],
   "source": [
    "class Prueba_clase_3(unittest.TestCase):\n",
    "\n",
    "    def test_verifica_conversion_grados(self):\n",
    "        lis = [2,3,8,10,13]\n",
    "        f1 = fb.Funciones_bis(lis)\n",
    "        grados = f1.conversion_grados('Celsius','Farenheit')\n",
    "        grados_esperado = [35.6, 37.4, 46.4, 50.0, 55.4]\n",
    "        self.assertEqual(grados, grados_esperado)"
   ]
  },
  {
   "cell_type": "code",
   "execution_count": 116,
   "metadata": {},
   "outputs": [
    {
     "data": {
      "text/plain": [
       "<module 'Funciones_bis' from 'c:\\\\Users\\\\Willy y Martín\\\\Desktop\\\\Python-Prep\\\\M09_errorhandling\\\\Funciones_bis.py'>"
      ]
     },
     "execution_count": 116,
     "metadata": {},
     "output_type": "execute_result"
    }
   ],
   "source": [
    "importlib.reload(fb)"
   ]
  },
  {
   "cell_type": "code",
   "execution_count": 117,
   "metadata": {},
   "outputs": [
    {
     "name": "stderr",
     "output_type": "stream",
     "text": [
      "test_creacion_correcta (__main__.Prueba_clase.test_creacion_correcta) ... FAIL\n",
      "test_creacion_incorrecta (__main__.Prueba_clase.test_creacion_incorrecta) ... ok\n",
      "test_valor_modal (__main__.Prueba_clase.test_valor_modal) ... ERROR\n",
      "test_verificar_primos (__main__.Prueba_clase_2.test_verificar_primos) ... FAIL\n",
      "test_verifica_conversion_grados (__main__.Prueba_clase_3.test_verifica_conversion_grados) ... ERROR\n",
      "test_verifica_factorial (__main__.Prueba_clase_4.test_verifica_factorial) ... ERROR\n",
      "\n",
      "======================================================================\n",
      "ERROR: test_valor_modal (__main__.Prueba_clase.test_valor_modal)\n",
      "----------------------------------------------------------------------\n",
      "Traceback (most recent call last):\n",
      "  File \"C:\\Users\\Willy y Martín\\AppData\\Local\\Temp\\ipykernel_20744\\1306363743.py\", line 16, in test_valor_modal\n",
      "    moda, veces = f1.verifica_valor_modal(False)\n",
      "                  ^^^^^^^^^^^^^^^^^^^^^^^^^^^^^^\n",
      "TypeError: Funciones_bis.verifica_valor_modal() takes 1 positional argument but 2 were given\n",
      "\n",
      "======================================================================\n",
      "ERROR: test_verifica_conversion_grados (__main__.Prueba_clase_3.test_verifica_conversion_grados)\n",
      "----------------------------------------------------------------------\n",
      "Traceback (most recent call last):\n",
      "  File \"C:\\Users\\Willy y Martín\\AppData\\Local\\Temp\\ipykernel_20744\\4211920249.py\", line 6, in test_verifica_conversion_grados\n",
      "    grados = f1.conversion_grados('Celsius','Farenheit')\n",
      "             ^^^^^^^^^^^^^^^^^^^^\n",
      "AttributeError: 'Funciones_bis' object has no attribute 'conversion_grados'\n",
      "\n",
      "======================================================================\n",
      "ERROR: test_verifica_factorial (__main__.Prueba_clase_4.test_verifica_factorial)\n",
      "----------------------------------------------------------------------\n",
      "Traceback (most recent call last):\n",
      "  File \"C:\\Users\\Willy y Martín\\AppData\\Local\\Temp\\ipykernel_20744\\3845404333.py\", line 6, in test_verifica_factorial\n",
      "    factorial = f1.factorial()\n",
      "                ^^^^^^^^^^^^\n",
      "AttributeError: 'Funciones_bis' object has no attribute 'factorial'\n",
      "\n",
      "======================================================================\n",
      "FAIL: test_creacion_correcta (__main__.Prueba_clase.test_creacion_correcta)\n",
      "----------------------------------------------------------------------\n",
      "Traceback (most recent call last):\n",
      "  File \"C:\\Users\\Willy y Martín\\AppData\\Local\\Temp\\ipykernel_20744\\1306363743.py\", line 5, in test_creacion_correcta\n",
      "    self.assertRaises(ValueError, fb.Funciones_bis, param) #Hubo ERROR (había puesto Funciones_bis sin mayúscula)\n",
      "    ^^^^^^^^^^^^^^^^^^^^^^^^^^^^^^^^^^^^^^^^^^^^^^^^^^^^^^\n",
      "AssertionError: ValueError not raised by Funciones_bis\n",
      "\n",
      "======================================================================\n",
      "FAIL: test_verificar_primos (__main__.Prueba_clase_2.test_verificar_primos)\n",
      "----------------------------------------------------------------------\n",
      "Traceback (most recent call last):\n",
      "  File \"C:\\Users\\Willy y Martín\\AppData\\Local\\Temp\\ipykernel_20744\\923986795.py\", line 8, in test_verificar_primos\n",
      "    self.assertEqual(primos, valor_esperado)\n",
      "AssertionError: None != [True, True, True, False, True, False, True, False, False, False]\n",
      "\n",
      "----------------------------------------------------------------------\n",
      "Ran 6 tests in 0.006s\n",
      "\n",
      "FAILED (failures=2, errors=3)\n"
     ]
    },
    {
     "name": "stdout",
     "output_type": "stream",
     "text": [
      "El 1 es PRIMO\n",
      "El 2 es PRIMO\n",
      "El 3 es PRIMO\n",
      "El 4 NO es PRIMO\n",
      "El 5 es PRIMO\n",
      "El 6 NO es PRIMO\n",
      "El 7 es PRIMO\n",
      "El 8 NO es PRIMO\n",
      "El 9 NO es PRIMO\n",
      "El 10 NO es PRIMO\n"
     ]
    },
    {
     "data": {
      "text/plain": [
       "<unittest.main.TestProgram at 0x2354275d350>"
      ]
     },
     "execution_count": 117,
     "metadata": {},
     "output_type": "execute_result"
    }
   ],
   "source": [
    "unittest.main(argv=[''], verbosity=2, exit=False)"
   ]
  },
  {
   "attachments": {},
   "cell_type": "markdown",
   "metadata": {},
   "source": [
    "8) Agregar casos de pruebas para el método factorial()"
   ]
  },
  {
   "cell_type": "code",
   "execution_count": 118,
   "metadata": {},
   "outputs": [],
   "source": [
    "class Prueba_clase_4(unittest.TestCase):\n",
    "\n",
    "    def test_verifica_factorial(self):\n",
    "        lis = [2,3,8,10,13]\n",
    "        h1 = fb.Funciones_bis(lis)\n",
    "        factorial = f1.factorial()\n",
    "        factorial_esperado = [2, 6, 40320, 3628800, 6227020800]\n",
    "        self.assertEqual(factorial, factorial_esperado)"
   ]
  },
  {
   "cell_type": "code",
   "execution_count": 119,
   "metadata": {},
   "outputs": [
    {
     "data": {
      "text/plain": [
       "<module 'Funciones_bis' from 'c:\\\\Users\\\\Willy y Martín\\\\Desktop\\\\Python-Prep\\\\M09_errorhandling\\\\Funciones_bis.py'>"
      ]
     },
     "execution_count": 119,
     "metadata": {},
     "output_type": "execute_result"
    }
   ],
   "source": [
    "importlib.reload(fb)"
   ]
  },
  {
   "cell_type": "code",
   "execution_count": 120,
   "metadata": {},
   "outputs": [
    {
     "name": "stderr",
     "output_type": "stream",
     "text": [
      "test_creacion_correcta (__main__.Prueba_clase.test_creacion_correcta) ... FAIL\n",
      "test_creacion_incorrecta (__main__.Prueba_clase.test_creacion_incorrecta) ... ok\n",
      "test_valor_modal (__main__.Prueba_clase.test_valor_modal) ... ERROR\n",
      "test_verificar_primos (__main__.Prueba_clase_2.test_verificar_primos) ... FAIL\n",
      "test_verifica_conversion_grados (__main__.Prueba_clase_3.test_verifica_conversion_grados) ... ERROR\n",
      "test_verifica_factorial (__main__.Prueba_clase_4.test_verifica_factorial) ... ERROR\n",
      "\n",
      "======================================================================\n",
      "ERROR: test_valor_modal (__main__.Prueba_clase.test_valor_modal)\n",
      "----------------------------------------------------------------------\n",
      "Traceback (most recent call last):\n",
      "  File \"C:\\Users\\Willy y Martín\\AppData\\Local\\Temp\\ipykernel_20744\\1306363743.py\", line 16, in test_valor_modal\n",
      "    moda, veces = f1.verifica_valor_modal(False)\n",
      "                  ^^^^^^^^^^^^^^^^^^^^^^^^^^^^^^\n",
      "TypeError: Funciones_bis.verifica_valor_modal() takes 1 positional argument but 2 were given\n",
      "\n",
      "======================================================================\n",
      "ERROR: test_verifica_conversion_grados (__main__.Prueba_clase_3.test_verifica_conversion_grados)\n",
      "----------------------------------------------------------------------\n",
      "Traceback (most recent call last):\n",
      "  File \"C:\\Users\\Willy y Martín\\AppData\\Local\\Temp\\ipykernel_20744\\4211920249.py\", line 6, in test_verifica_conversion_grados\n",
      "    grados = f1.conversion_grados('Celsius','Farenheit')\n",
      "             ^^^^^^^^^^^^^^^^^^^^\n",
      "AttributeError: 'Funciones_bis' object has no attribute 'conversion_grados'\n",
      "\n",
      "======================================================================\n",
      "ERROR: test_verifica_factorial (__main__.Prueba_clase_4.test_verifica_factorial)\n",
      "----------------------------------------------------------------------\n",
      "Traceback (most recent call last):\n",
      "  File \"C:\\Users\\Willy y Martín\\AppData\\Local\\Temp\\ipykernel_20744\\3845404333.py\", line 6, in test_verifica_factorial\n",
      "    factorial = f1.factorial()\n",
      "                ^^^^^^^^^^^^\n",
      "AttributeError: 'Funciones_bis' object has no attribute 'factorial'\n",
      "\n",
      "======================================================================\n",
      "FAIL: test_creacion_correcta (__main__.Prueba_clase.test_creacion_correcta)\n",
      "----------------------------------------------------------------------\n",
      "Traceback (most recent call last):\n",
      "  File \"C:\\Users\\Willy y Martín\\AppData\\Local\\Temp\\ipykernel_20744\\1306363743.py\", line 5, in test_creacion_correcta\n",
      "    self.assertRaises(ValueError, fb.Funciones_bis, param) #Hubo ERROR (había puesto Funciones_bis sin mayúscula)\n",
      "    ^^^^^^^^^^^^^^^^^^^^^^^^^^^^^^^^^^^^^^^^^^^^^^^^^^^^^^\n",
      "AssertionError: ValueError not raised by Funciones_bis\n",
      "\n",
      "======================================================================\n",
      "FAIL: test_verificar_primos (__main__.Prueba_clase_2.test_verificar_primos)\n",
      "----------------------------------------------------------------------\n",
      "Traceback (most recent call last):\n",
      "  File \"C:\\Users\\Willy y Martín\\AppData\\Local\\Temp\\ipykernel_20744\\923986795.py\", line 8, in test_verificar_primos\n",
      "    self.assertEqual(primos, valor_esperado)\n",
      "AssertionError: None != [True, True, True, False, True, False, True, False, False, False]\n",
      "\n",
      "----------------------------------------------------------------------\n",
      "Ran 6 tests in 0.007s\n",
      "\n",
      "FAILED (failures=2, errors=3)\n"
     ]
    },
    {
     "name": "stdout",
     "output_type": "stream",
     "text": [
      "El 1 es PRIMO\n",
      "El 2 es PRIMO\n",
      "El 3 es PRIMO\n",
      "El 4 NO es PRIMO\n",
      "El 5 es PRIMO\n",
      "El 6 NO es PRIMO\n",
      "El 7 es PRIMO\n",
      "El 8 NO es PRIMO\n",
      "El 9 NO es PRIMO\n",
      "El 10 NO es PRIMO\n"
     ]
    },
    {
     "data": {
      "text/plain": [
       "<unittest.main.TestProgram at 0x235427380d0>"
      ]
     },
     "execution_count": 120,
     "metadata": {},
     "output_type": "execute_result"
    }
   ],
   "source": [
    "unittest.main(argv=[''], verbosity=2, exit=False)"
   ]
  },
  {
   "cell_type": "code",
   "execution_count": null,
   "metadata": {},
   "outputs": [],
   "source": []
  },
  {
   "cell_type": "code",
   "execution_count": null,
   "metadata": {},
   "outputs": [],
   "source": []
  },
  {
   "cell_type": "code",
   "execution_count": null,
   "metadata": {},
   "outputs": [],
   "source": []
  },
  {
   "cell_type": "code",
   "execution_count": null,
   "metadata": {},
   "outputs": [],
   "source": []
  }
 ],
 "metadata": {
  "interpreter": {
   "hash": "c85384e4cb51c8b72350f3a8712cc8351fdc3955e32a27f9b60c6242ab125f01"
  },
  "kernelspec": {
   "display_name": "Python 3 (ipykernel)",
   "language": "python",
   "name": "python3"
  },
  "language_info": {
   "codemirror_mode": {
    "name": "ipython",
    "version": 3
   },
   "file_extension": ".py",
   "mimetype": "text/x-python",
   "name": "python",
   "nbconvert_exporter": "python",
   "pygments_lexer": "ipython3",
   "version": "3.11.6"
  }
 },
 "nbformat": 4,
 "nbformat_minor": 4
}
